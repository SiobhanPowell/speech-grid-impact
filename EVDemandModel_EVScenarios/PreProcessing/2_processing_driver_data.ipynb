{
 "cells": [
  {
   "cell_type": "code",
   "execution_count": 1,
   "metadata": {},
   "outputs": [],
   "source": [
    "import pandas as pd\n",
    "import numpy as np\n",
    "import matplotlib.pyplot as plt\n",
    "import boto3"
   ]
  },
  {
   "cell_type": "markdown",
   "metadata": {},
   "source": [
    "# Driver Data Processing\n",
    "This notebook calculates the statistics used to describe each driver in the clustering.\n",
    "\n",
    "Developed by Siobhan Powell, 2021. "
   ]
  },
  {
   "cell_type": "code",
   "execution_count": null,
   "metadata": {},
   "outputs": [],
   "source": [
    "s3_data_location = '' # fill in with own data folder"
   ]
  },
  {
   "cell_type": "code",
   "execution_count": 2,
   "metadata": {},
   "outputs": [
    {
     "name": "stdout",
     "output_type": "stream",
     "text": [
      "2019\n"
     ]
    },
    {
     "name": "stderr",
     "output_type": "stream",
     "text": [
      "/opt/anaconda3/lib/python3.7/site-packages/IPython/core/interactiveshell.py:3058: DtypeWarning: Columns (20) have mixed types. Specify dtype option on import or set low_memory=False.\n",
      "  interactivity=interactivity, compiler=compiler, result=result)\n",
      "/opt/anaconda3/lib/python3.7/site-packages/numpy/lib/arraysetops.py:569: FutureWarning: elementwise comparison failed; returning scalar instead, but in the future will perform elementwise comparison\n",
      "  mask |= (ar1 == a)\n"
     ]
    },
    {
     "name": "stdout",
     "output_type": "stream",
     "text": [
      "Num sessions:  6092256\n",
      "Num drivers:  118978\n"
     ]
    }
   ],
   "source": [
    "# missing september data in 2019\n",
    "weekdays_ct = {'2015':5*52+1, '2016':5*52+1, '2017':5*52, '2018':5*52+1, '2019':(5*52+1)-(5*4+1), '2020':5*52+2}\n",
    "weekends_ct = {'2015':2*52, '2016':2*52+1, '2017':2*52+1, '2018':2*52, '2019': (2*52)-(2*4+1), '2020':2*52}\n",
    "\n",
    "# Use 2019 data\n",
    "year = '2019'\n",
    "data = pd.read_csv(s3_data_location+'sessions'+year+'.csv', index_col=0)\n",
    "\n",
    "print('Num sessions: ', len(data))\n",
    "drivers = list(set(data['Driver ID']))\n",
    "print('Num drivers: ', len(drivers))"
   ]
  },
  {
   "cell_type": "markdown",
   "metadata": {},
   "source": [
    "## Cleaning\n",
    "Remove data with impossible battery capacity label; keep only plugin EVs, not hybrids"
   ]
  },
  {
   "cell_type": "code",
   "execution_count": 3,
   "metadata": {},
   "outputs": [
    {
     "data": {
      "text/plain": [
       "0.49746924620370514"
      ]
     },
     "execution_count": 3,
     "metadata": {},
     "output_type": "execute_result"
    }
   ],
   "source": [
    "data['EV Type'].isna().sum() / len(data)"
   ]
  },
  {
   "cell_type": "code",
   "execution_count": 4,
   "metadata": {},
   "outputs": [
    {
     "data": {
      "text/plain": [
       "PLUGIN    2373946\n",
       "HYBRID     687600\n",
       "Name: EV Type, dtype: int64"
      ]
     },
     "execution_count": 4,
     "metadata": {},
     "output_type": "execute_result"
    }
   ],
   "source": [
    "data['EV Type'].value_counts()"
   ]
  },
  {
   "cell_type": "code",
   "execution_count": 5,
   "metadata": {},
   "outputs": [
    {
     "name": "stderr",
     "output_type": "stream",
     "text": [
      "/opt/anaconda3/lib/python3.7/site-packages/numpy/lib/histograms.py:839: RuntimeWarning: invalid value encountered in greater_equal\n",
      "  keep = (tmp_a >= first_edge)\n",
      "/opt/anaconda3/lib/python3.7/site-packages/numpy/lib/histograms.py:840: RuntimeWarning: invalid value encountered in less_equal\n",
      "  keep &= (tmp_a <= last_edge)\n"
     ]
    },
    {
     "data": {
      "image/png": "[encoded data removed]",
      "text/plain": [
       "<Figure size 432x288 with 1 Axes>"
      ]
     },
     "metadata": {
      "needs_background": "light"
     },
     "output_type": "display_data"
    }
   ],
   "source": [
    "plt.hist(data[data['EV Type'].isna()]['Battery Capacity'], 30)\n",
    "plt.show()"
   ]
  },
  {
   "cell_type": "code",
   "execution_count": 11,
   "metadata": {},
   "outputs": [
    {
     "name": "stdout",
     "output_type": "stream",
     "text": [
      "Total number of drivers:  118978\n",
      "On driver  0\n",
      "On driver  10000\n",
      "On driver  20000\n",
      "On driver  30000\n",
      "On driver  40000\n",
      "On driver  50000\n",
      "On driver  60000\n",
      "On driver  70000\n",
      "On driver  80000\n",
      "On driver  90000\n",
      "On driver  100000\n",
      "On driver  110000\n",
      "Keeping fraction:  0.8077459698431643\n",
      "Keeping fraction:  0.6173326161139034\n"
     ]
    }
   ],
   "source": [
    "keep_drivers1 = []\n",
    "keep_drivers2 = []\n",
    "all_drivers = list(set(data['Driver ID']))\n",
    "print('Total number of drivers: ', len(all_drivers))\n",
    "for i in range(len(all_drivers)):\n",
    "    if np.mod(i, 10000) == 0:\n",
    "        print('On driver ', i)\n",
    "    driver = all_drivers[i]\n",
    "    subsub = data[data['Driver ID']==driver]\n",
    "    if subsub['Energy (kWh)'].max() <= subsub['Battery Capacity'].min():\n",
    "        keep_drivers1.append(driver)\n",
    "        if len(list(set(subsub['EV Type']))) > 1:\n",
    "            if 'HYBRID' in list(set(subsub['EV Type'])):\n",
    "                donothing=1\n",
    "            elif 'PLUGIN' in list(set(subsub['EV Type'])):\n",
    "                keep_drivers2.append(driver)\n",
    "        else:\n",
    "            if subsub['EV Type'].values[0] == 'PLUGIN':\n",
    "                keep_drivers2.append(driver)\n",
    "            elif subsub['EV Type'].isna().sum() > 0:\n",
    "                if subsub['Battery Capacity'].min() > 20:\n",
    "                    keep_drivers2.append(driver)\n",
    "\n",
    "print('Keeping fraction: ', len(keep_drivers1) / len(drivers))\n",
    "print('Keeping fraction: ', len(keep_drivers2) / len(drivers))"
   ]
  },
  {
   "cell_type": "code",
   "execution_count": 12,
   "metadata": {},
   "outputs": [
    {
     "data": {
      "text/plain": [
       "73449"
      ]
     },
     "execution_count": 12,
     "metadata": {},
     "output_type": "execute_result"
    }
   ],
   "source": [
    "len(keep_drivers2)"
   ]
  },
  {
   "cell_type": "markdown",
   "metadata": {},
   "source": [
    "## Calculate statistics"
   ]
  },
  {
   "cell_type": "code",
   "execution_count": 13,
   "metadata": {},
   "outputs": [
    {
     "name": "stdout",
     "output_type": "stream",
     "text": [
      "Number of drivers: 30272\n"
     ]
    }
   ],
   "source": [
    "driver_stats = pd.DataFrame({'Unique Driver ID':[0]}, index=[0])\n",
    "\n",
    "weekdays_2019 = weekdays_ct[year]\n",
    "weekends_2019 = weekends_ct[year]\n",
    "\n",
    "i = 0\n",
    "for ct in range(len(keep_drivers2)):\n",
    "    driver = keep_drivers2[ct] \n",
    "    subset = data[data['Driver ID']==driver]\n",
    "    subset = subset.sort_values(by='start_day')\n",
    "    if len(subset) >= 25:\n",
    "\n",
    "        driver_stats.loc[i, 'Unique Driver ID'] = driver\n",
    "\n",
    "        driver_stats.loc[i, 'Num Sessions'] = len(subset)\n",
    "        driver_stats.loc[i, 'Num Zip Codes'] = len(set(subset['Zip Code']))\n",
    "        driver_stats.loc[i, 'Battery Capacity'] = min(list(set(subset['Battery Capacity'])))\n",
    "        \n",
    "        driver_stats.loc[i, 'Total Energy'] = subset['Energy (kWh)'].sum()\n",
    "        driver_stats.loc[i, 'Total Energy - weekday'] = subset[subset['start_weekday'].isin([0, 1, 2, 3, 4])]['Energy (kWh)'].sum()\n",
    "        driver_stats.loc[i, 'Total Energy - weekend'] = subset[subset['start_weekday'].isin([5, 6])]['Energy (kWh)'].sum()\n",
    "\n",
    "        wp_set = subset[subset['POI Category']=='Workplace']\n",
    "        res_set = subset[subset['POI Category']=='Single family residential']\n",
    "        mud_set = subset[subset['POI Category']=='Multifamily Home Service']\n",
    "        other_set = subset[subset['POI Category'].isin(['Education', 'Utility', 'Retail', 'Parking', 'Healthcare', 'Municipal', 'Multifamily Commercial', 'Parks and Recreation', 'Hospitality', 'Government (Fed, State)'])]\n",
    "        other_slow_set = other_set[other_set['Max Power']<20]\n",
    "        other_fast_set = other_set[other_set['Max Power']>=20]\n",
    "\n",
    "        driver_stats.loc[i, 'Num Workplace Sessions'] = len(wp_set)\n",
    "        driver_stats.loc[i, 'Num Single Family Residential Sessions'] = len(res_set)\n",
    "        driver_stats.loc[i, 'Num MUD Sessions'] = len(mud_set)\n",
    "        driver_stats.loc[i, 'Num Other Slow Sessions'] = len(other_slow_set)\n",
    "        driver_stats.loc[i, 'Num Other Fast Sessions'] = len(other_fast_set)\n",
    "\n",
    "        loc_dict = {'Home':res_set, 'Work':wp_set, 'Other Slow':other_slow_set, 'Other Fast':other_fast_set, 'MUD':mud_set}\n",
    "        for location in ['Work', 'Home', 'Other Slow', 'Other Fast', 'MUD']:\n",
    "            subsub = loc_dict[location]\n",
    "            if len(subsub) > 0:\n",
    "                driver_stats.loc[i, location+' - Session energy - mean'] = subsub['Energy (kWh)'].mean()\n",
    "                driver_stats.loc[i, location+' - Session time - mean'] = ((1/3600)*(subsub['Session Time (secs)'])).mean()\n",
    "                driver_stats.loc[i, location+' - Start hour - mean'] = ((1/3600)*(subsub['start_seconds'])).mean()\n",
    "\n",
    "                weekday_subsub = subsub[subsub['start_weekday'].isin([0, 1, 2, 3, 4])]\n",
    "                weekend_subsub = subsub[subsub['start_weekday'].isin([5, 6])]\n",
    "                \n",
    "                driver_stats.loc[i, location+' - Session energy - mean - weekday'] = weekday_subsub['Energy (kWh)'].mean()\n",
    "                driver_stats.loc[i, location+' - Session time - mean - weekday'] = ((1/3600)*(weekday_subsub['Session Time (secs)'])).mean()\n",
    "                driver_stats.loc[i, location+' - Start hour - mean - weekday'] = ((1/3600)*(weekday_subsub['start_seconds'])).mean()\n",
    "                driver_stats.loc[i, location+' - Num Sessions - weekday'] = len(weekday_subsub)\n",
    "                driver_stats.loc[i, location+' - Session energy - mean - weekend'] = weekend_subsub['Energy (kWh)'].mean()\n",
    "                driver_stats.loc[i, location+' - Session time - mean - weekend'] = ((1/3600)*(weekend_subsub['Session Time (secs)'])).mean()\n",
    "                driver_stats.loc[i, location+' - Start hour - mean - weekend'] = ((1/3600)*(weekend_subsub['start_seconds'])).mean()\n",
    "                driver_stats.loc[i, location+' - Num Sessions - weekend'] = len(weekend_subsub)\n",
    "                \n",
    "\n",
    "                driver_stats.loc[i, location+' - Weekend fraction'] = len(weekend_subsub) / len(subset)\n",
    "\n",
    "                driver_stats.loc[i, location+' - Average sessions per weekday'] = len(weekday_subsub) / weekdays_2019\n",
    "                driver_stats.loc[i, location+' - Average sessions per weekendday'] = len(weekend_subsub) / weekends_2019\n",
    "                driver_stats.loc[i, location+' - Fraction of weekdays with session'] = len(set(weekday_subsub['start_day']))/weekdays_2019\n",
    "                driver_stats.loc[i, location+' - Fraction of weekenddays with session'] = len(set(weekend_subsub['start_day']))/weekends_2019\n",
    "\n",
    "            else:\n",
    "                driver_stats.loc[i, location+' - Session energy - mean'] = 0\n",
    "                driver_stats.loc[i, location+' - Session time - mean'] = 0\n",
    "                driver_stats.loc[i, location+' - Start hour - mean'] = 0\n",
    "                driver_stats.loc[i, location+' - Weekend fraction'] = 0\n",
    "                driver_stats.loc[i, location+' - Average sessions per weekday'] = 0\n",
    "                driver_stats.loc[i, location+' - Average sessions per weekendday'] = 0\n",
    "                driver_stats.loc[i, location+' - Fraction of weekdays with session'] = 0\n",
    "                driver_stats.loc[i, location+' - Fraction of weekenddays with session'] = 0\n",
    "                driver_stats.loc[i, location+' - Session energy - mean - weekday'] = 0\n",
    "                driver_stats.loc[i, location+' - Session time - mean - weekday'] = 0\n",
    "                driver_stats.loc[i, location+' - Start hour - mean - weekday'] = 0\n",
    "                driver_stats.loc[i, location+' - Num Sessions - weekday'] = 0\n",
    "                driver_stats.loc[i, location+' - Session energy - mean - weekend'] = 0\n",
    "                driver_stats.loc[i, location+' - Session time - mean - weekend'] = 0\n",
    "                driver_stats.loc[i, location+' - Start hour - mean - weekend'] = 0\n",
    "                driver_stats.loc[i, location+' - Num Sessions - weekend'] = 0\n",
    "\n",
    "\n",
    "        i += 1\n",
    "driver_stats.to_csv(s3_data_location+'sessions'+year+'_driverdata_revised_pev_extra.csv')\n",
    "print('Number of drivers:', len(driver_stats))\n",
    "\n",
    "\n"
   ]
  }
 ],
 "metadata": {
  "kernelspec": {
   "display_name": "Python 3",
   "language": "python",
   "name": "python3"
  },
  "language_info": {
   "codemirror_mode": {
    "name": "ipython",
    "version": 3
   },
   "file_extension": ".py",
   "mimetype": "text/x-python",
   "name": "python",
   "nbconvert_exporter": "python",
   "pygments_lexer": "ipython3",
   "version": "3.7.4"
  }
 },
 "nbformat": 4,
 "nbformat_minor": 4
}
