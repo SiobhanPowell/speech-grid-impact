{
 "cells": [
  {
   "cell_type": "markdown",
   "metadata": {},
   "source": [
    "# Cluster Drivers\n",
    "\n",
    "Developed by Siobhan Powell, 2021.\n",
    "\n",
    "## Precondition clustering on energy\n",
    "To ensure the link between energy and driver cluster in the graphical model, we divide the drivers by their total energy use and cluster to identify behaviour groups within each energy bin. "
   ]
  },
  {
   "cell_type": "code",
   "execution_count": 2,
   "metadata": {
    "scrolled": true
   },
   "outputs": [],
   "source": [
    "import pandas as pd\n",
    "import numpy as np\n",
    "import matplotlib.pyplot as plt\n",
    "import boto3\n",
    "from sklearn.cluster import AgglomerativeClustering\n",
    "from sklearn.mixture import GaussianMixture as GMM\n",
    "import scipy.cluster.hierarchy as shc\n",
    "import pickle"
   ]
  },
  {
   "cell_type": "code",
   "execution_count": null,
   "metadata": {},
   "outputs": [],
   "source": [
    "s3_data_location = '' # fill in with own location"
   ]
  },
  {
   "cell_type": "markdown",
   "metadata": {},
   "source": [
    "# Prepare data"
   ]
  },
  {
   "cell_type": "code",
   "execution_count": 3,
   "metadata": {
    "scrolled": true
   },
   "outputs": [],
   "source": [
    "driver_subset = pd.read_csv(s3_data_location+'sessions'+'2019'+'_driverdata_revised_pev_extra.csv', index_col=0)"
   ]
  },
  {
   "cell_type": "markdown",
   "metadata": {},
   "source": [
    "### Clean\n",
    "\n",
    "Remove drivers with little energy use in the data; assumes they are charging outside the data set in another network for most of their miles. "
   ]
  },
  {
   "cell_type": "code",
   "execution_count": 4,
   "metadata": {
    "scrolled": true
   },
   "outputs": [
    {
     "name": "stdout",
     "output_type": "stream",
     "text": [
      "0.39366411205074\n",
      "0.04208509513742072\n",
      "0.015228594080338267\n",
      "Initial length: 30272\n",
      "0.9436773255813954\n"
     ]
    }
   ],
   "source": [
    "print(len(driver_subset[driver_subset['Total Energy']<1000]) / len(driver_subset))\n",
    "print(len(driver_subset[driver_subset['Total Energy']<250]) / len(driver_subset))\n",
    "print(len(driver_subset[driver_subset['Num Sessions']!=(driver_subset['Num Workplace Sessions'] + driver_subset['Num Single Family Residential Sessions'] + driver_subset['Num MUD Sessions'] + driver_subset['Num Other Slow Sessions'] + driver_subset['Num Other Fast Sessions'])]) / len(driver_subset))\n",
    "\n",
    "len1 = len(driver_subset)\n",
    "print('Initial length: '+str(len(driver_subset)))\n",
    "driver_subset = driver_subset.loc[(driver_subset['Total Energy']>=250)&(driver_subset['Num Sessions']==(driver_subset['Num Workplace Sessions'] + driver_subset['Num Single Family Residential Sessions'] + driver_subset['Num MUD Sessions'] + driver_subset['Num Other Slow Sessions'] + driver_subset['Num Other Fast Sessions']))].reset_index(drop=True).copy(deep=True)\n",
    "print(len(driver_subset)/len1)"
   ]
  },
  {
   "cell_type": "code",
   "execution_count": 5,
   "metadata": {
    "scrolled": true
   },
   "outputs": [
    {
     "name": "stdout",
     "output_type": "stream",
     "text": [
      "28567\n"
     ]
    }
   ],
   "source": [
    "print(len(driver_subset))"
   ]
  },
  {
   "cell_type": "code",
   "execution_count": 9,
   "metadata": {},
   "outputs": [],
   "source": [
    "main_cols = np.array(['Battery Capacity',\n",
    "       'Num Workplace Sessions', 'Num Single Family Residential Sessions',\n",
    "       'Num MUD Sessions', 'Num Other Slow Sessions',\n",
    "       'Num Other Fast Sessions', 'Work - Session energy - mean',\n",
    "       'Work - Session time - mean', 'Work - Start hour - mean',\n",
    "       'Work - Weekend fraction', 'Other Fast - Session energy - mean',\n",
    "       'Other Fast - Session time - mean',\n",
    "       'Other Fast - Start hour - mean', 'Other Fast - Weekend fraction',\n",
    "       'Other Slow - Session energy - mean',\n",
    "       'Other Slow - Session time - mean',\n",
    "       'Other Slow - Start hour - mean', 'Other Slow - Weekend fraction',\n",
    "       'MUD - Session energy - mean', 'MUD - Session time - mean',\n",
    "       'MUD - Start hour - mean', 'MUD - Weekend fraction',\n",
    "       'Home - Session energy - mean', 'Home - Session time - mean',\n",
    "       'Home - Start hour - mean', 'Home - Weekend fraction'])"
   ]
  },
  {
   "cell_type": "code",
   "execution_count": 13,
   "metadata": {},
   "outputs": [],
   "source": [
    "# Fill any missing data\n",
    "for key in driver_subset.isna().sum()[driver_subset.isna().sum() > 0].keys()[1:]:\n",
    "    driver_subset[key] = driver_subset[key].fillna(0)"
   ]
  },
  {
   "cell_type": "code",
   "execution_count": 14,
   "metadata": {},
   "outputs": [
    {
     "data": {
      "text/plain": [
       "Battery Capacity    132\n",
       "dtype: int64"
      ]
     },
     "execution_count": 14,
     "metadata": {},
     "output_type": "execute_result"
    }
   ],
   "source": [
    "driver_subset.isna().sum()[driver_subset.isna().sum() > 0]"
   ]
  },
  {
   "cell_type": "code",
   "execution_count": 15,
   "metadata": {
    "scrolled": true
   },
   "outputs": [
    {
     "name": "stdout",
     "output_type": "stream",
     "text": [
      "Num before:  28567\n",
      "Num after:  28435\n"
     ]
    }
   ],
   "source": [
    "# Drop drivers with missing battery capacity data\n",
    "print('Num before: ',driver_subset.shape[0])\n",
    "driver_subset = driver_subset.dropna(axis=0, subset=main_cols)\n",
    "print('Num after: ',driver_subset.shape[0])"
   ]
  },
  {
   "cell_type": "code",
   "execution_count": 16,
   "metadata": {
    "scrolled": true
   },
   "outputs": [],
   "source": [
    "old_driver_subset = driver_subset.copy(deep=True)"
   ]
  },
  {
   "cell_type": "code",
   "execution_count": 17,
   "metadata": {
    "scrolled": true
   },
   "outputs": [
    {
     "name": "stdout",
     "output_type": "stream",
     "text": [
      "0.9752066115702479\n"
     ]
    }
   ],
   "source": [
    "oldlen = len(old_driver_subset)\n",
    "for col in main_cols:\n",
    "    driver_subset = driver_subset[driver_subset[col] < np.percentile(driver_subset[col], 99.99)]\n",
    "print(len(driver_subset) / oldlen)"
   ]
  },
  {
   "cell_type": "code",
   "execution_count": 18,
   "metadata": {
    "scrolled": true
   },
   "outputs": [
    {
     "data": {
      "text/plain": [
       "27730"
      ]
     },
     "execution_count": 18,
     "metadata": {},
     "output_type": "execute_result"
    }
   ],
   "source": [
    "len(driver_subset)"
   ]
  },
  {
   "cell_type": "markdown",
   "metadata": {},
   "source": [
    "## Preprocess data fro clustering"
   ]
  },
  {
   "cell_type": "code",
   "execution_count": 20,
   "metadata": {
    "scrolled": true
   },
   "outputs": [],
   "source": [
    "def normalize_df(df, cols_keep):\n",
    "    \n",
    "    scaling_df = {'Col':[], 'Shift':[], 'Denom':[]}\n",
    "    df_here = df.loc[:, cols_keep]\n",
    "    for col in cols_keep:\n",
    "        scaling_df['Col'].append(col)\n",
    "        scaling_df['Shift'].append(df_here[col].min())\n",
    "        scaling_df['Denom'].append(df_here[col].max()-df_here[col].min())\n",
    "        df_here[col] = (df_here[col]-df_here[col].min())/(df_here[col].max()-df_here[col].min())\n",
    "    scaling_df = pd.DataFrame(scaling_df)\n",
    "\n",
    "    return df_here, scaling_df\n",
    "\n",
    "def rescale(df, scaling_df, cols):\n",
    "    \n",
    "    rescaled_df = df.loc[:, cols].copy(deep=True)\n",
    "    for col in cols:\n",
    "        rescaled_df = clip_top_p(rescaled_df, col)\n",
    "        idx = scaling_df.loc[scaling_df['Col']==col].index[0]\n",
    "        rescaled_df[col] =  (df[col] - scaling_df.loc[idx, 'Shift']) / scaling_df.loc[idx, 'Denom']\n",
    "    \n",
    "    return rescaled_df"
   ]
  },
  {
   "cell_type": "code",
   "execution_count": 91,
   "metadata": {
    "scrolled": true
   },
   "outputs": [],
   "source": [
    "X_df, scaling_df = normalize_df(driver_subset, main_cols)"
   ]
  },
  {
   "cell_type": "markdown",
   "metadata": {},
   "source": [
    "# Clustering"
   ]
  },
  {
   "cell_type": "code",
   "execution_count": 92,
   "metadata": {},
   "outputs": [],
   "source": [
    "n = 0\n",
    "epairs = [(0., 600.), (600.,1000.), (1000., 1600.), (1600., 2000.), (2000., 3000.), (3000., 4000.), (4000., 6000.)]"
   ]
  },
  {
   "cell_type": "markdown",
   "metadata": {},
   "source": [
    "## Energy bin 1"
   ]
  },
  {
   "cell_type": "code",
   "execution_count": 93,
   "metadata": {},
   "outputs": [
    {
     "data": {
      "image/png": "[encoded data removed]",
      "text/plain": [
       "<Figure size 720x360 with 1 Axes>"
      ]
     },
     "metadata": {
      "needs_background": "light"
     },
     "output_type": "display_data"
    }
   ],
   "source": [
    "j = 0\n",
    "epair = epairs[j]\n",
    "\n",
    "inds = driver_subset.loc[(driver_subset['Total Energy']>epair[0])&(driver_subset['Total Energy']<=epair[1])].index\n",
    "linkage = shc.linkage(X_df.loc[inds, :], method='ward')\n",
    "heights1 = []\n",
    "heights2 = []\n",
    "dend = shc.dendrogram(linkage, truncate_mode='lastp', p=int(2), no_plot=True)\n",
    "oldmin = np.max(np.max(dend['dcoord'], axis=1))\n",
    "nks = np.arange(3, 100)\n",
    "\n",
    "for nk in nks:\n",
    "    dend = shc.dendrogram(linkage, truncate_mode='lastp', p=int(nk), no_plot=True)\n",
    "    heights1.append(oldmin - np.min(np.max(dend['dcoord'], axis=1)))\n",
    "    heights2.append(np.max(np.max(dend['dcoord'], axis=1)) - np.min(np.max(dend['dcoord'], axis=1)))\n",
    "    oldmin = np.min(np.max(dend['dcoord'], axis=1))\n",
    "    \n",
    "plt.figure(figsize=(10,5))\n",
    "plt.plot(nks[np.arange(3, 30)], (np.max(heights2)-heights2)[np.arange(3, 30)], '*-')\n",
    "plt.xticks(nks[np.arange(3, 30)])\n",
    "plt.show()"
   ]
  },
  {
   "cell_type": "code",
   "execution_count": 94,
   "metadata": {},
   "outputs": [
    {
     "data": {
      "image/png": "[encoded data removed]",
      "text/plain": [
       "<Figure size 1440x360 with 1 Axes>"
      ]
     },
     "metadata": {
      "needs_background": "light"
     },
     "output_type": "display_data"
    }
   ],
   "source": [
    "n_j = 21\n",
    "ac = AgglomerativeClustering(n_clusters=n_j, affinity='euclidean', linkage='ward').fit_predict(X_df.loc[inds, :].values)\n",
    "driver_subset.loc[inds, 'Agglom Cluster Number'] = ac\n",
    "\n",
    "fig, axes = plt.subplots(1, 1, figsize=(20,5))\n",
    "dend = shc.dendrogram(linkage, truncate_mode='lastp', p=n_j, show_leaf_counts=True, ax=axes)\n",
    "plt.tight_layout()\n",
    "plt.savefig('dend_precondition_on_energy_set'+str(j)+'_clustnum'+str(n_j)+'.pdf', bbox_inches='tight')\n",
    "plt.show()\n",
    "# X_df.loc[inds, 'Agglom Cluster Number'] = ac"
   ]
  },
  {
   "cell_type": "code",
   "execution_count": 95,
   "metadata": {},
   "outputs": [],
   "source": [
    "n = n + n_j"
   ]
  },
  {
   "cell_type": "markdown",
   "metadata": {},
   "source": [
    "## Energy bin 2"
   ]
  },
  {
   "cell_type": "code",
   "execution_count": 96,
   "metadata": {},
   "outputs": [
    {
     "data": {
      "image/png": "[encoded data removed]",
      "text/plain": [
       "<Figure size 720x360 with 1 Axes>"
      ]
     },
     "metadata": {
      "needs_background": "light"
     },
     "output_type": "display_data"
    }
   ],
   "source": [
    "j = 1\n",
    "epair = epairs[j]\n",
    "\n",
    "inds = driver_subset.loc[(driver_subset['Total Energy']>epair[0])&(driver_subset['Total Energy']<=epair[1])].index\n",
    "linkage = shc.linkage(X_df.loc[inds, :], method='ward')\n",
    "heights1 = []\n",
    "heights2 = []\n",
    "dend = shc.dendrogram(linkage, truncate_mode='lastp', p=int(2), no_plot=True)\n",
    "oldmin = np.max(np.max(dend['dcoord'], axis=1))\n",
    "nks = np.arange(3, 100)\n",
    "\n",
    "for nk in nks:\n",
    "    dend = shc.dendrogram(linkage, truncate_mode='lastp', p=int(nk), no_plot=True)\n",
    "    heights1.append(oldmin - np.min(np.max(dend['dcoord'], axis=1)))\n",
    "    heights2.append(np.max(np.max(dend['dcoord'], axis=1)) - np.min(np.max(dend['dcoord'], axis=1)))\n",
    "    oldmin = np.min(np.max(dend['dcoord'], axis=1))\n",
    "    \n",
    "plt.figure(figsize=(10,5))\n",
    "plt.plot(nks[np.arange(3, 30)], (np.max(heights2)-heights2)[np.arange(3, 30)], '*-')\n",
    "plt.xticks(nks[np.arange(3, 30)])\n",
    "plt.show()"
   ]
  },
  {
   "cell_type": "code",
   "execution_count": 97,
   "metadata": {},
   "outputs": [
    {
     "data": {
      "image/png": "[encoded data removed]",
      "text/plain": [
       "<Figure size 1440x360 with 1 Axes>"
      ]
     },
     "metadata": {
      "needs_background": "light"
     },
     "output_type": "display_data"
    }
   ],
   "source": [
    "n_j = 14\n",
    "ac = AgglomerativeClustering(n_clusters=n_j, affinity='euclidean', linkage='ward').fit_predict(X_df.loc[inds, :].values)\n",
    "driver_subset.loc[inds, 'Agglom Cluster Number'] = ac+n\n",
    "# X_df.loc[inds, 'Agglom Cluster Number'] = ac\n",
    "fig, axes = plt.subplots(1, 1, figsize=(20,5))\n",
    "dend = shc.dendrogram(linkage, truncate_mode='lastp', p=n_j, show_leaf_counts=True, ax=axes)\n",
    "plt.tight_layout()\n",
    "plt.savefig('dend_precondition_on_energy_set'+str(j)+'_clustnum'+str(n_j)+'.pdf', bbox_inches='tight')\n",
    "plt.show()\n"
   ]
  },
  {
   "cell_type": "code",
   "execution_count": 98,
   "metadata": {},
   "outputs": [],
   "source": [
    "n = n + n_j"
   ]
  },
  {
   "cell_type": "markdown",
   "metadata": {},
   "source": [
    "## Energy bin 3"
   ]
  },
  {
   "cell_type": "code",
   "execution_count": 99,
   "metadata": {},
   "outputs": [
    {
     "data": {
      "image/png": "[encoded data removed]",
      "text/plain": [
       "<Figure size 720x360 with 1 Axes>"
      ]
     },
     "metadata": {
      "needs_background": "light"
     },
     "output_type": "display_data"
    }
   ],
   "source": [
    "j = 2\n",
    "epair = epairs[j]\n",
    "\n",
    "inds = driver_subset.loc[(driver_subset['Total Energy']>epair[0])&(driver_subset['Total Energy']<=epair[1])].index\n",
    "linkage = shc.linkage(X_df.loc[inds, :], method='ward')\n",
    "heights1 = []\n",
    "heights2 = []\n",
    "dend = shc.dendrogram(linkage, truncate_mode='lastp', p=int(2), no_plot=True)\n",
    "oldmin = np.max(np.max(dend['dcoord'], axis=1))\n",
    "nks = np.arange(3, 100)\n",
    "\n",
    "for nk in nks:\n",
    "    dend = shc.dendrogram(linkage, truncate_mode='lastp', p=int(nk), no_plot=True)\n",
    "    heights1.append(oldmin - np.min(np.max(dend['dcoord'], axis=1)))\n",
    "    heights2.append(np.max(np.max(dend['dcoord'], axis=1)) - np.min(np.max(dend['dcoord'], axis=1)))\n",
    "    oldmin = np.min(np.max(dend['dcoord'], axis=1))\n",
    "    \n",
    "plt.figure(figsize=(10,5))\n",
    "plt.plot(nks[np.arange(3, 30)], (np.max(heights2)-heights2)[np.arange(3, 30)], '*-')\n",
    "plt.xticks(nks[np.arange(3, 30)])\n",
    "plt.show()"
   ]
  },
  {
   "cell_type": "code",
   "execution_count": 100,
   "metadata": {},
   "outputs": [
    {
     "data": {
      "image/png": "[encoded data removed]",
      "text/plain": [
       "<Figure size 1440x360 with 1 Axes>"
      ]
     },
     "metadata": {
      "needs_background": "light"
     },
     "output_type": "display_data"
    }
   ],
   "source": [
    "n_j = 14\n",
    "ac = AgglomerativeClustering(n_clusters=n_j, affinity='euclidean', linkage='ward').fit_predict(X_df.loc[inds, :].values)\n",
    "driver_subset.loc[inds, 'Agglom Cluster Number'] = ac+n\n",
    "# X_df.loc[inds, 'Agglom Cluster Number'] = ac\n",
    "fig, axes = plt.subplots(1, 1, figsize=(20,5))\n",
    "dend = shc.dendrogram(linkage, truncate_mode='lastp', p=n_j, show_leaf_counts=True, ax=axes)\n",
    "plt.tight_layout()\n",
    "plt.savefig('dend_precondition_on_energy_set'+str(j)+'_clustnum'+str(n_j)+'.pdf', bbox_inches='tight')\n",
    "plt.show()\n"
   ]
  },
  {
   "cell_type": "code",
   "execution_count": 101,
   "metadata": {},
   "outputs": [],
   "source": [
    "n = n + n_j"
   ]
  },
  {
   "cell_type": "markdown",
   "metadata": {},
   "source": [
    "## Energy bin 4"
   ]
  },
  {
   "cell_type": "code",
   "execution_count": 102,
   "metadata": {},
   "outputs": [
    {
     "data": {
      "image/png": "[encoded data removed]",
      "text/plain": [
       "<Figure size 720x360 with 1 Axes>"
      ]
     },
     "metadata": {
      "needs_background": "light"
     },
     "output_type": "display_data"
    }
   ],
   "source": [
    "j = 3\n",
    "epair = epairs[j]\n",
    "\n",
    "inds = driver_subset.loc[(driver_subset['Total Energy']>epair[0])&(driver_subset['Total Energy']<=epair[1])].index\n",
    "linkage = shc.linkage(X_df.loc[inds, :], method='ward')\n",
    "heights1 = []\n",
    "heights2 = []\n",
    "dend = shc.dendrogram(linkage, truncate_mode='lastp', p=int(2), no_plot=True)\n",
    "oldmin = np.max(np.max(dend['dcoord'], axis=1))\n",
    "nks = np.arange(3, 100)\n",
    "\n",
    "for nk in nks:\n",
    "    dend = shc.dendrogram(linkage, truncate_mode='lastp', p=int(nk), no_plot=True)\n",
    "    heights1.append(oldmin - np.min(np.max(dend['dcoord'], axis=1)))\n",
    "    heights2.append(np.max(np.max(dend['dcoord'], axis=1)) - np.min(np.max(dend['dcoord'], axis=1)))\n",
    "    oldmin = np.min(np.max(dend['dcoord'], axis=1))\n",
    "    \n",
    "plt.figure(figsize=(10,5))\n",
    "plt.plot(nks[np.arange(3, 30)], (np.max(heights2)-heights2)[np.arange(3, 30)], '*-')\n",
    "plt.xticks(nks[np.arange(3, 30)])\n",
    "plt.show()"
   ]
  },
  {
   "cell_type": "code",
   "execution_count": 103,
   "metadata": {},
   "outputs": [
    {
     "data": {
      "image/png": "[encoded data removed]",
      "text/plain": [
       "<Figure size 1440x360 with 1 Axes>"
      ]
     },
     "metadata": {
      "needs_background": "light"
     },
     "output_type": "display_data"
    }
   ],
   "source": [
    "n_j = 20\n",
    "ac = AgglomerativeClustering(n_clusters=n_j, affinity='euclidean', linkage='ward').fit_predict(X_df.loc[inds, :].values)\n",
    "driver_subset.loc[inds, 'Agglom Cluster Number'] = ac+n\n",
    "# X_df.loc[inds, 'Agglom Cluster Number'] = ac\n",
    "fig, axes = plt.subplots(1, 1, figsize=(20,5))\n",
    "dend = shc.dendrogram(linkage, truncate_mode='lastp', p=n_j, show_leaf_counts=True, ax=axes)\n",
    "plt.tight_layout()\n",
    "plt.savefig('dend_precondition_on_energy_set'+str(j)+'_clustnum'+str(n_j)+'.pdf', bbox_inches='tight')\n",
    "plt.show()\n"
   ]
  },
  {
   "cell_type": "code",
   "execution_count": 104,
   "metadata": {},
   "outputs": [],
   "source": [
    "n = n + n_j"
   ]
  },
  {
   "cell_type": "markdown",
   "metadata": {},
   "source": [
    "## Energy bin 5"
   ]
  },
  {
   "cell_type": "code",
   "execution_count": 105,
   "metadata": {},
   "outputs": [
    {
     "data": {
      "image/png": "[encoded data removed]",
      "text/plain": [
       "<Figure size 720x360 with 1 Axes>"
      ]
     },
     "metadata": {
      "needs_background": "light"
     },
     "output_type": "display_data"
    }
   ],
   "source": [
    "j = 4\n",
    "epair = epairs[j]\n",
    "\n",
    "inds = driver_subset.loc[(driver_subset['Total Energy']>epair[0])&(driver_subset['Total Energy']<=epair[1])].index\n",
    "linkage = shc.linkage(X_df.loc[inds, :], method='ward')\n",
    "heights1 = []\n",
    "heights2 = []\n",
    "dend = shc.dendrogram(linkage, truncate_mode='lastp', p=int(2), no_plot=True)\n",
    "oldmin = np.max(np.max(dend['dcoord'], axis=1))\n",
    "nks = np.arange(3, 100)\n",
    "\n",
    "for nk in nks:\n",
    "    dend = shc.dendrogram(linkage, truncate_mode='lastp', p=int(nk), no_plot=True)\n",
    "    heights1.append(oldmin - np.min(np.max(dend['dcoord'], axis=1)))\n",
    "    heights2.append(np.max(np.max(dend['dcoord'], axis=1)) - np.min(np.max(dend['dcoord'], axis=1)))\n",
    "    oldmin = np.min(np.max(dend['dcoord'], axis=1))\n",
    "    \n",
    "plt.figure(figsize=(10,5))\n",
    "plt.plot(nks[np.arange(3, 30)], (np.max(heights2)-heights2)[np.arange(3, 30)], '*-')\n",
    "plt.xticks(nks[np.arange(3, 30)])\n",
    "plt.show()"
   ]
  },
  {
   "cell_type": "code",
   "execution_count": 106,
   "metadata": {},
   "outputs": [
    {
     "data": {
      "image/png": "[encoded data removed]",
      "text/plain": [
       "<Figure size 1440x360 with 1 Axes>"
      ]
     },
     "metadata": {
      "needs_background": "light"
     },
     "output_type": "display_data"
    }
   ],
   "source": [
    "n_j = 25\n",
    "ac = AgglomerativeClustering(n_clusters=n_j, affinity='euclidean', linkage='ward').fit_predict(X_df.loc[inds, :].values)\n",
    "driver_subset.loc[inds, 'Agglom Cluster Number'] = ac+n\n",
    "# X_df.loc[inds, 'Agglom Cluster Number'] = ac\n",
    "fig, axes = plt.subplots(1, 1, figsize=(20,5))\n",
    "dend = shc.dendrogram(linkage, truncate_mode='lastp', p=n_j, show_leaf_counts=True, ax=axes)\n",
    "plt.tight_layout()\n",
    "plt.savefig('dend_precondition_on_energy_set'+str(j)+'_clustnum'+str(n_j)+'.pdf', bbox_inches='tight')\n",
    "plt.show()\n"
   ]
  },
  {
   "cell_type": "code",
   "execution_count": 107,
   "metadata": {},
   "outputs": [],
   "source": [
    "n = n + n_j"
   ]
  },
  {
   "cell_type": "markdown",
   "metadata": {},
   "source": [
    "## Energy bin 6"
   ]
  },
  {
   "cell_type": "code",
   "execution_count": 108,
   "metadata": {},
   "outputs": [
    {
     "data": {
      "image/png": "[encoded data removed]",
      "text/plain": [
       "<Figure size 720x360 with 1 Axes>"
      ]
     },
     "metadata": {
      "needs_background": "light"
     },
     "output_type": "display_data"
    }
   ],
   "source": [
    "j = 5\n",
    "epair = epairs[j]\n",
    "\n",
    "inds = driver_subset.loc[(driver_subset['Total Energy']>epair[0])&(driver_subset['Total Energy']<=epair[1])].index\n",
    "linkage = shc.linkage(X_df.loc[inds, :], method='ward')\n",
    "heights1 = []\n",
    "heights2 = []\n",
    "dend = shc.dendrogram(linkage, truncate_mode='lastp', p=int(2), no_plot=True)\n",
    "oldmin = np.max(np.max(dend['dcoord'], axis=1))\n",
    "nks = np.arange(3, 100)\n",
    "\n",
    "for nk in nks:\n",
    "    dend = shc.dendrogram(linkage, truncate_mode='lastp', p=int(nk), no_plot=True)\n",
    "    heights1.append(oldmin - np.min(np.max(dend['dcoord'], axis=1)))\n",
    "    heights2.append(np.max(np.max(dend['dcoord'], axis=1)) - np.min(np.max(dend['dcoord'], axis=1)))\n",
    "    oldmin = np.min(np.max(dend['dcoord'], axis=1))\n",
    "    \n",
    "plt.figure(figsize=(10,5))\n",
    "plt.plot(nks[np.arange(3, 30)], (np.max(heights2)-heights2)[np.arange(3, 30)], '*-')\n",
    "plt.xticks(nks[np.arange(3, 30)])\n",
    "plt.show()"
   ]
  },
  {
   "cell_type": "code",
   "execution_count": 109,
   "metadata": {},
   "outputs": [
    {
     "data": {
      "image/png": "[encoded data removed]",
      "text/plain": [
       "<Figure size 1440x360 with 1 Axes>"
      ]
     },
     "metadata": {
      "needs_background": "light"
     },
     "output_type": "display_data"
    }
   ],
   "source": [
    "n_j = 21\n",
    "ac = AgglomerativeClustering(n_clusters=n_j, affinity='euclidean', linkage='ward').fit_predict(X_df.loc[inds, :].values)\n",
    "driver_subset.loc[inds, 'Agglom Cluster Number'] = ac+n\n",
    "# X_df.loc[inds, 'Agglom Cluster Number'] = ac\n",
    "fig, axes = plt.subplots(1, 1, figsize=(20,5))\n",
    "dend = shc.dendrogram(linkage, truncate_mode='lastp', p=n_j, show_leaf_counts=True, ax=axes)\n",
    "plt.tight_layout()\n",
    "plt.savefig('dend_precondition_on_energy_set'+str(j)+'_clustnum'+str(n_j)+'.pdf', bbox_inches='tight')\n",
    "plt.show()\n"
   ]
  },
  {
   "cell_type": "code",
   "execution_count": 110,
   "metadata": {},
   "outputs": [],
   "source": [
    "n = n + n_j"
   ]
  },
  {
   "cell_type": "markdown",
   "metadata": {},
   "source": [
    "## Energy bin 7"
   ]
  },
  {
   "cell_type": "code",
   "execution_count": 111,
   "metadata": {},
   "outputs": [
    {
     "data": {
      "image/png": "[encoded data removed]",
      "text/plain": [
       "<Figure size 720x360 with 1 Axes>"
      ]
     },
     "metadata": {
      "needs_background": "light"
     },
     "output_type": "display_data"
    }
   ],
   "source": [
    "j = 6\n",
    "epair = epairs[j]\n",
    "\n",
    "inds = driver_subset.loc[(driver_subset['Total Energy']>epair[0])].index#&(driver_subset['Total Energy']<=epair[1])].index\n",
    "linkage = shc.linkage(X_df.loc[inds, :], method='ward')\n",
    "heights1 = []\n",
    "heights2 = []\n",
    "dend = shc.dendrogram(linkage, truncate_mode='lastp', p=int(2), no_plot=True)\n",
    "oldmin = np.max(np.max(dend['dcoord'], axis=1))\n",
    "nks = np.arange(3, 100)\n",
    "\n",
    "for nk in nks:\n",
    "    dend = shc.dendrogram(linkage, truncate_mode='lastp', p=int(nk), no_plot=True)\n",
    "    heights1.append(oldmin - np.min(np.max(dend['dcoord'], axis=1)))\n",
    "    heights2.append(np.max(np.max(dend['dcoord'], axis=1)) - np.min(np.max(dend['dcoord'], axis=1)))\n",
    "    oldmin = np.min(np.max(dend['dcoord'], axis=1))\n",
    "    \n",
    "plt.figure(figsize=(10,5))\n",
    "plt.plot(nks[np.arange(3, 30)], (np.max(heights2)-heights2)[np.arange(3, 30)], '*-')\n",
    "plt.xticks(nks[np.arange(3, 30)])\n",
    "plt.show()"
   ]
  },
  {
   "cell_type": "code",
   "execution_count": 112,
   "metadata": {},
   "outputs": [
    {
     "data": {
      "image/png": "[encoded data removed]",
      "text/plain": [
       "<Figure size 1440x360 with 1 Axes>"
      ]
     },
     "metadata": {
      "needs_background": "light"
     },
     "output_type": "display_data"
    }
   ],
   "source": [
    "n_j = 21\n",
    "ac = AgglomerativeClustering(n_clusters=n_j, affinity='euclidean', linkage='ward').fit_predict(X_df.loc[inds, :].values)\n",
    "driver_subset.loc[inds, 'Agglom Cluster Number'] = ac+n\n",
    "# X_df.loc[inds, 'Agglom Cluster Number'] = ac\n",
    "fig, axes = plt.subplots(1, 1, figsize=(20,5))\n",
    "dend = shc.dendrogram(linkage, truncate_mode='lastp', p=n_j, show_leaf_counts=True, ax=axes)\n",
    "plt.tight_layout()\n",
    "plt.savefig('dend_precondition_on_energy_set'+str(j)+'_clustnum'+str(n_j)+'.pdf', bbox_inches='tight')\n",
    "plt.show()\n"
   ]
  },
  {
   "cell_type": "code",
   "execution_count": 113,
   "metadata": {},
   "outputs": [],
   "source": [
    "n = n + n_j"
   ]
  },
  {
   "cell_type": "code",
   "execution_count": 114,
   "metadata": {
    "scrolled": true
   },
   "outputs": [
    {
     "data": {
      "text/plain": [
       "0"
      ]
     },
     "execution_count": 114,
     "metadata": {},
     "output_type": "execute_result"
    }
   ],
   "source": [
    "driver_subset['Agglom Cluster Number'].isna().sum()"
   ]
  },
  {
   "cell_type": "code",
   "execution_count": 115,
   "metadata": {},
   "outputs": [],
   "source": [
    "X_df['Agglom Cluster Number'] = driver_subset['Agglom Cluster Number'].values"
   ]
  },
  {
   "cell_type": "code",
   "execution_count": 116,
   "metadata": {},
   "outputs": [
    {
     "data": {
      "text/plain": [
       "136"
      ]
     },
     "execution_count": 116,
     "metadata": {},
     "output_type": "execute_result"
    }
   ],
   "source": [
    "n # total number of clusters"
   ]
  },
  {
   "cell_type": "code",
   "execution_count": 117,
   "metadata": {},
   "outputs": [
    {
     "data": {
      "text/plain": [
       "135.0"
      ]
     },
     "execution_count": 117,
     "metadata": {},
     "output_type": "execute_result"
    }
   ],
   "source": [
    "X_df['Agglom Cluster Number'].max()"
   ]
  },
  {
   "cell_type": "markdown",
   "metadata": {},
   "source": [
    "# Save Model Features\n",
    "\n",
    "Calculate the other model data for these 136 clusters."
   ]
  },
  {
   "cell_type": "code",
   "execution_count": 118,
   "metadata": {
    "scrolled": true
   },
   "outputs": [],
   "source": [
    "import os\n",
    "if not os.path.isdir('../Data/CP'+str(n)):\n",
    "    os.mkdir('../Data/CP'+str(n))\n",
    "if not os.path.isdir('../Data/CP'+str(n)+'/GMMs'):\n",
    "    os.mkdir('../Data/CP'+str(n)+'/GMMs')"
   ]
  },
  {
   "cell_type": "markdown",
   "metadata": {},
   "source": [
    "### P(G)"
   ]
  },
  {
   "cell_type": "code",
   "execution_count": 119,
   "metadata": {
    "scrolled": false
   },
   "outputs": [
    {
     "data": {
      "text/html": [
       "<div>\n",
       "<style scoped>\n",
       "    .dataframe tbody tr th:only-of-type {\n",
       "        vertical-align: middle;\n",
       "    }\n",
       "\n",
       "    .dataframe tbody tr th {\n",
       "        vertical-align: top;\n",
       "    }\n",
       "\n",
       "    .dataframe thead th {\n",
       "        text-align: right;\n",
       "    }\n",
       "</style>\n",
       "<table border=\"1\" class=\"dataframe\">\n",
       "  <thead>\n",
       "    <tr style=\"text-align: right;\">\n",
       "      <th></th>\n",
       "      <th>pg</th>\n",
       "    </tr>\n",
       "  </thead>\n",
       "  <tbody>\n",
       "    <tr>\n",
       "      <td>0.0</td>\n",
       "      <td>0.017166</td>\n",
       "    </tr>\n",
       "    <tr>\n",
       "      <td>1.0</td>\n",
       "      <td>0.006744</td>\n",
       "    </tr>\n",
       "    <tr>\n",
       "      <td>2.0</td>\n",
       "      <td>0.001695</td>\n",
       "    </tr>\n",
       "    <tr>\n",
       "      <td>3.0</td>\n",
       "      <td>0.007212</td>\n",
       "    </tr>\n",
       "    <tr>\n",
       "      <td>4.0</td>\n",
       "      <td>0.003246</td>\n",
       "    </tr>\n",
       "    <tr>\n",
       "      <td>...</td>\n",
       "      <td>...</td>\n",
       "    </tr>\n",
       "    <tr>\n",
       "      <td>131.0</td>\n",
       "      <td>0.001190</td>\n",
       "    </tr>\n",
       "    <tr>\n",
       "      <td>132.0</td>\n",
       "      <td>0.004868</td>\n",
       "    </tr>\n",
       "    <tr>\n",
       "      <td>133.0</td>\n",
       "      <td>0.000793</td>\n",
       "    </tr>\n",
       "    <tr>\n",
       "      <td>134.0</td>\n",
       "      <td>0.000108</td>\n",
       "    </tr>\n",
       "    <tr>\n",
       "      <td>135.0</td>\n",
       "      <td>0.001623</td>\n",
       "    </tr>\n",
       "  </tbody>\n",
       "</table>\n",
       "<p>136 rows × 1 columns</p>\n",
       "</div>"
      ],
      "text/plain": [
       "             pg\n",
       "0.0    0.017166\n",
       "1.0    0.006744\n",
       "2.0    0.001695\n",
       "3.0    0.007212\n",
       "4.0    0.003246\n",
       "...         ...\n",
       "131.0  0.001190\n",
       "132.0  0.004868\n",
       "133.0  0.000793\n",
       "134.0  0.000108\n",
       "135.0  0.001623\n",
       "\n",
       "[136 rows x 1 columns]"
      ]
     },
     "execution_count": 119,
     "metadata": {},
     "output_type": "execute_result"
    }
   ],
   "source": [
    "pg = pd.DataFrame(dict(driver_subset['Agglom Cluster Number'].value_counts(normalize=True)), index=['pg']).T.sort_index()\n",
    "pg"
   ]
  },
  {
   "cell_type": "code",
   "execution_count": 120,
   "metadata": {
    "scrolled": true
   },
   "outputs": [],
   "source": [
    "pg.to_csv('../Data/CP'+str(n)+'/pg.csv', index=None)"
   ]
  },
  {
   "cell_type": "markdown",
   "metadata": {},
   "source": [
    "### P(z|G)"
   ]
  },
  {
   "cell_type": "code",
   "execution_count": 121,
   "metadata": {
    "scrolled": true
   },
   "outputs": [],
   "source": [
    "relabel = {'Home':'home_l2', 'Work':'work_l2', 'MUD':'mud_l2', 'Other Slow':'public_l2', 'Other Fast':'public_l3'}\n",
    "col_mapping = {}\n",
    "for key, val in relabel.items():\n",
    "    for w in ['weekdays', 'weekenddays']:\n",
    "        col_mapping[key+' - Fraction of '+w+' with session'] = val+' - Fraction of '+w+' with session'\n",
    "for i in range(n):\n",
    "    inds = driver_subset[driver_subset['Agglom Cluster Number']==i].index\n",
    "    pz_subset = driver_subset.loc[inds, col_mapping.keys()].reset_index(drop=True)\n",
    "    pz_subset = pz_subset.rename(columns=col_mapping)\n",
    "    pz_subset['home_l1 - Fraction of weekdays with session'] = 0; pz_subset['home_l1 - Fraction of weekenddays with session'] = 0\n",
    "    pz_subset.to_csv('../Data/CP'+str(n)+'/pz_weekday_g_'+str(i)+'.csv')\n",
    "    pz_subset.to_csv('../Data/CP'+str(n)+'/pz_weekend_g_'+str(i)+'.csv')    \n"
   ]
  },
  {
   "cell_type": "markdown",
   "metadata": {},
   "source": [
    "### P(s|z, G)"
   ]
  },
  {
   "cell_type": "code",
   "execution_count": 122,
   "metadata": {
    "scrolled": true
   },
   "outputs": [],
   "source": [
    "def process_df(df2):\n",
    "\n",
    "    df2['start'] = np.clip(df2['start_seconds'], 0, 24*60*60)\n",
    "    df2['energy'] = np.clip(df2['Energy (kWh)'], 0, 100)\n",
    "    df2['duration'] = np.clip(df2['Session Time (secs)'], 0, 48*60*60)\n",
    "\n",
    "    df2['location'] = 'other'\n",
    "    df2.loc[df2[df2['POI Category']=='Single family residential'].index, 'location'] = 'home'\n",
    "    df2.loc[df2[df2['POI Category']=='Workplace'].index, 'location'] = 'work'\n",
    "    df2.loc[df2[df2['POI Category'].isin(['Multifamily Commercial', 'Multifamily Home Service'])].index, 'location'] = 'mud'\n",
    "    df2['weekend'] = 'weekday'\n",
    "    df2.loc[df2[df2['start_weekday'].isin([5, 6])].index, 'weekend'] = 'weekend'\n",
    "    df2['bigbattery'] = 'smallbatt'\n",
    "    df2.loc[df2[df2['Battery Capacity']>=50].index, 'bigbattery'] = 'bigbatt'\n",
    "    df2['fast'] = 'slow'\n",
    "    df2.loc[df2[df2['Max Power']>20].index, 'fast'] = 'fast'\n",
    "    \n",
    "    return df2\n",
    "\n",
    "def create_gmms(df2, group_number, n):\n",
    "    \n",
    "    print(group_number)\n",
    "    \n",
    "    loc_cat_mapping1 = {'home':'home_l2', 'work':'work_l2', 'mud':'mud_l2'}\n",
    "    loc_cat_mapping2 = {'slow':'public_l2', 'fast':'public_l3'}\n",
    "    \n",
    "    for loc in ['home', 'other', 'work', 'mud']:\n",
    "        subset = df2[df2['location']==loc]\n",
    "        if len(subset) > 0:\n",
    "            if loc=='other':\n",
    "                speed_set = ['fast', 'slow']\n",
    "            else:\n",
    "                speed_set = ['slow']\n",
    "            for speed in speed_set:\n",
    "                subset1 = subset[subset['fast']==speed]\n",
    "                if len(subset1) > 0:\n",
    "                    for weekend in ['weekday','weekend']:\n",
    "                        subset2 = subset1[subset1['weekend']==weekend]\n",
    "                        if len(subset2) > 0:\n",
    "                            if loc in loc_cat_mapping1.keys():\n",
    "                                cat = loc_cat_mapping1[loc]\n",
    "                            else:\n",
    "                                cat = loc_cat_mapping2[speed]\n",
    "                            name_str = '../Data/CP'+str(n)+'/GMMs/'+weekend+'_'+cat+'_'+str(group_number)+'.p'\n",
    "                            fit_gmm(subset2, name_str)\n",
    "\n",
    "    return\n",
    "\n",
    "def fit_gmm(subset, name_str):\n",
    "    \n",
    "    mat = subset[['start','energy','duration']].values\n",
    "    minshape = np.shape(mat)[0]\n",
    "    if minshape > 10:\n",
    "        if minshape > 50:\n",
    "            num_components = 10\n",
    "        else:\n",
    "            num_components = 1\n",
    "        gm = GMM(n_components=num_components).fit(mat)\n",
    "        pickle.dump(gm, open(name_str, \"wb\"))\n",
    "        \n",
    "    return"
   ]
  },
  {
   "cell_type": "code",
   "execution_count": 5,
   "metadata": {
    "scrolled": false
   },
   "outputs": [
    {
     "name": "stderr",
     "output_type": "stream",
     "text": [
      "/opt/anaconda3/lib/python3.7/site-packages/IPython/core/interactiveshell.py:3058: DtypeWarning: Columns (20) have mixed types. Specify dtype option on import or set low_memory=False.\n",
      "  interactivity=interactivity, compiler=compiler, result=result)\n",
      "/opt/anaconda3/lib/python3.7/site-packages/numpy/lib/arraysetops.py:569: FutureWarning: elementwise comparison failed; returning scalar instead, but in the future will perform elementwise comparison\n",
      "  mask |= (ar1 == a)\n"
     ]
    }
   ],
   "source": [
    "year = 2019\n",
    "filename_end = 'sessions'+str(int(year))\n",
    "df = pd.read_csv(s3_data_location+filename_end+'.csv', index_col=0)"
   ]
  },
  {
   "cell_type": "code",
   "execution_count": 174,
   "metadata": {
    "scrolled": true
   },
   "outputs": [],
   "source": [
    "df = process_df(df)"
   ]
  },
  {
   "cell_type": "code",
   "execution_count": 125,
   "metadata": {
    "scrolled": true
   },
   "outputs": [
    {
     "name": "stdout",
     "output_type": "stream",
     "text": [
      "0\n",
      "1\n",
      "2\n",
      "3\n",
      "4\n",
      "5\n",
      "6\n",
      "7\n",
      "8\n",
      "9\n",
      "10\n",
      "11\n",
      "12\n",
      "13\n",
      "14\n",
      "15\n",
      "16\n",
      "17\n",
      "18\n",
      "19\n",
      "20\n",
      "21\n",
      "22\n",
      "23\n",
      "24\n",
      "25\n",
      "26\n",
      "27\n",
      "28\n",
      "29\n",
      "30\n",
      "31\n",
      "32\n",
      "33\n",
      "34\n",
      "35\n",
      "36\n",
      "37\n",
      "38\n",
      "39\n",
      "40\n",
      "41\n",
      "42\n",
      "43\n",
      "44\n",
      "45\n",
      "46\n",
      "47\n",
      "48\n",
      "49\n",
      "50\n",
      "51\n",
      "52\n",
      "53\n",
      "54\n",
      "55\n",
      "56\n",
      "57\n",
      "58\n",
      "59\n",
      "60\n",
      "61\n",
      "62\n",
      "63\n",
      "64\n",
      "65\n",
      "66\n",
      "67\n",
      "68\n",
      "69\n",
      "70\n",
      "71\n",
      "72\n",
      "73\n",
      "74\n",
      "75\n",
      "76\n",
      "77\n",
      "78\n",
      "79\n",
      "80\n",
      "81\n",
      "82\n",
      "83\n",
      "84\n",
      "85\n",
      "86\n",
      "87\n",
      "88\n",
      "89\n",
      "90\n",
      "91\n",
      "92\n",
      "93\n",
      "94\n",
      "95\n",
      "96\n",
      "97\n",
      "98\n",
      "99\n",
      "100\n",
      "101\n",
      "102\n",
      "103\n",
      "104\n",
      "105\n",
      "106\n",
      "107\n",
      "108\n",
      "109\n",
      "110\n",
      "111\n",
      "112\n",
      "113\n",
      "114\n",
      "115\n",
      "116\n",
      "117\n",
      "118\n",
      "119\n",
      "120\n",
      "121\n",
      "122\n",
      "123\n",
      "124\n",
      "125\n",
      "126\n",
      "127\n",
      "128\n",
      "129\n",
      "130\n",
      "131\n",
      "132\n",
      "133\n",
      "134\n",
      "135\n"
     ]
    }
   ],
   "source": [
    "for i in range(n):\n",
    "    drivers = driver_subset[driver_subset['Agglom Cluster Number']==i]['Unique Driver ID'].values\n",
    "    df2 = df[df['Driver ID'].isin(drivers)]\n",
    "    create_gmms(df2, i, n)"
   ]
  },
  {
   "cell_type": "markdown",
   "metadata": {},
   "source": [
    "### P(G | A, B, E), P(A), P(B), P(E)"
   ]
  },
  {
   "cell_type": "code",
   "execution_count": 127,
   "metadata": {
    "scrolled": false
   },
   "outputs": [],
   "source": [
    "driver_subset_data = driver_subset.loc[:, ['Unique Driver ID', 'Total Energy', 'B_flag_large', 'A_flag_home', 'A_flag_work_price']].copy(deep=True)\n",
    "driver_subset_data = driver_subset_data[driver_subset_data['Unique Driver ID'].isin(driver_subset['Unique Driver ID'].values)].copy(deep=True).reset_index(drop=True)\n",
    "for i in range(n):\n",
    "    idx1 = driver_subset[driver_subset['Agglom Cluster Number']==i].index\n",
    "    idx2 = driver_subset_data[driver_subset_data['Unique Driver ID'].isin(driver_subset.loc[idx1, 'Unique Driver ID'].values)].index\n",
    "    driver_subset_data.loc[idx2, 'Agglom Cluster Number'] = i\n",
    "driver_subset_data['Agglom Cluster Number'] = driver_subset_data['Agglom Cluster Number'].astype(int)\n"
   ]
  },
  {
   "cell_type": "code",
   "execution_count": 128,
   "metadata": {},
   "outputs": [],
   "source": [
    "driver_subset_data.to_csv('driver_data_save_n'+str(n)+'_20211119.csv')"
   ]
  },
  {
   "cell_type": "code",
   "execution_count": 129,
   "metadata": {
    "scrolled": false
   },
   "outputs": [
    {
     "data": {
      "text/html": [
       "<div>\n",
       "<style scoped>\n",
       "    .dataframe tbody tr th:only-of-type {\n",
       "        vertical-align: middle;\n",
       "    }\n",
       "\n",
       "    .dataframe tbody tr th {\n",
       "        vertical-align: top;\n",
       "    }\n",
       "\n",
       "    .dataframe thead th {\n",
       "        text-align: right;\n",
       "    }\n",
       "</style>\n",
       "<table border=\"1\" class=\"dataframe\">\n",
       "  <thead>\n",
       "    <tr style=\"text-align: right;\">\n",
       "      <th></th>\n",
       "      <th>Unique Driver ID</th>\n",
       "      <th>Total Energy</th>\n",
       "      <th>B_flag_large</th>\n",
       "      <th>A_flag_home</th>\n",
       "      <th>A_flag_work_price</th>\n",
       "      <th>Agglom Cluster Number</th>\n",
       "    </tr>\n",
       "  </thead>\n",
       "  <tbody>\n",
       "    <tr>\n",
       "      <td>0</td>\n",
       "      <td>4456451.0</td>\n",
       "      <td>923.419581</td>\n",
       "      <td>1</td>\n",
       "      <td>0</td>\n",
       "      <td>free</td>\n",
       "      <td>29</td>\n",
       "    </tr>\n",
       "    <tr>\n",
       "      <td>1</td>\n",
       "      <td>1048591.0</td>\n",
       "      <td>2184.699083</td>\n",
       "      <td>0</td>\n",
       "      <td>0</td>\n",
       "      <td>free</td>\n",
       "      <td>80</td>\n",
       "    </tr>\n",
       "    <tr>\n",
       "      <td>2</td>\n",
       "      <td>2883621.0</td>\n",
       "      <td>3376.675261</td>\n",
       "      <td>1</td>\n",
       "      <td>0</td>\n",
       "      <td>0</td>\n",
       "      <td>95</td>\n",
       "    </tr>\n",
       "    <tr>\n",
       "      <td>3</td>\n",
       "      <td>3407911.0</td>\n",
       "      <td>3084.040603</td>\n",
       "      <td>1</td>\n",
       "      <td>0</td>\n",
       "      <td>free</td>\n",
       "      <td>112</td>\n",
       "    </tr>\n",
       "    <tr>\n",
       "      <td>4</td>\n",
       "      <td>524337.0</td>\n",
       "      <td>1098.721322</td>\n",
       "      <td>0</td>\n",
       "      <td>0</td>\n",
       "      <td>0</td>\n",
       "      <td>42</td>\n",
       "    </tr>\n",
       "    <tr>\n",
       "      <td>...</td>\n",
       "      <td>...</td>\n",
       "      <td>...</td>\n",
       "      <td>...</td>\n",
       "      <td>...</td>\n",
       "      <td>...</td>\n",
       "      <td>...</td>\n",
       "    </tr>\n",
       "    <tr>\n",
       "      <td>27722</td>\n",
       "      <td>786379.0</td>\n",
       "      <td>538.372363</td>\n",
       "      <td>0</td>\n",
       "      <td>0</td>\n",
       "      <td>free</td>\n",
       "      <td>9</td>\n",
       "    </tr>\n",
       "    <tr>\n",
       "      <td>27723</td>\n",
       "      <td>19922901.0</td>\n",
       "      <td>975.438785</td>\n",
       "      <td>1</td>\n",
       "      <td>0</td>\n",
       "      <td>free</td>\n",
       "      <td>33</td>\n",
       "    </tr>\n",
       "    <tr>\n",
       "      <td>27724</td>\n",
       "      <td>262103.0</td>\n",
       "      <td>1250.320371</td>\n",
       "      <td>0</td>\n",
       "      <td>0</td>\n",
       "      <td>paid</td>\n",
       "      <td>40</td>\n",
       "    </tr>\n",
       "    <tr>\n",
       "      <td>27725</td>\n",
       "      <td>524259.0</td>\n",
       "      <td>834.361576</td>\n",
       "      <td>0</td>\n",
       "      <td>0</td>\n",
       "      <td>0</td>\n",
       "      <td>24</td>\n",
       "    </tr>\n",
       "    <tr>\n",
       "      <td>27726</td>\n",
       "      <td>1834991.0</td>\n",
       "      <td>943.009206</td>\n",
       "      <td>0</td>\n",
       "      <td>0</td>\n",
       "      <td>free</td>\n",
       "      <td>22</td>\n",
       "    </tr>\n",
       "  </tbody>\n",
       "</table>\n",
       "<p>27727 rows × 6 columns</p>\n",
       "</div>"
      ],
      "text/plain": [
       "       Unique Driver ID  Total Energy  B_flag_large A_flag_home  \\\n",
       "0             4456451.0    923.419581             1           0   \n",
       "1             1048591.0   2184.699083             0           0   \n",
       "2             2883621.0   3376.675261             1           0   \n",
       "3             3407911.0   3084.040603             1           0   \n",
       "4              524337.0   1098.721322             0           0   \n",
       "...                 ...           ...           ...         ...   \n",
       "27722          786379.0    538.372363             0           0   \n",
       "27723        19922901.0    975.438785             1           0   \n",
       "27724          262103.0   1250.320371             0           0   \n",
       "27725          524259.0    834.361576             0           0   \n",
       "27726         1834991.0    943.009206             0           0   \n",
       "\n",
       "      A_flag_work_price  Agglom Cluster Number  \n",
       "0                  free                     29  \n",
       "1                  free                     80  \n",
       "2                     0                     95  \n",
       "3                  free                    112  \n",
       "4                     0                     42  \n",
       "...                 ...                    ...  \n",
       "27722              free                      9  \n",
       "27723              free                     33  \n",
       "27724              paid                     40  \n",
       "27725                 0                     24  \n",
       "27726              free                     22  \n",
       "\n",
       "[27727 rows x 6 columns]"
      ]
     },
     "execution_count": 129,
     "metadata": {},
     "output_type": "execute_result"
    }
   ],
   "source": [
    "driver_subset_data"
   ]
  },
  {
   "cell_type": "code",
   "execution_count": 132,
   "metadata": {
    "scrolled": true
   },
   "outputs": [],
   "source": [
    "def plot_dist(inds, n, plot=True, clust='Agglom Cluster Number'):\n",
    "    \n",
    "    cts = driver_subset_data.loc[inds, clust].value_counts()\n",
    "    vals = np.zeros((n, ))\n",
    "    for key, val in cts.items():\n",
    "        vals[key] = val\n",
    "\n",
    "    vals = vals / np.sum(vals)\n",
    "    if plot:\n",
    "        plt.figure()\n",
    "        plt.bar(np.arange(1, n+1), vals)\n",
    "        plt.ylim([0, 1]); plt.xticks(np.arange(1, n+1)); plt.ylabel('P(G)'); plt.xlabel('G')\n",
    "        plt.show()\n",
    "    \n",
    "    return vals"
   ]
  },
  {
   "cell_type": "code",
   "execution_count": 3,
   "metadata": {
    "scrolled": true
   },
   "outputs": [],
   "source": [
    "import pandas as pd\n",
    "import numpy as np\n",
    "n = 136\n",
    "driver_subset_test = pd.read_csv('driver_data_save_n136_20211119.csv', index_col=0)"
   ]
  },
  {
   "cell_type": "code",
   "execution_count": 11,
   "metadata": {
    "scrolled": true
   },
   "outputs": [
    {
     "name": "stdout",
     "output_type": "stream",
     "text": [
      "Battery:  0\n",
      "Awork:  0\n",
      "    Epair  NumDrivers\n",
      "0     0.0         1.0\n",
      "1   600.0         1.0\n",
      "2  1000.0         2.0\n",
      "3  1600.0         1.0\n",
      "4  2000.0         0.0\n",
      "5  3000.0         0.0\n",
      "6  4000.0         0.0\n",
      "Awork:  paid\n",
      "    Epair  NumDrivers\n",
      "0     0.0         0.0\n",
      "1   600.0         1.0\n",
      "2  1000.0         0.0\n",
      "3  1600.0         2.0\n",
      "4  2000.0         0.0\n",
      "5  3000.0         0.0\n",
      "6  4000.0         0.0\n",
      "Awork:  free\n",
      "    Epair  NumDrivers\n",
      "0     0.0         0.0\n",
      "1   600.0         1.0\n",
      "2  1000.0         1.0\n",
      "3  1600.0         0.0\n",
      "4  2000.0         0.0\n",
      "5  3000.0         0.0\n",
      "6  4000.0         0.0\n",
      "Battery:  1\n",
      "Awork:  0\n",
      "    Epair  NumDrivers\n",
      "0     0.0         4.0\n",
      "1   600.0         1.0\n",
      "2  1000.0         7.0\n",
      "3  1600.0         0.0\n",
      "4  2000.0         5.0\n",
      "5  3000.0         4.0\n",
      "6  4000.0         3.0\n",
      "Awork:  paid\n",
      "    Epair  NumDrivers\n",
      "0     0.0         1.0\n",
      "1   600.0         0.0\n",
      "2  1000.0         0.0\n",
      "3  1600.0         2.0\n",
      "4  2000.0         0.0\n",
      "5  3000.0         1.0\n",
      "6  4000.0         0.0\n",
      "Awork:  free\n",
      "    Epair  NumDrivers\n",
      "0     0.0         1.0\n",
      "1   600.0         0.0\n",
      "2  1000.0         1.0\n",
      "3  1600.0         1.0\n",
      "4  2000.0         0.0\n",
      "5  3000.0         4.0\n",
      "6  4000.0         0.0\n"
     ]
    }
   ],
   "source": [
    "epairs = [(0., 600.), (600.,1000.), (1000., 1600.), (1600., 2000.), (2000., 3000.), (3000., 4000.), (4000., 6000.)]\n",
    "# pg_abe2 = {}\n",
    "home_labels = {'0':'0', 'l2':'l2', 'mud':'mud'}\n",
    "work_labels = {'0':'0', 'free':'free', 'paid':'paid'}\n",
    "for bflag in [0, 1]:\n",
    "    print('Battery: ', bflag)\n",
    "    for aflag_home in ['mud']:# ['0', 'l2', 'mud']:\n",
    "        for aflag_work in ['0', 'paid', 'free']:\n",
    "            print('Awork: ', aflag_work)\n",
    "            test2 = pd.DataFrame(np.zeros((len(epairs),2)), columns=['Epair', 'NumDrivers'])\n",
    "            for j, epair in enumerate(epairs):\n",
    "                test2.loc[j, 'Epair'] = epair[0]\n",
    "                inds = driver_subset_test.loc[(driver_subset_test['Total Energy']>epair[0])&(driver_subset_test['Total Energy']<=epair[1])&(driver_subset_test['B_flag_large']==bflag)&(driver_subset_test['A_flag_home']==aflag_home)&(driver_subset_test['A_flag_work_price']==aflag_work)].index\n",
    "                test2.loc[j, 'NumDrivers'] = len(inds)\n",
    "            print(test2)\n"
   ]
  },
  {
   "cell_type": "code",
   "execution_count": 134,
   "metadata": {
    "scrolled": true
   },
   "outputs": [
    {
     "name": "stderr",
     "output_type": "stream",
     "text": [
      "/opt/anaconda3/lib/python3.7/site-packages/ipykernel_launcher.py:8: RuntimeWarning: invalid value encountered in true_divide\n",
      "  \n"
     ]
    }
   ],
   "source": [
    "epairs = [(0., 600.), (600.,1000.), (1000., 1600.), (1600., 2000.), (2000., 3000.), (3000., 4000.), (4000., 6000.)]\n",
    "pg_abe2 = {}\n",
    "home_labels = {'0':'0', 'l2':'l2', 'mud':'mud'}\n",
    "work_labels = {'0':'0', 'free':'free', 'paid':'paid'}\n",
    "for bflag in [0, 1]:\n",
    "    for aflag_home in ['0', 'l2', 'mud']:\n",
    "        for aflag_work in ['0', 'paid', 'free']:\n",
    "            for j, epair in enumerate(epairs):\n",
    "                inds = driver_subset_data.loc[(driver_subset_data['Total Energy']>epair[0])&(driver_subset_data['Total Energy']<=epair[1])&(driver_subset_data['B_flag_large']==bflag)&(driver_subset_data['A_flag_home']==aflag_home)&(driver_subset_data['A_flag_work_price']==aflag_work)].index\n",
    "                vals = plot_dist(inds, n, clust='Agglom Cluster Number', plot=False)\n",
    "                pg_abe2['work_'+work_labels[aflag_work]+'_home_'+home_labels[aflag_home]+'_largebattery_'+str(bflag)+'_energy_'+str(int(epairs[j][0]))+'_'+str(int(epairs[j][1]))] = vals\n",
    "                if aflag_home == '0':\n",
    "                    pg_abe2['work_'+str(aflag_work)+'_home_'+'l1'+'_largebattery_'+str(bflag)+'_energy_'+str(int(epairs[j][0]))+'_'+str(int(epairs[j][1]))] = vals\n",
    "                    \n",
    "                \n",
    "pg_abe2 = pd.DataFrame(pg_abe2)"
   ]
  },
  {
   "cell_type": "markdown",
   "metadata": {},
   "source": [
    "#### Some groups have no mud drivers in them: we fill those in by taking the P(G|A,B,E) for the nearest groups that do. "
   ]
  },
  {
   "cell_type": "code",
   "execution_count": 141,
   "metadata": {
    "scrolled": false
   },
   "outputs": [
    {
     "data": {
      "text/plain": [
       "work_0_home_mud_largebattery_0_energy_2000_3000       0.0\n",
       "work_0_home_mud_largebattery_0_energy_3000_4000       0.0\n",
       "work_0_home_mud_largebattery_0_energy_4000_6000       0.0\n",
       "work_paid_home_mud_largebattery_0_energy_0_600        0.0\n",
       "work_paid_home_mud_largebattery_0_energy_1000_1600    0.0\n",
       "work_paid_home_mud_largebattery_0_energy_2000_3000    0.0\n",
       "work_paid_home_mud_largebattery_0_energy_3000_4000    0.0\n",
       "work_paid_home_mud_largebattery_0_energy_4000_6000    0.0\n",
       "work_free_home_mud_largebattery_0_energy_0_600        0.0\n",
       "work_free_home_mud_largebattery_0_energy_1600_2000    0.0\n",
       "work_free_home_mud_largebattery_0_energy_2000_3000    0.0\n",
       "work_free_home_mud_largebattery_0_energy_3000_4000    0.0\n",
       "work_free_home_mud_largebattery_0_energy_4000_6000    0.0\n",
       "work_0_home_mud_largebattery_1_energy_1600_2000       0.0\n",
       "work_paid_home_mud_largebattery_1_energy_600_1000     0.0\n",
       "work_paid_home_mud_largebattery_1_energy_1000_1600    0.0\n",
       "work_paid_home_mud_largebattery_1_energy_2000_3000    0.0\n",
       "work_paid_home_mud_largebattery_1_energy_4000_6000    0.0\n",
       "work_free_home_mud_largebattery_1_energy_600_1000     0.0\n",
       "work_free_home_mud_largebattery_1_energy_2000_3000    0.0\n",
       "work_free_home_mud_largebattery_1_energy_4000_6000    0.0\n",
       "dtype: float64"
      ]
     },
     "execution_count": 141,
     "metadata": {},
     "output_type": "execute_result"
    }
   ],
   "source": [
    "pg_abe2.sum()[pg_abe2.sum() == 0]"
   ]
  },
  {
   "cell_type": "code",
   "execution_count": 142,
   "metadata": {
    "scrolled": true
   },
   "outputs": [],
   "source": [
    "pg_abe2['work_0_home_mud_largebattery_0_energy_2000_3000'] = pg_abe2['work_0_home_mud_largebattery_1_energy_2000_3000']\n",
    "pg_abe2['work_0_home_mud_largebattery_0_energy_3000_4000'] = pg_abe2['work_0_home_mud_largebattery_1_energy_3000_4000']\n",
    "pg_abe2['work_0_home_mud_largebattery_0_energy_4000_6000'] = pg_abe2['work_0_home_mud_largebattery_1_energy_4000_6000']\n",
    "pg_abe2['work_0_home_mud_largebattery_1_energy_1600_2000'] = pg_abe2['work_0_home_mud_largebattery_0_energy_1600_2000']"
   ]
  },
  {
   "cell_type": "code",
   "execution_count": 143,
   "metadata": {
    "scrolled": true
   },
   "outputs": [
    {
     "data": {
      "text/plain": [
       "work_paid_home_mud_largebattery_0_energy_0_600        0.0\n",
       "work_paid_home_mud_largebattery_0_energy_1000_1600    0.0\n",
       "work_paid_home_mud_largebattery_0_energy_2000_3000    0.0\n",
       "work_paid_home_mud_largebattery_0_energy_3000_4000    0.0\n",
       "work_paid_home_mud_largebattery_0_energy_4000_6000    0.0\n",
       "work_free_home_mud_largebattery_0_energy_0_600        0.0\n",
       "work_free_home_mud_largebattery_0_energy_1600_2000    0.0\n",
       "work_free_home_mud_largebattery_0_energy_2000_3000    0.0\n",
       "work_free_home_mud_largebattery_0_energy_3000_4000    0.0\n",
       "work_free_home_mud_largebattery_0_energy_4000_6000    0.0\n",
       "work_paid_home_mud_largebattery_1_energy_600_1000     0.0\n",
       "work_paid_home_mud_largebattery_1_energy_1000_1600    0.0\n",
       "work_paid_home_mud_largebattery_1_energy_2000_3000    0.0\n",
       "work_paid_home_mud_largebattery_1_energy_4000_6000    0.0\n",
       "work_free_home_mud_largebattery_1_energy_600_1000     0.0\n",
       "work_free_home_mud_largebattery_1_energy_2000_3000    0.0\n",
       "work_free_home_mud_largebattery_1_energy_4000_6000    0.0\n",
       "dtype: float64"
      ]
     },
     "execution_count": 143,
     "metadata": {},
     "output_type": "execute_result"
    }
   ],
   "source": [
    "pg_abe2.sum()[pg_abe2.sum() == 0]"
   ]
  },
  {
   "cell_type": "code",
   "execution_count": 144,
   "metadata": {
    "scrolled": true
   },
   "outputs": [],
   "source": [
    "pg_abe2['work_paid_home_mud_largebattery_0_energy_0_600'] = pg_abe2['work_paid_home_mud_largebattery_1_energy_0_600']\n",
    "pg_abe2['work_paid_home_mud_largebattery_1_energy_600_1000'] = pg_abe2['work_paid_home_mud_largebattery_0_energy_600_1000']\n",
    "pg_abe2['work_paid_home_mud_largebattery_0_energy_3000_4000'] = pg_abe2['work_paid_home_mud_largebattery_1_energy_3000_4000']\n",
    "pg_abe2['work_paid_home_mud_largebattery_0_energy_1000_1600'] = pg_abe2['work_paid_home_mud_largebattery_1_energy_1000_1600']\n",
    "pg_abe2['work_paid_home_mud_largebattery_0_energy_1000_1600'] = pg_abe2['work_paid_home_mud_largebattery_1_energy_1000_1600']\n",
    "pg_abe2['work_free_home_mud_largebattery_0_energy_0_600'] = pg_abe2['work_free_home_mud_largebattery_1_energy_0_600']\n",
    "pg_abe2['work_free_home_mud_largebattery_1_energy_600_1000'] = pg_abe2['work_free_home_mud_largebattery_0_energy_600_1000']\n",
    "pg_abe2['work_free_home_mud_largebattery_0_energy_3000_4000'] = pg_abe2['work_free_home_mud_largebattery_1_energy_3000_4000']\n",
    "pg_abe2['work_free_home_mud_largebattery_0_energy_1600_2000'] = pg_abe2['work_free_home_mud_largebattery_1_energy_1600_2000']\n",
    "pg_abe2['work_paid_home_mud_largebattery_0_energy_1000_1600'] = pg_abe2['work_free_home_mud_largebattery_0_energy_1000_1600']\n",
    "pg_abe2['work_paid_home_mud_largebattery_1_energy_1000_1600'] = pg_abe2['work_free_home_mud_largebattery_1_energy_1000_1600']\n"
   ]
  },
  {
   "cell_type": "code",
   "execution_count": 145,
   "metadata": {
    "scrolled": true
   },
   "outputs": [
    {
     "data": {
      "text/plain": [
       "work_paid_home_mud_largebattery_0_energy_2000_3000    0.0\n",
       "work_paid_home_mud_largebattery_0_energy_4000_6000    0.0\n",
       "work_free_home_mud_largebattery_0_energy_2000_3000    0.0\n",
       "work_free_home_mud_largebattery_0_energy_4000_6000    0.0\n",
       "work_paid_home_mud_largebattery_1_energy_2000_3000    0.0\n",
       "work_paid_home_mud_largebattery_1_energy_4000_6000    0.0\n",
       "work_free_home_mud_largebattery_1_energy_2000_3000    0.0\n",
       "work_free_home_mud_largebattery_1_energy_4000_6000    0.0\n",
       "dtype: float64"
      ]
     },
     "execution_count": 145,
     "metadata": {},
     "output_type": "execute_result"
    }
   ],
   "source": [
    "pg_abe2.sum()[pg_abe2.sum() == 0]"
   ]
  },
  {
   "cell_type": "code",
   "execution_count": 146,
   "metadata": {
    "scrolled": true
   },
   "outputs": [],
   "source": [
    "pg_abe2['work_free_home_mud_largebattery_0_energy_2000_3000'] = pg_abe2['work_free_home_mud_largebattery_0_energy_1600_2000']\n",
    "pg_abe2['work_free_home_mud_largebattery_1_energy_2000_3000'] = pg_abe2['work_free_home_mud_largebattery_1_energy_1600_2000']\n",
    "pg_abe2['work_paid_home_mud_largebattery_0_energy_2000_3000'] = pg_abe2['work_paid_home_mud_largebattery_0_energy_1600_2000']\n",
    "pg_abe2['work_paid_home_mud_largebattery_1_energy_2000_3000'] = pg_abe2['work_paid_home_mud_largebattery_1_energy_1600_2000']\n",
    "pg_abe2['work_free_home_mud_largebattery_0_energy_4000_6000'] = pg_abe2['work_free_home_mud_largebattery_0_energy_3000_4000']\n",
    "pg_abe2['work_free_home_mud_largebattery_1_energy_4000_6000'] = pg_abe2['work_free_home_mud_largebattery_1_energy_3000_4000']\n",
    "pg_abe2['work_paid_home_mud_largebattery_0_energy_4000_6000'] = pg_abe2['work_paid_home_mud_largebattery_0_energy_3000_4000']\n",
    "pg_abe2['work_paid_home_mud_largebattery_1_energy_4000_6000'] = pg_abe2['work_paid_home_mud_largebattery_1_energy_3000_4000']\n"
   ]
  },
  {
   "cell_type": "code",
   "execution_count": 147,
   "metadata": {
    "scrolled": true
   },
   "outputs": [
    {
     "data": {
      "text/plain": [
       "Series([], dtype: float64)"
      ]
     },
     "execution_count": 147,
     "metadata": {},
     "output_type": "execute_result"
    }
   ],
   "source": [
    "pg_abe2.sum()[pg_abe2.sum() == 0]"
   ]
  },
  {
   "cell_type": "code",
   "execution_count": 148,
   "metadata": {
    "scrolled": true
   },
   "outputs": [],
   "source": [
    "pg_abe2.to_csv('../Data/CP'+str(n)+'/pg_abe_workprice.csv', index=None)"
   ]
  },
  {
   "cell_type": "code",
   "execution_count": 149,
   "metadata": {
    "scrolled": true
   },
   "outputs": [
    {
     "data": {
      "text/plain": [
       "136"
      ]
     },
     "execution_count": 149,
     "metadata": {},
     "output_type": "execute_result"
    }
   ],
   "source": [
    "n"
   ]
  },
  {
   "cell_type": "markdown",
   "metadata": {},
   "source": [
    "## copy over common files\n",
    "\n",
    "- 'Data/CP67/pdih.csv'"
   ]
  },
  {
   "cell_type": "code",
   "execution_count": 150,
   "metadata": {
    "scrolled": true
   },
   "outputs": [],
   "source": [
    "import shutil"
   ]
  },
  {
   "cell_type": "code",
   "execution_count": 151,
   "metadata": {
    "scrolled": true
   },
   "outputs": [],
   "source": [
    "for file in ['pdih_us_counties.csv', 'pe_bd.csv', 'pe_d.csv', 'pb_i.csv', 'p_abe.csv']:\n",
    "    old_loc = '../Data/CP16/'+file\n",
    "    new_loc = '../Data/CP'+str(n)+'/'+file\n",
    "    shutil.copy2(old_loc, new_loc)"
   ]
  },
  {
   "cell_type": "markdown",
   "metadata": {},
   "source": [
    "# Identify Timers\n",
    "\n",
    "Identify the GMM components that represent timers for each group."
   ]
  },
  {
   "cell_type": "code",
   "execution_count": 8,
   "metadata": {
    "scrolled": true
   },
   "outputs": [],
   "source": [
    "import os\n",
    "import pickle\n",
    "import numpy as np\n",
    "import copy"
   ]
  },
  {
   "cell_type": "code",
   "execution_count": 9,
   "metadata": {},
   "outputs": [],
   "source": [
    "n = 136"
   ]
  },
  {
   "cell_type": "code",
   "execution_count": 11,
   "metadata": {},
   "outputs": [
    {
     "data": {
      "text/html": [
       "<div>\n",
       "<style scoped>\n",
       "    .dataframe tbody tr th:only-of-type {\n",
       "        vertical-align: middle;\n",
       "    }\n",
       "\n",
       "    .dataframe tbody tr th {\n",
       "        vertical-align: top;\n",
       "    }\n",
       "\n",
       "    .dataframe thead th {\n",
       "        text-align: right;\n",
       "    }\n",
       "</style>\n",
       "<table border=\"1\" class=\"dataframe\">\n",
       "  <thead>\n",
       "    <tr style=\"text-align: right;\">\n",
       "      <th></th>\n",
       "      <th>pg</th>\n",
       "    </tr>\n",
       "  </thead>\n",
       "  <tbody>\n",
       "    <tr>\n",
       "      <td>0</td>\n",
       "      <td>0.017166</td>\n",
       "    </tr>\n",
       "    <tr>\n",
       "      <td>1</td>\n",
       "      <td>0.006744</td>\n",
       "    </tr>\n",
       "    <tr>\n",
       "      <td>2</td>\n",
       "      <td>0.001695</td>\n",
       "    </tr>\n",
       "    <tr>\n",
       "      <td>3</td>\n",
       "      <td>0.007212</td>\n",
       "    </tr>\n",
       "    <tr>\n",
       "      <td>4</td>\n",
       "      <td>0.003246</td>\n",
       "    </tr>\n",
       "  </tbody>\n",
       "</table>\n",
       "</div>"
      ],
      "text/plain": [
       "         pg\n",
       "0  0.017166\n",
       "1  0.006744\n",
       "2  0.001695\n",
       "3  0.007212\n",
       "4  0.003246"
      ]
     },
     "execution_count": 11,
     "metadata": {},
     "output_type": "execute_result"
    }
   ],
   "source": [
    "pg = pd.read_csv('../Data/CP'+str(n)+'/pg.csv')\n",
    "pg.head()"
   ]
  },
  {
   "cell_type": "code",
   "execution_count": 19,
   "metadata": {},
   "outputs": [
    {
     "data": {
      "text/plain": [
       "0.31441292427172557"
      ]
     },
     "execution_count": 19,
     "metadata": {},
     "output_type": "execute_result"
    }
   ],
   "source": [
    "subset = df[df['POI Category']=='Single family residential']\n",
    "(len(subset.loc[(subset['start_weekday'].isin([0, 1, 2, 3, 4])) &(subset['start_seconds'].isin([int(3600*23), 0]))]) + len(subset.loc[(subset['start_weekday'].isin([0, 1, 2, 3, 4])) &(subset['start_seconds'].isin([int(3600*23), 0, int(3600*19)]))])) / len(subset)"
   ]
  },
  {
   "cell_type": "code",
   "execution_count": 15,
   "metadata": {
    "scrolled": true
   },
   "outputs": [],
   "source": [
    "weekday = 'weekday'\n",
    "total_use_of_timers = 0\n",
    "\n",
    "folder = '../Data/CP'+str(n)+'/GMMs/'\n",
    "timer_dict = {}\n",
    "components_dict = {}\n",
    "for i in range(n):\n",
    "    if os.path.isfile(folder+weekday+'_home_l2_'+str(i)+'.p'):\n",
    "        gmm = pickle.load(open(folder+weekday+'_home_l2_'+str(i)+'.p', \"rb\"))\n",
    "        inds1 = np.where(np.abs(np.round(gmm.means_[:, 0]/3600, 2) - 23) <= 0.05) [0]\n",
    "        inds2 = np.where(np.abs(np.round(gmm.means_[:, 0]/3600, 2) - 0) <= 0.05) [0]\n",
    "        inds3 = np.where((np.round(gmm.means_[:, 0]/3600, 2) < 22.95)&(np.round(gmm.means_[:, 0]/3600, 2) >= 18)) [0]\n",
    "        if (len(inds1) + len(inds2) > 0):\n",
    "            local_dict = {}\n",
    "            components_dict[i] = list(np.concatenate((inds1, inds2)))\n",
    "            gmm_old = copy.deepcopy(gmm)\n",
    "            weights_to_distribute = np.sum(gmm_old.weights_[inds1]) + np.sum(gmm_old.weights_[inds2])\n",
    "            total_use_of_timers += pg.loc[i,'pg']*weights_to_distribute\n",
    "            for j in inds1:\n",
    "                local_dict[j] = 0\n",
    "            for j in inds2:\n",
    "                local_dict[j] = 0\n",
    "            for j in inds3:\n",
    "                local_dict[j] = np.round(gmm_old.weights_[j] + weights_to_distribute * (gmm_old.weights_[j] / np.sum(gmm_old.weights_[inds3])), 5)\n",
    "\n",
    "            timer_dict[i] = local_dict"
   ]
  },
  {
   "cell_type": "code",
   "execution_count": 16,
   "metadata": {},
   "outputs": [
    {
     "data": {
      "text/plain": [
       "0.035164284922254437"
      ]
     },
     "execution_count": 16,
     "metadata": {},
     "output_type": "execute_result"
    }
   ],
   "source": [
    "total_use_of_timers"
   ]
  },
  {
   "cell_type": "code",
   "execution_count": 155,
   "metadata": {
    "scrolled": true
   },
   "outputs": [
    {
     "name": "stdout",
     "output_type": "stream",
     "text": [
      "{1: [6], 2: [9], 7: [3, 6], 15: [4, 3], 25: [1], 28: [3], 38: [4, 1], 43: [4, 0], 50: [0], 52: [0], 53: [1, 6], 56: [8], 63: [2], 69: [4], 73: [4, 6], 75: [3], 79: [1], 80: [1, 4, 6, 7, 8, 9], 90: [1, 2], 91: [4, 3], 92: [0, 1], 93: [4, 7, 1], 96: [1, 6], 97: [0], 98: [1, 0], 100: [5, 6], 101: [0, 2], 103: [1], 108: [0], 113: [1, 9], 116: [2, 9], 119: [2], 120: [2, 9], 123: [4], 124: [3, 8], 125: [0], 128: [3], 131: [7, 3]}\n"
     ]
    }
   ],
   "source": [
    "print(components_dict)"
   ]
  },
  {
   "cell_type": "code",
   "execution_count": 156,
   "metadata": {
    "scrolled": false
   },
   "outputs": [
    {
     "data": {
      "text/plain": [
       "{1: {6: 0, 1: 0.14849, 5: 0.03703, 7: 0.03703},\n",
       " 2: {9: 0, 0: 0.23627, 2: 0.10077, 5: 0.29567, 7: 0.0427},\n",
       " 7: {3: 0, 6: 0, 2: 0.225, 7: 0.075},\n",
       " 15: {4: 0, 3: 0, 0: 0.42135, 7: 0.14317},\n",
       " 25: {1: 0, 4: 0.13225, 6: 0.37482, 9: 0.02765},\n",
       " 28: {3: 0, 1: 0.12786, 9: 0.33176},\n",
       " 38: {4: 0, 1: 0, 0: 0.14853, 3: 0.04673, 5: 0.1479, 7: 0.24463, 9: 0.15194},\n",
       " 43: {4: 0, 0: 0, 1: 0.22541, 6: 0.35318, 8: 0.04891},\n",
       " 50: {0: 0, 5: 0.07659, 6: 0.3205, 9: 0.16399},\n",
       " 52: {0: 0, 2: 0.09133, 3: 0.18267, 7: 0.274},\n",
       " 53: {1: 0, 6: 0, 4: 0.15537, 7: 0.16155, 9: 0.31757},\n",
       " 56: {8: 0, 1: 0.49652, 4: 0.1297, 5: 0.05828},\n",
       " 63: {2: 0, 0: 0.10313, 6: 0.35076, 7: 0.21534, 9: 0.01554},\n",
       " 69: {4: 0, 0: 0.03238, 3: 0.2275, 8: 0.25976},\n",
       " 73: {4: 0, 6: 0, 0: 0.14756, 7: 0.34382, 9: 0.2165},\n",
       " 75: {3: 0, 0: 0.34828, 6: 0.18934, 7: 0.11725, 8: 0.02806},\n",
       " 79: {1: 0, 4: 0.22312, 7: 0.29517, 8: 0.07437},\n",
       " 80: {1: 0, 4: 0, 6: 0, 7: 0, 8: 0, 9: 0, 2: 0.16234},\n",
       " 90: {1: 0, 2: 0, 0: 0.27978, 5: 0.17592, 6: 0.25918},\n",
       " 91: {4: 0, 3: 0, 0: 0.5195, 7: 0.16284},\n",
       " 92: {0: 0, 1: 0, 5: 0.56873},\n",
       " 93: {4: 0, 7: 0, 1: 0, 0: 0.35504, 5: 0.26948, 8: 0.1881},\n",
       " 96: {1: 0, 6: 0, 3: 0.38494, 7: 0.27639},\n",
       " 97: {0: 0, 3: 0.4569},\n",
       " 98: {1: 0, 0: 0, 2: 0.00989, 4: 0.19691, 5: 0.42121, 7: 0.01611, 9: 0.11857},\n",
       " 100: {5: 0, 6: 0, 0: 0.35529, 4: 0.21375, 7: 0.16701, 9: 0.08554},\n",
       " 101: {0: 0, 2: 0, 1: 0.01742, 4: 0.17201, 6: 0.16303, 8: 0.02297, 9: 0.40074},\n",
       " 103: {1: 0},\n",
       " 108: {0: 0, 3: 0.17123, 6: 0.33405},\n",
       " 113: {1: 0, 9: 0, 3: 0.52191, 6: 0.17636},\n",
       " 116: {2: 0, 9: 0, 0: 0.4248, 3: 0.02407, 7: 0.24248, 8: 0.06192},\n",
       " 119: {2: 0, 0: 0.40093, 6: 0.25618},\n",
       " 120: {2: 0, 9: 0, 0: 0.44997, 3: 0.00657, 8: 0.24921},\n",
       " 123: {4: 0, 0: 0.21157, 5: 0.13037, 6: 0.25444, 8: 0.09301},\n",
       " 124: {3: 0, 8: 0, 6: 0.33304, 7: 0.19815, 9: 0.1772},\n",
       " 125: {0: 0, 2: 0.02308, 4: 0.12656, 6: 0.32635, 7: 0.23576},\n",
       " 128: {3: 0, 0: 0.13393, 4: 0.0058, 9: 0.29864},\n",
       " 131: {7: 0, 3: 0, 0: 0.19032, 2: 0.03078, 4: 0.12547, 6: 0.41159}}"
      ]
     },
     "execution_count": 156,
     "metadata": {},
     "output_type": "execute_result"
    }
   ],
   "source": [
    "timer_dict"
   ]
  },
  {
   "cell_type": "code",
   "execution_count": 263,
   "metadata": {
    "scrolled": true
   },
   "outputs": [],
   "source": [
    "weekday = 'weekend'\n",
    "\n",
    "folder = '../Data/CP'+str(n)+'/GMMs/'\n",
    "timer_dict = {}\n",
    "components_dict = {}\n",
    "for i in range(n):\n",
    "    if os.path.isfile(folder+weekday+'_home_l2_'+str(i)+'.p'):\n",
    "        gmm = pickle.load(open(folder+weekday+'_home_l2_'+str(i)+'.p', \"rb\"))\n",
    "        inds1 = np.where(np.abs(np.round(gmm.means_[:, 0]/3600, 2) - 23) == 0) [0]\n",
    "        inds2 = np.where(np.abs(np.round(gmm.means_[:, 0]/3600, 2) - 0) == 0) [0]\n",
    "        inds4 = np.where(np.abs(np.round(gmm.means_[:, 0]/3600, 2) - 19) == 0)[0]\n",
    "        inds3 = np.where((np.round(gmm.means_[:, 0]/3600, 2) < 22.95)&(np.round(gmm.means_[:, 0]/3600, 2) >= 18)&(np.abs(np.round(gmm.means_[:, 0]/3600, 2) - 19) > 0))[0]\n",
    "        if (len(inds1) + len(inds2) + len(inds4) > 0):\n",
    "            local_dict = {}\n",
    "            components_dict[i] = list(np.concatenate((inds1, inds2, inds4)))\n",
    "            gmm_old = copy.deepcopy(gmm)\n",
    "            target_energy = (np.sum(gmm_old.means_[inds1, 1]*gmm_old.weights_[inds1]) + np.sum(gmm_old.means_[inds2, 1]*gmm_old.weights_[inds2]) + np.sum(gmm_old.means_[inds4, 1]*gmm_old.weights_[inds4]) )/(np.sum(gmm_old.weights_[inds1]) + np.sum(gmm_old.weights_[inds2]) + np.sum(gmm_old.weights_[inds4]))\n",
    "            options = []\n",
    "            for j in range(len(inds3)):\n",
    "                for val in itertools.combinations(inds3, len(inds3)-j):\n",
    "                    options.append(val)\n",
    "            energy_results = {}\n",
    "            for k, option in enumerate(options):\n",
    "                energy_results[k] = (np.sum(gmm_old.means_[list(option), 1]*gmm_old.weights_[list(option)])) / (np.sum(gmm_old.weights_[list(option)]))\n",
    "            inds_use = list(options[np.min(np.abs(pd.DataFrame(energy_results, index=[0]).T-target_energy)).index.values[0]])\n",
    "            weights_to_distribute = np.sum(gmm_old.weights_[inds1]) + np.sum(gmm_old.weights_[inds2]) + np.sum(gmm_old.weights_[inds4])\n",
    "            for j in inds1:\n",
    "                local_dict[j] = 0\n",
    "            for j in inds2:\n",
    "                local_dict[j] = 0\n",
    "            for j in inds4:\n",
    "                local_dict[j] = 0\n",
    "            for j in inds_use:#inds3:\n",
    "                local_dict[j] = np.round(gmm_old.weights_[j] + weights_to_distribute * (gmm_old.weights_[j] / np.sum(gmm_old.weights_[inds3])), 5)\n",
    "                \n",
    "            timer_dict[i] = local_dict"
   ]
  },
  {
   "cell_type": "code",
   "execution_count": 264,
   "metadata": {
    "scrolled": true
   },
   "outputs": [
    {
     "name": "stdout",
     "output_type": "stream",
     "text": [
      "{2: [9, 7], 15: [0], 25: [4, 6], 38: [9, 7, 8], 43: [3, 5], 50: [1], 52: [1], 91: [0], 96: [0], 116: [5], 124: [1], 125: [6], 128: [0]}\n"
     ]
    }
   ],
   "source": [
    "print(components_dict)"
   ]
  },
  {
   "cell_type": "code",
   "execution_count": 265,
   "metadata": {
    "scrolled": true
   },
   "outputs": [
    {
     "data": {
      "text/plain": [
       "{2: {9: 0, 7: 0, 3: 0.30036, 6: 0.05497, 8: 0.09777},\n",
       " 15: {0: 0, 2: 0.05363, 4: 0.07807, 5: 0.16625, 8: 0.2602},\n",
       " 25: {4: 0, 6: 0, 0: 0.30698, 5: 0.06866},\n",
       " 38: {9: 0, 7: 0, 8: 0, 0: 0.1955, 6: 0.31529},\n",
       " 43: {3: 0, 5: 0, 1: 0.21035, 7: 0.11394, 9: 0.12133},\n",
       " 50: {1: 0, 2: 0.02924, 4: 0.13635, 7: 0.12723, 9: 0.19408},\n",
       " 52: {1: 0, 2: 0.44318},\n",
       " 91: {0: 0, 7: 0.16236, 8: 0.14845, 9: 0.2101},\n",
       " 96: {0: 0, 4: 0.03199, 5: 0.08512, 6: 0.19454, 8: 0.15892, 9: 0.10285},\n",
       " 116: {5: 0, 0: 0.19057, 3: 0.24956, 9: 0.15634},\n",
       " 124: {1: 0, 5: 0.11576, 6: 0.20798, 8: 0.05629, 9: 0.18691},\n",
       " 125: {6: 0, 1: 0.19651, 4: 0.2398},\n",
       " 128: {0: 0, 5: 0.29316, 8: 0.12252}}"
      ]
     },
     "execution_count": 265,
     "metadata": {},
     "output_type": "execute_result"
    }
   ],
   "source": [
    "timer_dict"
   ]
  }
 ],
 "metadata": {
  "kernelspec": {
   "display_name": "Python 3",
   "language": "python",
   "name": "python3"
  },
  "language_info": {
   "codemirror_mode": {
    "name": "ipython",
    "version": 3
   },
   "file_extension": ".py",
   "mimetype": "text/x-python",
   "name": "python",
   "nbconvert_exporter": "python",
   "pygments_lexer": "ipython3",
   "version": "3.7.4"
  }
 },
 "nbformat": 4,
 "nbformat_minor": 2
}
