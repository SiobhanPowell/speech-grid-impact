{
 "cells": [
  {
   "cell_type": "markdown",
   "metadata": {},
   "source": [
    "# Applying the learned workplace control models to the demand profiles.\n",
    "\n",
    "Developed by Siobhan Powell, 2021."
   ]
  },
  {
   "cell_type": "code",
   "execution_count": 1,
   "metadata": {},
   "outputs": [],
   "source": [
    "import boto3\n",
    "import pandas as pd\n",
    "import numpy as np\n",
    "import matplotlib.pyplot as plt\n",
    "import pickle\n",
    "import os"
   ]
  },
  {
   "cell_type": "code",
   "execution_count": 2,
   "metadata": {},
   "outputs": [],
   "source": [
    "clf1 = pickle.load(open('workplace_control_model_1min_avgem_20211119.p', \"rb\"))\n",
    "clf2 = pickle.load(open('workplace_control_model_1min_minpeak_20211119.p', \"rb\"))"
   ]
  },
  {
   "cell_type": "code",
   "execution_count": 3,
   "metadata": {},
   "outputs": [],
   "source": [
    "folder = '../RunningModel/Outputs/'\n",
    "filenames = []\n",
    "filenames += [each for each in os.listdir(folder) if (each.endswith('WECC_20211119.csv'))]"
   ]
  },
  {
   "cell_type": "code",
   "execution_count": 4,
   "metadata": {},
   "outputs": [
    {
     "name": "stdout",
     "output_type": "stream",
     "text": [
      "Not running:  LowHome_HighWork_100p_weekend_WECC_20211119.csv\n",
      "Not running:  LowHome_LowWork_100p_weekend_WECC_20211119.csv\n",
      "Not running:  UniversalHome_100p_NoTimers_weekend_WECC_20211119.csv\n",
      "Not running:  LowHome_LowWork_100p_midnighttimer_weekend_WECC_20211119.csv\n",
      "Not running:  HighHome_100p_midnighttimer_weekend_WECC_20211119.csv\n",
      "Not running:  HighHome_100p_NoTimers_weekend_WECC_20211119.csv\n",
      "Not running:  BusinessAsUsual_100p_WPcontrol_minpeak_WECC_20211119.csv\n",
      "Not running:  LowHome_LowWork_100p_NoTimers_weekend_WECC_20211119.csv\n",
      "Not running:  UniversalHome_100p_weekend_WECC_20211119.csv\n",
      "Not running:  LowHome_HighWork_100p_NoTimers_weekend_WECC_20211119.csv\n",
      "Not running:  UniversalHome_100p_midnighttimer_weekend_WECC_20211119.csv\n",
      "Not running:  HighHome_100p_weekend_WECC_20211119.csv\n",
      "Not running:  LowHome_HighWork_100p_midnighttimer_weekend_WECC_20211119.csv\n",
      "Not running:  BusinessAsUsual_100p_weekend_WECC_20211119.csv\n"
     ]
    }
   ],
   "source": [
    "for file in filenames:\n",
    "    if 'weekend' in file: # don't apply control on weekends (very few workplace sessions anyway)\n",
    "        print('Not running: ', file)\n",
    "    elif 'WPcontrol' in file: # don't do ones where WPcontrol has already been applied\n",
    "        print('Not running: ', file)\n",
    "    else:\n",
    "        test = pd.read_csv(folder+file, index_col=0) # load profile\n",
    "        normval = np.max(test['Workplace L2'].values) # normalize\n",
    "        controlled1 = normval * clf1.predict((test['Workplace L2'].values/normval).reshape(1, -1))\n",
    "        controlled2 = normval * clf2.predict((test['Workplace L2'].values/normval).reshape(1, -1))\n",
    "        test2 = test.copy(deep=True)\n",
    "        test2['Workplace L2'] = controlled1.ravel() # apply control 1\n",
    "        test2.to_csv(folder+file[:-17]+'WPcontrol_avgem_'+file[-17:])\n",
    "        test3 = test.copy(deep=True)\n",
    "        test3['Workplace L2'] = controlled2.ravel() # apply control 2\n",
    "        test3.to_csv(folder+file[:-17]+'WPcontrol_minpeak_'+file[-17:])"
   ]
  }
 ],
 "metadata": {
  "kernelspec": {
   "display_name": "Python 3",
   "language": "python",
   "name": "python3"
  },
  "language_info": {
   "codemirror_mode": {
    "name": "ipython",
    "version": 3
   },
   "file_extension": ".py",
   "mimetype": "text/x-python",
   "name": "python",
   "nbconvert_exporter": "python",
   "pygments_lexer": "ipython3",
   "version": "3.7.4"
  }
 },
 "nbformat": 4,
 "nbformat_minor": 2
}
