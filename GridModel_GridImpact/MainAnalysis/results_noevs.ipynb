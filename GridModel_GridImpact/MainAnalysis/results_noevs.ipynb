{
 "cells": [
  {
   "cell_type": "markdown",
   "metadata": {},
   "source": [
    "# Main Results - Dispatch in scenarios with NO EVs\n",
    "\n",
    "Developed by Siobhan Powell, 2021. \n"
   ]
  },
  {
   "cell_type": "code",
   "execution_count": 1,
   "metadata": {},
   "outputs": [],
   "source": [
    "import os\n",
    "os.chdir('..')"
   ]
  },
  {
   "cell_type": "code",
   "execution_count": 2,
   "metadata": {},
   "outputs": [],
   "source": [
    "import numpy as np\n",
    "import matplotlib.pyplot as plt\n",
    "import pandas as pd\n",
    "import pickle\n",
    "import scipy\n",
    "import os.path\n",
    "import pandas\n",
    "import matplotlib\n",
    "import shutil\n",
    "import copy\n",
    "\n",
    "from simple_dispatch import generatorData\n",
    "from simple_dispatch import bidStack\n",
    "from simple_dispatch import dispatch\n",
    "from simple_dispatch import generatorDataShort\n",
    "from future_grid import FutureDemand\n",
    "from future_grid import FutureGrid\n",
    "from simple_dispatch import StorageModel"
   ]
  },
  {
   "cell_type": "markdown",
   "metadata": {},
   "source": [
    "Load generator model"
   ]
  },
  {
   "cell_type": "code",
   "execution_count": 3,
   "metadata": {},
   "outputs": [],
   "source": [
    "gd_short = pickle.load(open('IntermediateOutputs/generator_data_short_WECC_2019.obj', 'rb'))"
   ]
  },
  {
   "cell_type": "markdown",
   "metadata": {},
   "source": [
    "# 2019"
   ]
  },
  {
   "cell_type": "code",
   "execution_count": 9,
   "metadata": {
    "scrolled": true
   },
   "outputs": [
    {
     "name": "stdout",
     "output_type": "stream",
     "text": [
      "1.9% Complete\n",
      "3.8% Complete\n",
      "5.8% Complete\n",
      "7.7% Complete\n",
      "9.6% Complete\n",
      "11.5% Complete\n",
      "13.5% Complete\n",
      "15.4% Complete\n",
      "17.3% Complete\n",
      "19.2% Complete\n",
      "21.2% Complete\n",
      "23.1% Complete\n",
      "25.0% Complete\n",
      "26.9% Complete\n",
      "28.8% Complete\n",
      "30.8% Complete\n",
      "32.7% Complete\n",
      "34.6% Complete\n",
      "36.5% Complete\n",
      "38.5% Complete\n",
      "40.4% Complete\n",
      "42.3% Complete\n",
      "44.2% Complete\n",
      "46.2% Complete\n",
      "48.1% Complete\n",
      "50.0% Complete\n",
      "51.9% Complete\n",
      "53.8% Complete\n",
      "55.8% Complete\n",
      "57.7% Complete\n",
      "59.6% Complete\n",
      "61.5% Complete\n",
      "63.5% Complete\n",
      "65.4% Complete\n",
      "67.3% Complete\n",
      "69.2% Complete\n",
      "71.2% Complete\n",
      "73.1% Complete\n",
      "75.0% Complete\n",
      "76.9% Complete\n",
      "78.8% Complete\n",
      "80.8% Complete\n",
      "82.7% Complete\n",
      "84.6% Complete\n",
      "86.5% Complete\n",
      "88.5% Complete\n",
      "90.4% Complete\n",
      "92.3% Complete\n",
      "94.2% Complete\n",
      "96.2% Complete\n",
      "98.1% Complete\n",
      "100.0% Complete\n"
     ]
    }
   ],
   "source": [
    "# Load bidStack merit order and pass to dispatch object\n",
    "bs = bidStack(gd_short, co2_dol_per_kg=0, time=1, dropNucHydroGeo=True, include_min_output=False, mdt_weight=0.5, include_easiur=False) \n",
    "dp = dispatch(bs, gd_short.demand_data, time_array=scipy.arange(52)+1, include_storage=True)\n",
    "# run dispatch\n",
    "dp.calcDispatchAll() \n",
    "save_str = 'Results/NoEVs_year2019'\n",
    "result_date = '20211119'\n",
    "# save result\n",
    "dp.df.to_csv(save_str+'_dpdf_'+result_date+'.csv', index=False)\n"
   ]
  },
  {
   "cell_type": "markdown",
   "metadata": {},
   "source": [
    "Calculate and save `total_incl_noncombustion` for 2019 result:"
   ]
  },
  {
   "cell_type": "code",
   "execution_count": 12,
   "metadata": {},
   "outputs": [],
   "source": [
    "future = FutureDemand(gd_short, year=2019)\n",
    "future.solar_multiplier[2019] = 1\n",
    "future.wind_multiplier[2019] = 1\n",
    "# retrieve wind and solar data from 2019, calculate total demand\n",
    "future.solar()\n",
    "future.wind()\n",
    "dp.df['total_incl_noncombustion'] = future.demand.total_incl_noncombustion.values"
   ]
  },
  {
   "cell_type": "code",
   "execution_count": 13,
   "metadata": {},
   "outputs": [],
   "source": [
    "dp.df.to_csv(save_str+'_dpdf_'+result_date+'.csv', index=False)"
   ]
  },
  {
   "cell_type": "code",
   "execution_count": 16,
   "metadata": {},
   "outputs": [],
   "source": [
    "bs.df.to_csv('Results/NoEVs_year2019_bsdf_'+result_date+'.csv', index=False)"
   ]
  },
  {
   "cell_type": "markdown",
   "metadata": {},
   "source": [
    "# Future"
   ]
  },
  {
   "cell_type": "code",
   "execution_count": 17,
   "metadata": {},
   "outputs": [
    {
     "name": "stdout",
     "output_type": "stream",
     "text": [
      "1.9% Complete\n",
      "3.8% Complete\n",
      "5.8% Complete\n",
      "7.7% Complete\n",
      "9.6% Complete\n",
      "11.5% Complete\n",
      "13.5% Complete\n",
      "15.4% Complete\n",
      "17.3% Complete\n",
      "19.2% Complete\n",
      "21.2% Complete\n",
      "23.1% Complete\n",
      "25.0% Complete\n",
      "26.9% Complete\n",
      "28.8% Complete\n",
      "30.8% Complete\n",
      "32.7% Complete\n",
      "34.6% Complete\n",
      "36.5% Complete\n",
      "38.5% Complete\n",
      "40.4% Complete\n",
      "42.3% Complete\n",
      "44.2% Complete\n",
      "46.2% Complete\n",
      "48.1% Complete\n",
      "50.0% Complete\n",
      "51.9% Complete\n",
      "53.8% Complete\n",
      "55.8% Complete\n",
      "57.7% Complete\n",
      "59.6% Complete\n",
      "61.5% Complete\n",
      "63.5% Complete\n",
      "65.4% Complete\n",
      "67.3% Complete\n",
      "69.2% Complete\n",
      "71.2% Complete\n",
      "73.1% Complete\n",
      "75.0% Complete\n",
      "76.9% Complete\n",
      "78.8% Complete\n",
      "80.8% Complete\n",
      "82.7% Complete\n",
      "84.6% Complete\n",
      "86.5% Complete\n",
      "88.5% Complete\n",
      "90.4% Complete\n",
      "92.3% Complete\n",
      "94.2% Complete\n",
      "96.2% Complete\n",
      "98.1% Complete\n",
      "100.0% Complete\n",
      "1.9% Complete\n",
      "3.8% Complete\n",
      "5.8% Complete\n",
      "7.7% Complete\n",
      "9.6% Complete\n",
      "11.5% Complete\n",
      "13.5% Complete\n",
      "15.4% Complete\n",
      "17.3% Complete\n",
      "19.2% Complete\n",
      "21.2% Complete\n",
      "23.1% Complete\n",
      "25.0% Complete\n",
      "26.9% Complete\n",
      "28.8% Complete\n",
      "30.8% Complete\n",
      "32.7% Complete\n",
      "34.6% Complete\n",
      "36.5% Complete\n",
      "38.5% Complete\n",
      "40.4% Complete\n",
      "42.3% Complete\n",
      "44.2% Complete\n",
      "46.2% Complete\n",
      "48.1% Complete\n",
      "50.0% Complete\n",
      "51.9% Complete\n",
      "53.8% Complete\n",
      "55.8% Complete\n",
      "57.7% Complete\n",
      "59.6% Complete\n",
      "61.5% Complete\n",
      "63.5% Complete\n",
      "65.4% Complete\n",
      "67.3% Complete\n",
      "69.2% Complete\n",
      "71.2% Complete\n",
      "73.1% Complete\n",
      "75.0% Complete\n",
      "76.9% Complete\n",
      "78.8% Complete\n",
      "80.8% Complete\n",
      "82.7% Complete\n",
      "84.6% Complete\n",
      "86.5% Complete\n",
      "88.5% Complete\n",
      "90.4% Complete\n",
      "92.3% Complete\n",
      "94.2% Complete\n",
      "96.2% Complete\n",
      "98.1% Complete\n",
      "100.0% Complete\n",
      "1.9% Complete\n",
      "3.8% Complete\n",
      "5.8% Complete\n",
      "7.7% Complete\n",
      "9.6% Complete\n",
      "11.5% Complete\n",
      "13.5% Complete\n",
      "15.4% Complete\n",
      "17.3% Complete\n",
      "19.2% Complete\n",
      "21.2% Complete\n",
      "23.1% Complete\n",
      "25.0% Complete\n",
      "26.9% Complete\n",
      "28.8% Complete\n",
      "30.8% Complete\n",
      "32.7% Complete\n",
      "34.6% Complete\n",
      "36.5% Complete\n",
      "38.5% Complete\n",
      "40.4% Complete\n",
      "42.3% Complete\n",
      "44.2% Complete\n",
      "46.2% Complete\n",
      "48.1% Complete\n",
      "50.0% Complete\n",
      "51.9% Complete\n",
      "53.8% Complete\n",
      "55.8% Complete\n",
      "57.7% Complete\n",
      "59.6% Complete\n",
      "61.5% Complete\n",
      "63.5% Complete\n",
      "65.4% Complete\n",
      "67.3% Complete\n",
      "69.2% Complete\n",
      "71.2% Complete\n",
      "73.1% Complete\n",
      "75.0% Complete\n",
      "76.9% Complete\n",
      "78.8% Complete\n",
      "80.8% Complete\n",
      "82.7% Complete\n",
      "84.6% Complete\n",
      "86.5% Complete\n",
      "88.5% Complete\n",
      "90.4% Complete\n",
      "92.3% Complete\n",
      "94.2% Complete\n",
      "96.2% Complete\n",
      "98.1% Complete\n",
      "100.0% Complete\n"
     ]
    }
   ],
   "source": [
    "for mult in [2.5, 1, 5]:\n",
    "    # Use FutureGrid to run scenarios without EVs\n",
    "    grid = FutureGrid(gd_short)\n",
    "    grid.set_up_scenario(year=2030, solar=mult, wind=mult, fuel=1, ev_workplace_bool=False, evs_bool=False)\n",
    "    save_str = 'Results/NoEVs_year2030_solar'+str(mult)+'x_wind'+str(mult)+'x'\n",
    "    grid.check_overgeneration(save_str=save_str)\n",
    "    grid.run_dispatch(1.0, save_str, result_date='20211119') "
   ]
  }
 ],
 "metadata": {
  "kernelspec": {
   "display_name": "Python 3",
   "language": "python",
   "name": "python3"
  },
  "language_info": {
   "codemirror_mode": {
    "name": "ipython",
    "version": 3
   },
   "file_extension": ".py",
   "mimetype": "text/x-python",
   "name": "python",
   "nbconvert_exporter": "python",
   "pygments_lexer": "ipython3",
   "version": "3.7.4"
  }
 },
 "nbformat": 4,
 "nbformat_minor": 2
}
