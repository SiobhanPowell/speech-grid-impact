{
 "cells": [
  {
   "cell_type": "markdown",
   "metadata": {},
   "source": [
    "## Supplementary Figure - Capacity with different grids\n",
    "Siobhan Powell, 2021."
   ]
  },
  {
   "cell_type": "code",
   "execution_count": 1,
   "metadata": {},
   "outputs": [],
   "source": [
    "import os\n",
    "os.chdir('../')"
   ]
  },
  {
   "cell_type": "code",
   "execution_count": 16,
   "metadata": {},
   "outputs": [],
   "source": [
    "import numpy as np\n",
    "import matplotlib.pyplot as plt\n",
    "import pandas as pd\n",
    "import pickle\n",
    "import scipy\n",
    "import os.path\n",
    "import pandas\n",
    "import matplotlib\n",
    "import shutil\n",
    "import copy\n",
    "\n",
    "from simple_dispatch import generatorData\n",
    "from simple_dispatch import bidStack\n",
    "from simple_dispatch import dispatch\n",
    "from simple_dispatch import generatorDataShort\n",
    "from future_grid import FutureDemand\n",
    "from future_grid import FutureGrid\n",
    "from simple_dispatch import StorageModel"
   ]
  },
  {
   "cell_type": "code",
   "execution_count": 11,
   "metadata": {},
   "outputs": [
    {
     "name": "stdout",
     "output_type": "stream",
     "text": [
      "UniversalHome _Timers9pm_noWPcontrol 5654\n"
     ]
    }
   ],
   "source": [
    "for evscenario in ['UniversalHome', 'HighHome', 'LowHome_HighWork', 'LowHome_LowWork']:\n",
    "    for controlscenario in ['_Timers12am_noWPcontrol', '_TimersRandom_noWPcontrol', '_Timers9pm_noWPcontrol', '_TimersNone_noWPcontrol', '_TimersNone_WPcontrol_minpeak', '_TimersNone_WPcontrol_avgem']:\n",
    "        val = pd.read_csv('Results/Fuel1_Solar5_Wind5_2035/fuel1_solar5_wind5_'+evscenario+controlscenario+'_penlevel1.0_storagebefore_storage_stats_20220408.csv')['Storage Rate Result'].values[0]\n",
    "        if val > 0:\n",
    "            print(evscenario, controlscenario, val)"
   ]
  },
  {
   "cell_type": "code",
   "execution_count": 17,
   "metadata": {},
   "outputs": [
    {
     "data": {
      "text/html": [
       "<div>\n",
       "<style scoped>\n",
       "    .dataframe tbody tr th:only-of-type {\n",
       "        vertical-align: middle;\n",
       "    }\n",
       "\n",
       "    .dataframe tbody tr th {\n",
       "        vertical-align: top;\n",
       "    }\n",
       "\n",
       "    .dataframe thead th {\n",
       "        text-align: right;\n",
       "    }\n",
       "</style>\n",
       "<table border=\"1\" class=\"dataframe\">\n",
       "  <thead>\n",
       "    <tr style=\"text-align: right;\">\n",
       "      <th></th>\n",
       "      <th>Storage Rate Result</th>\n",
       "      <th>Storage Capacity</th>\n",
       "    </tr>\n",
       "  </thead>\n",
       "  <tbody>\n",
       "    <tr>\n",
       "      <td>0</td>\n",
       "      <td>0</td>\n",
       "      <td>0</td>\n",
       "    </tr>\n",
       "  </tbody>\n",
       "</table>\n",
       "</div>"
      ],
      "text/plain": [
       "   Storage Rate Result  Storage Capacity\n",
       "0                    0                 0"
      ]
     },
     "execution_count": 17,
     "metadata": {},
     "output_type": "execute_result"
    }
   ],
   "source": [
    "pd.read_csv('Results/Fuel1_Solar5_Wind5_2035/fuel1_solar5_wind5_BusinessAsUsual_TimersMixed_WPcontrol_minpeak_penlevel1.0_storagebefore_storage_stats_20220408.csv')"
   ]
  },
  {
   "cell_type": "code",
   "execution_count": 21,
   "metadata": {},
   "outputs": [],
   "source": [
    "maxpen_results10GW = pd.read_csv('Results/max_penetration_levels_1h_2035_10GWstorage_20220408.csv', index_col=0)\n",
    "maxpen_results10GW_bau = pd.read_csv('Results/max_penetration_levels_1h_bau_2035_10GWstorage_20220408.csv', index_col=0)"
   ]
  },
  {
   "cell_type": "code",
   "execution_count": 39,
   "metadata": {},
   "outputs": [],
   "source": [
    "maxpen_results10GW_HighRenew = maxpen_results10GW.copy(deep=True)\n",
    "maxpen_results10GW_HighRenew_bau = maxpen_results10GW_bau.copy(deep=True)"
   ]
  },
  {
   "cell_type": "code",
   "execution_count": 40,
   "metadata": {},
   "outputs": [],
   "source": [
    "maxpen_results10GW_HighRenew.loc[:, :] = 1\n",
    "maxpen_results10GW_HighRenew_bau.loc[:, :] = 1"
   ]
  },
  {
   "cell_type": "code",
   "execution_count": 41,
   "metadata": {},
   "outputs": [
    {
     "data": {
      "text/html": [
       "<div>\n",
       "<style scoped>\n",
       "    .dataframe tbody tr th:only-of-type {\n",
       "        vertical-align: middle;\n",
       "    }\n",
       "\n",
       "    .dataframe tbody tr th {\n",
       "        vertical-align: top;\n",
       "    }\n",
       "\n",
       "    .dataframe thead th {\n",
       "        text-align: right;\n",
       "    }\n",
       "</style>\n",
       "<table border=\"1\" class=\"dataframe\">\n",
       "  <thead>\n",
       "    <tr style=\"text-align: right;\">\n",
       "      <th></th>\n",
       "      <th>fuel1_solar3.5_wind3_UniversalHome_noWPcontrol</th>\n",
       "      <th>fuel1_solar3.5_wind3_UniversalHome_WPcontrol_avgem</th>\n",
       "      <th>fuel1_solar3.5_wind3_UniversalHome_WPcontrol_minpeak</th>\n",
       "      <th>fuel1_solar3.5_wind3_HighHome_noWPcontrol</th>\n",
       "      <th>fuel1_solar3.5_wind3_HighHome_WPcontrol_avgem</th>\n",
       "      <th>fuel1_solar3.5_wind3_HighHome_WPcontrol_minpeak</th>\n",
       "      <th>fuel1_solar3.5_wind3_LowHome_HighWork_noWPcontrol</th>\n",
       "      <th>fuel1_solar3.5_wind3_LowHome_HighWork_WPcontrol_avgem</th>\n",
       "      <th>fuel1_solar3.5_wind3_LowHome_HighWork_WPcontrol_minpeak</th>\n",
       "      <th>fuel1_solar3.5_wind3_LowHome_LowWork_noWPcontrol</th>\n",
       "      <th>fuel1_solar3.5_wind3_LowHome_LowWork_WPcontrol_avgem</th>\n",
       "      <th>fuel1_solar3.5_wind3_LowHome_LowWork_WPcontrol_minpeak</th>\n",
       "    </tr>\n",
       "  </thead>\n",
       "  <tbody>\n",
       "    <tr>\n",
       "      <td>TimersRandom</td>\n",
       "      <td>0.83</td>\n",
       "      <td>NaN</td>\n",
       "      <td>NaN</td>\n",
       "      <td>1.00</td>\n",
       "      <td>NaN</td>\n",
       "      <td>NaN</td>\n",
       "      <td>1.0</td>\n",
       "      <td>NaN</td>\n",
       "      <td>NaN</td>\n",
       "      <td>1.0</td>\n",
       "      <td>NaN</td>\n",
       "      <td>NaN</td>\n",
       "    </tr>\n",
       "    <tr>\n",
       "      <td>Timers9pm</td>\n",
       "      <td>0.59</td>\n",
       "      <td>NaN</td>\n",
       "      <td>NaN</td>\n",
       "      <td>0.79</td>\n",
       "      <td>NaN</td>\n",
       "      <td>NaN</td>\n",
       "      <td>1.0</td>\n",
       "      <td>NaN</td>\n",
       "      <td>NaN</td>\n",
       "      <td>1.0</td>\n",
       "      <td>NaN</td>\n",
       "      <td>NaN</td>\n",
       "    </tr>\n",
       "    <tr>\n",
       "      <td>Timers12am</td>\n",
       "      <td>0.86</td>\n",
       "      <td>NaN</td>\n",
       "      <td>NaN</td>\n",
       "      <td>1.00</td>\n",
       "      <td>NaN</td>\n",
       "      <td>NaN</td>\n",
       "      <td>1.0</td>\n",
       "      <td>NaN</td>\n",
       "      <td>NaN</td>\n",
       "      <td>1.0</td>\n",
       "      <td>NaN</td>\n",
       "      <td>NaN</td>\n",
       "    </tr>\n",
       "    <tr>\n",
       "      <td>TimersNone</td>\n",
       "      <td>0.67</td>\n",
       "      <td>0.67</td>\n",
       "      <td>0.67</td>\n",
       "      <td>0.89</td>\n",
       "      <td>0.89</td>\n",
       "      <td>0.89</td>\n",
       "      <td>1.0</td>\n",
       "      <td>1.0</td>\n",
       "      <td>1.0</td>\n",
       "      <td>1.0</td>\n",
       "      <td>1.0</td>\n",
       "      <td>1.0</td>\n",
       "    </tr>\n",
       "  </tbody>\n",
       "</table>\n",
       "</div>"
      ],
      "text/plain": [
       "              fuel1_solar3.5_wind3_UniversalHome_noWPcontrol  \\\n",
       "TimersRandom                                            0.83   \n",
       "Timers9pm                                               0.59   \n",
       "Timers12am                                              0.86   \n",
       "TimersNone                                              0.67   \n",
       "\n",
       "              fuel1_solar3.5_wind3_UniversalHome_WPcontrol_avgem  \\\n",
       "TimersRandom                                                NaN    \n",
       "Timers9pm                                                   NaN    \n",
       "Timers12am                                                  NaN    \n",
       "TimersNone                                                 0.67    \n",
       "\n",
       "              fuel1_solar3.5_wind3_UniversalHome_WPcontrol_minpeak  \\\n",
       "TimersRandom                                                NaN      \n",
       "Timers9pm                                                   NaN      \n",
       "Timers12am                                                  NaN      \n",
       "TimersNone                                                 0.67      \n",
       "\n",
       "              fuel1_solar3.5_wind3_HighHome_noWPcontrol  \\\n",
       "TimersRandom                                       1.00   \n",
       "Timers9pm                                          0.79   \n",
       "Timers12am                                         1.00   \n",
       "TimersNone                                         0.89   \n",
       "\n",
       "              fuel1_solar3.5_wind3_HighHome_WPcontrol_avgem  \\\n",
       "TimersRandom                                            NaN   \n",
       "Timers9pm                                               NaN   \n",
       "Timers12am                                              NaN   \n",
       "TimersNone                                             0.89   \n",
       "\n",
       "              fuel1_solar3.5_wind3_HighHome_WPcontrol_minpeak  \\\n",
       "TimersRandom                                              NaN   \n",
       "Timers9pm                                                 NaN   \n",
       "Timers12am                                                NaN   \n",
       "TimersNone                                               0.89   \n",
       "\n",
       "              fuel1_solar3.5_wind3_LowHome_HighWork_noWPcontrol  \\\n",
       "TimersRandom                                                1.0   \n",
       "Timers9pm                                                   1.0   \n",
       "Timers12am                                                  1.0   \n",
       "TimersNone                                                  1.0   \n",
       "\n",
       "              fuel1_solar3.5_wind3_LowHome_HighWork_WPcontrol_avgem  \\\n",
       "TimersRandom                                                NaN       \n",
       "Timers9pm                                                   NaN       \n",
       "Timers12am                                                  NaN       \n",
       "TimersNone                                                  1.0       \n",
       "\n",
       "              fuel1_solar3.5_wind3_LowHome_HighWork_WPcontrol_minpeak  \\\n",
       "TimersRandom                                                NaN         \n",
       "Timers9pm                                                   NaN         \n",
       "Timers12am                                                  NaN         \n",
       "TimersNone                                                  1.0         \n",
       "\n",
       "              fuel1_solar3.5_wind3_LowHome_LowWork_noWPcontrol  \\\n",
       "TimersRandom                                               1.0   \n",
       "Timers9pm                                                  1.0   \n",
       "Timers12am                                                 1.0   \n",
       "TimersNone                                                 1.0   \n",
       "\n",
       "              fuel1_solar3.5_wind3_LowHome_LowWork_WPcontrol_avgem  \\\n",
       "TimersRandom                                                NaN      \n",
       "Timers9pm                                                   NaN      \n",
       "Timers12am                                                  NaN      \n",
       "TimersNone                                                  1.0      \n",
       "\n",
       "              fuel1_solar3.5_wind3_LowHome_LowWork_WPcontrol_minpeak  \n",
       "TimersRandom                                                NaN       \n",
       "Timers9pm                                                   NaN       \n",
       "Timers12am                                                  NaN       \n",
       "TimersNone                                                  1.0       "
      ]
     },
     "execution_count": 41,
     "metadata": {},
     "output_type": "execute_result"
    }
   ],
   "source": [
    "maxpen_results10GW\n"
   ]
  },
  {
   "cell_type": "code",
   "execution_count": 43,
   "metadata": {},
   "outputs": [
    {
     "name": "stdout",
     "output_type": "stream",
     "text": [
      "Short Binary Search: \n",
      "Solving optimization.\n",
      "0.5 : 0\n",
      "Solving optimization.\n",
      "0.75 : 0\n",
      "Solving optimization.\n",
      "0.88 : 3\n",
      "Linear search from starting point:  0.75\n",
      "0.75\n",
      "Solving optimization.\n",
      "0.76\n",
      "Solving optimization.\n",
      "0.77\n",
      "Solving optimization.\n",
      "0.78\n",
      "Solving optimization.\n",
      "0.79\n",
      "Solving optimization.\n",
      "0.8\n",
      "Solving optimization.\n",
      "0.81\n",
      "Solving optimization.\n",
      "0.8200000000000001\n",
      "Solving optimization.\n",
      "0.8300000000000001\n",
      "Solving optimization.\n",
      "0.8400000000000001\n",
      "Solving optimization.\n",
      "Total overs:  1\n",
      "Violation 1:  0.8400000000000001\n"
     ]
    }
   ],
   "source": [
    "gd_short = pickle.load(open('IntermediateOutputs/generator_data_short_WECC_2019.obj', 'rb'))\n",
    "limits_2035_long = pd.read_csv('IntermediateOutputs/limits_2035_long.csv')\n",
    "\n",
    "timer_names = {'':'Timers9pm', '_midnighttimers':'Timers12am', '_NoTimers':'TimersNone', '_RandomTimers':'RandomTimers'}\n",
    "fuel = 1\n",
    "solar = 5\n",
    "wind = 5\n",
    "ev_scenario = 'UniversalHome'\n",
    "ev_workplace_bool=False\n",
    "ev_timers = '' # 9pm\n",
    "ev_scenario_date = '20220313'\n",
    "grid = FutureGrid(gd_short)\n",
    "maxpen_results10GW_HighRenew.loc['Timers9pm', 'fuel1_solar3.5_wind3_'+ev_scenario+'_noWPcontrol'] = grid.find_capacity_limit_1_binarysearch(with_storage_before=True, cap=40000, max_rate=10000, bs_limits=None, lims_8760=limits_2035_long['limit2'].values, \n",
    "                                                                year=2035, solar=solar, wind=wind, fuel=fuel,\n",
    "                                                                ev_scenario=ev_scenario, ev_timers=ev_timers, ev_workplace_control='', ev_workplace_bool=ev_workplace_bool, evs_bool=True, ev_scenario_date=ev_scenario_date)\n"
   ]
  },
  {
   "cell_type": "code",
   "execution_count": 37,
   "metadata": {},
   "outputs": [],
   "source": [
    "maxpen_results10GW_HighRenew.loc['Timers9pm', 'fuel1_solar3.5_wind3_'+ev_scenario+'_noWPcontrol'] = 0.84"
   ]
  },
  {
   "cell_type": "code",
   "execution_count": 34,
   "metadata": {},
   "outputs": [],
   "source": [
    "def fig3c(maxpen_results, cols, cols1, cols2, maxpen_result_bau, axes, legend=True, save_str=None, showx=False, title=''):\n",
    "#     fig, axes = plt.subplots(1, 1, figsize=(9, 3.5))\n",
    "    titles=['Universal Home', 'High Home', 'Low Home High Work', 'Low Home Low Work']\n",
    "    colors = ['#d7301f', '#fc8d59', '#91cf60', '#737373', '#9ebcda', '#88419d']\n",
    "    control_labels = ['9pm SFH Timers', '12am SFH Timers', 'Random SFH Timers', 'Uncontrolled', 'Min(Peak) Work Control', 'Min(Avg Em) Work Control']\n",
    "    hatches = ['//', '/', '///', '', '.', 'o']\n",
    "\n",
    "    axes.set_xticks([0, 1, 1.75, 2.5, 3.5])\n",
    "    if showx:\n",
    "        axes.set_xticklabels(labels=['Universal Home', 'High Home', 'BAU', 'Low Home High Work', 'Low Home Low Work'], fontsize=12)\n",
    "        axes.set_xlabel('Access Scenario', fontsize=14)\n",
    "    else:\n",
    "        axes.set_xticklabels([])\n",
    "    axes.set_ylabel('Change in Weekday Peak [GW]', fontsize=12)\n",
    "\n",
    "    values = maxpen_results.loc['Timers9pm', cols]\n",
    "    axes.bar(np.array([0, 1, 2.5, 3.5])-0.2, values, 0.1, color=colors[0], label=control_labels[0], edgecolor='k', hatch=hatches[0])\n",
    "    values = maxpen_results.loc['Timers12am', cols]\n",
    "    axes.bar(np.array([0, 1, 2.5, 3.5])-0.1, values, 0.1, color=colors[1], label=control_labels[1], edgecolor='k', hatch=hatches[1])\n",
    "    values = maxpen_results.loc['TimersRandom', cols]\n",
    "    axes.bar(np.array([0, 1, 2.5, 3.5]), values, 0.1, color=colors[2], label=control_labels[2], edgecolor='k', hatch=hatches[2])\n",
    "    values = maxpen_results.loc['TimersNone', cols1]\n",
    "    axes.bar(np.array([0, 1, 2.5, 3.5])+0.2, values, 0.1, color=colors[4], label=control_labels[4], edgecolor='k', hatch=hatches[4])\n",
    "    values = maxpen_results.loc['TimersNone', cols2]\n",
    "    axes.bar(np.array([0, 1, 2.5, 3.5])+0.3, values, 0.1, color=colors[5], label=control_labels[5], edgecolor='k', hatch=hatches[5])\n",
    "    values = maxpen_results.loc['TimersNone', cols]\n",
    "    axes.bar(np.array([0, 1, 2.5, 3.5])+0.1, values, 0.1, color=colors[3], edgecolor='k', label=control_labels[3], hatch=hatches[3])\n",
    "    axes.bar([1.75], maxpen_result_bau, 0.1, color='#ffffbf', edgecolor='k', hatch='x')\n",
    "        \n",
    "    edgecolors=[None, None, 'k', None, None]\n",
    "    legend_elements = [Patch(facecolor=colors[i], edgecolor='k', hatch=hatches[i],\n",
    "                                 label=control_labels[i]) for i in range(len(control_labels))]\n",
    "    legend_elements.append(Patch(facecolor='#ffffbf', edgecolor='k', label='Business As Usual, Timers + Work Control', hatch='x'))\n",
    "    if legend:\n",
    "        axes.legend(handles=legend_elements, loc=(1, 1), fontsize=10.5, ncol=1)\n",
    "        \n",
    "    \n",
    "    axes.set_ylabel('Max Level of EVs Supported', fontsize=12)\n",
    "    axes.set_yticks([0.0, 0.2, 0.4, 0.6, 0.8, 1.0])\n",
    "    axes.set_yticklabels(['0', '20%', '40%', '60%', '80%','100%'], fontsize=12)\n",
    "#     axes.set_xlabel('Access Scenario', fontsize=12)\n",
    "    axes.set_axisbelow(True)        \n",
    "    axes.grid(axis='y')\n",
    "    axes.set_title(title, fontsize=16)\n",
    "\n",
    "    plt.tight_layout()\n",
    "    if save_str is not None:\n",
    "        plt.savefig('SupplementPlotting/Plots/'+save_str+'.pdf', bbox_inches='tight')\n",
    "        plt.show()\n",
    "    \n",
    "    return axes"
   ]
  },
  {
   "cell_type": "code",
   "execution_count": 38,
   "metadata": {},
   "outputs": [
    {
     "data": {
      "image/png": "[encoded data removed]",
      "text/plain": [
       "<Figure size 648x432 with 2 Axes>"
      ]
     },
     "metadata": {
      "needs_background": "light"
     },
     "output_type": "display_data"
    }
   ],
   "source": [
    "fig, ax = plt.subplots(2, 1, figsize=(9, 6), sharex=True, sharey=True)\n",
    "\n",
    "solar = 3.5\n",
    "wind = 3\n",
    "cols = ['fuel1_solar'+str(solar)+'_wind'+str(wind)+'_'+scenario+'_noWPcontrol' for scenario in ['UniversalHome', 'HighHome', 'LowHome_HighWork', 'LowHome_LowWork']]\n",
    "cols1 = ['fuel1_solar'+str(solar)+'_wind'+str(wind)+'_'+scenario+'_WPcontrol_minpeak' for scenario in ['UniversalHome', 'HighHome', 'LowHome_HighWork', 'LowHome_LowWork']]\n",
    "cols2 = ['fuel1_solar'+str(solar)+'_wind'+str(wind)+'_'+scenario+'_WPcontrol_avgem' for scenario in ['UniversalHome', 'HighHome', 'LowHome_HighWork', 'LowHome_LowWork']]\n",
    "ax[0] = fig3c(maxpen_results10GW, cols, cols1, cols2, maxpen_results10GW_bau.loc['TimersMixed', 'fuel1_solar'+str(solar)+'_wind'+str(wind)+'_BusinessAsUsual_WPcontrol_minpeak'], \n",
    "              ax[0], legend=False, save_str=None, title='Medium Renewables 3.5x and 3x 2019 Levels')\n",
    "\n",
    "solar = 3.5 # actually 5 and 5, but labels copied from old df\n",
    "wind = 3\n",
    "cols = ['fuel1_solar'+str(solar)+'_wind'+str(wind)+'_'+scenario+'_noWPcontrol' for scenario in ['UniversalHome', 'HighHome', 'LowHome_HighWork', 'LowHome_LowWork']]\n",
    "cols1 = ['fuel1_solar'+str(solar)+'_wind'+str(wind)+'_'+scenario+'_WPcontrol_minpeak' for scenario in ['UniversalHome', 'HighHome', 'LowHome_HighWork', 'LowHome_LowWork']]\n",
    "cols2 = ['fuel1_solar'+str(solar)+'_wind'+str(wind)+'_'+scenario+'_WPcontrol_avgem' for scenario in ['UniversalHome', 'HighHome', 'LowHome_HighWork', 'LowHome_LowWork']]\n",
    "ax[1] = fig3c(maxpen_results10GW_HighRenew, cols, cols1, cols2, maxpen_results10GW_HighRenew_bau.loc['TimersMixed', 'fuel1_solar'+str(solar)+'_wind'+str(wind)+'_BusinessAsUsual_WPcontrol_minpeak'], \n",
    "              ax[1], showx=True, legend=False, save_str='supfig20_2035', title='High Renewables 5x 2019 Levels')\n"
   ]
  }
 ],
 "metadata": {
  "kernelspec": {
   "display_name": "Python 3",
   "language": "python",
   "name": "python3"
  },
  "language_info": {
   "codemirror_mode": {
    "name": "ipython",
    "version": 3
   },
   "file_extension": ".py",
   "mimetype": "text/x-python",
   "name": "python",
   "nbconvert_exporter": "python",
   "pygments_lexer": "ipython3",
   "version": "3.7.4"
  }
 },
 "nbformat": 4,
 "nbformat_minor": 2
}
