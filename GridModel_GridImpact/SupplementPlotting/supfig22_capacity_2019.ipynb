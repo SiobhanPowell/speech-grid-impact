{
 "cells": [
  {
   "cell_type": "markdown",
   "metadata": {},
   "source": [
    "## Supplementary Figure - 2019 Capacity\n",
    "Siobhan Powell, 2021."
   ]
  },
  {
   "cell_type": "code",
   "execution_count": 1,
   "metadata": {},
   "outputs": [],
   "source": [
    "import os\n",
    "os.chdir('../')"
   ]
  },
  {
   "cell_type": "code",
   "execution_count": 2,
   "metadata": {},
   "outputs": [],
   "source": [
    "import pandas as pd\n",
    "import matplotlib.pyplot as plt\n",
    "import numpy as np\n",
    "from matplotlib.patches import Patch\n",
    "from matplotlib.lines import Line2D"
   ]
  },
  {
   "cell_type": "code",
   "execution_count": 3,
   "metadata": {},
   "outputs": [],
   "source": [
    "maxpen_results1 = pd.read_csv('Results/max_penetration_levels_1h_2019grid_20220506.csv', index_col=0)\n",
    "maxpen_results8 = pd.read_csv('Results/max_penetration_levels_1h_2019grid_bau_20220506.csv', index_col=0)"
   ]
  },
  {
   "cell_type": "code",
   "execution_count": 4,
   "metadata": {},
   "outputs": [
    {
     "data": {
      "text/html": [
       "<div>\n",
       "<style scoped>\n",
       "    .dataframe tbody tr th:only-of-type {\n",
       "        vertical-align: middle;\n",
       "    }\n",
       "\n",
       "    .dataframe tbody tr th {\n",
       "        vertical-align: top;\n",
       "    }\n",
       "\n",
       "    .dataframe thead th {\n",
       "        text-align: right;\n",
       "    }\n",
       "</style>\n",
       "<table border=\"1\" class=\"dataframe\">\n",
       "  <thead>\n",
       "    <tr style=\"text-align: right;\">\n",
       "      <th></th>\n",
       "      <th>fuel1_solar1_wind1_BusinessAsUsual_WPcontrol_minpeak</th>\n",
       "    </tr>\n",
       "  </thead>\n",
       "  <tbody>\n",
       "    <tr>\n",
       "      <td>TimersMixed</td>\n",
       "      <td>1.0</td>\n",
       "    </tr>\n",
       "  </tbody>\n",
       "</table>\n",
       "</div>"
      ],
      "text/plain": [
       "             fuel1_solar1_wind1_BusinessAsUsual_WPcontrol_minpeak\n",
       "TimersMixed                                                1.0   "
      ]
     },
     "execution_count": 4,
     "metadata": {},
     "output_type": "execute_result"
    }
   ],
   "source": [
    "maxpen_results8"
   ]
  },
  {
   "cell_type": "code",
   "execution_count": 5,
   "metadata": {},
   "outputs": [],
   "source": [
    "def fig3c(maxpen_results, cols, cols1, cols2, maxpen_result_bau, legend=True, save_str=None):\n",
    "    fig, axes = plt.subplots(1, 1, figsize=(9, 3.5))\n",
    "    titles=['Universal Home', 'High Home', 'Low Home High Work', 'Low Home Low Work']\n",
    "    colors = ['#d7301f', '#fc8d59', '#91cf60', '#737373', '#9ebcda', '#88419d']\n",
    "    control_labels = ['9pm SFH Timers', '12am SFH Timers', 'Random SFH Timers', 'Uncontrolled', 'Min(Peak) Work Control', 'Min(Avg Em) Work Control']\n",
    "    hatches = ['//', '/', '///', '', '.', 'o']\n",
    "\n",
    "    axes.set_xticks([0, 1, 1.75, 2.5, 3.5])\n",
    "    axes.set_xticklabels(labels=['Universal Home', 'High Home', 'BAU', 'Low Home High Work', 'Low Home Low Work'], fontsize=12)\n",
    "    axes.set_ylabel('Change in Weekday Peak [GW]', fontsize=12)\n",
    "    axes.set_xlabel('Access Scenario', fontsize=14)\n",
    "\n",
    "    values = maxpen_results.loc['Timers9pm', cols]\n",
    "    axes.bar(np.array([0, 1, 2.5, 3.5])-0.2, values, 0.1, color=colors[0], label=control_labels[0], edgecolor='k', hatch=hatches[0])\n",
    "    values = maxpen_results.loc['Timers12am', cols]\n",
    "    axes.bar(np.array([0, 1, 2.5, 3.5])-0.1, values, 0.1, color=colors[1], label=control_labels[1], edgecolor='k', hatch=hatches[1])\n",
    "    values = maxpen_results.loc['TimersRandom', cols]\n",
    "    axes.bar(np.array([0, 1, 2.5, 3.5]), values, 0.1, color=colors[2], label=control_labels[2], edgecolor='k', hatch=hatches[2])\n",
    "    values = maxpen_results.loc['TimersNone', cols1]\n",
    "    axes.bar(np.array([0, 1, 2.5, 3.5])+0.2, values, 0.1, color=colors[4], label=control_labels[4], edgecolor='k', hatch=hatches[4])\n",
    "    values = maxpen_results.loc['TimersNone', cols2]\n",
    "    axes.bar(np.array([0, 1, 2.5, 3.5])+0.3, values, 0.1, color=colors[5], label=control_labels[5], edgecolor='k', hatch=hatches[5])\n",
    "    values = maxpen_results.loc['TimersNone', cols]\n",
    "    axes.bar(np.array([0, 1, 2.5, 3.5])+0.1, values, 0.1, color=colors[3], edgecolor='k', label=control_labels[3], hatch=hatches[3])\n",
    "    axes.bar([1.75], maxpen_result_bau, 0.1, color='#ffffbf', edgecolor='k', hatch='x')\n",
    "        \n",
    "    edgecolors=[None, None, 'k', None, None]\n",
    "    legend_elements = [Patch(facecolor=colors[i], edgecolor='k', hatch=hatches[i],\n",
    "                                 label=control_labels[i]) for i in range(len(control_labels))]\n",
    "    legend_elements.append(Patch(facecolor='#ffffbf', edgecolor='k', label='Business As Usual, Timers + Work Control', hatch='x'))\n",
    "    if legend:\n",
    "        axes.legend(handles=legend_elements, loc=(1, 1), fontsize=10.5, ncol=1)\n",
    "        \n",
    "    \n",
    "    axes.set_ylabel('Max Level of EVs Supported', fontsize=12)\n",
    "    axes.set_yticks([0.0, 0.2, 0.4, 0.6, 0.8, 1.0])\n",
    "    axes.set_yticklabels(['0', '20%', '40%', '60%', '80%','100%'], fontsize=12)\n",
    "    axes.set_xlabel('Access Scenario', fontsize=12)\n",
    "    axes.set_axisbelow(True)        \n",
    "    axes.grid(axis='y')\n",
    "\n",
    "    plt.tight_layout()\n",
    "    if save_str is not None:\n",
    "        plt.savefig('SupplementPlotting/Plots/'+save_str+'.pdf', bbox_inches='tight')\n",
    "    plt.show()"
   ]
  },
  {
   "cell_type": "code",
   "execution_count": 6,
   "metadata": {},
   "outputs": [
    {
     "data": {
      "image/png": "[encoded data removed]",
      "text/plain": [
       "<Figure size 648x252 with 1 Axes>"
      ]
     },
     "metadata": {
      "needs_background": "light"
     },
     "output_type": "display_data"
    }
   ],
   "source": [
    "solar = 1\n",
    "wind = 1 \n",
    "cols = ['fuel1_solar'+str(solar)+'_wind'+str(wind)+'_'+scenario+'_noWPcontrol' for scenario in ['UniversalHome', 'HighHome', 'LowHome_HighWork', 'LowHome_LowWork']]\n",
    "cols1 = ['fuel1_solar'+str(solar)+'_wind'+str(wind)+'_'+scenario+'_WPcontrol_minpeak' for scenario in ['UniversalHome', 'HighHome', 'LowHome_HighWork', 'LowHome_LowWork']]\n",
    "cols2 = ['fuel1_solar'+str(solar)+'_wind'+str(wind)+'_'+scenario+'_WPcontrol_avgem' for scenario in ['UniversalHome', 'HighHome', 'LowHome_HighWork', 'LowHome_LowWork']]\n",
    "fig3c(maxpen_results1, cols, cols1, cols2, maxpen_results8.loc['TimersMixed', 'fuel1_solar1_wind1_BusinessAsUsual_WPcontrol_minpeak'], legend=False, save_str='supfig22_v2')\n"
   ]
  }
 ],
 "metadata": {
  "kernelspec": {
   "display_name": "Python 3",
   "language": "python",
   "name": "python3"
  },
  "language_info": {
   "codemirror_mode": {
    "name": "ipython",
    "version": 3
   },
   "file_extension": ".py",
   "mimetype": "text/x-python",
   "name": "python",
   "nbconvert_exporter": "python",
   "pygments_lexer": "ipython3",
   "version": "3.7.4"
  }
 },
 "nbformat": 4,
 "nbformat_minor": 2
}
