{
 "cells": [
  {
   "cell_type": "markdown",
   "metadata": {},
   "source": [
    "# Code for Figure 5 part (a) and associated statistics reported in the text\n",
    "\n",
    "Developed by Siobhan Powell, 2021. "
   ]
  },
  {
   "cell_type": "code",
   "execution_count": 1,
   "metadata": {},
   "outputs": [],
   "source": [
    "import os\n",
    "os.chdir('../')"
   ]
  },
  {
   "cell_type": "code",
   "execution_count": 2,
   "metadata": {},
   "outputs": [],
   "source": [
    "import pandas as pd\n",
    "import matplotlib.pyplot as plt\n",
    "import numpy as np\n",
    "from matplotlib.patches import Patch\n",
    "from matplotlib.lines import Line2D"
   ]
  },
  {
   "cell_type": "code",
   "execution_count": 3,
   "metadata": {},
   "outputs": [],
   "source": [
    "scens1 = ['_Timers9pm_noWPcontrol', '_Timers12am_noWPcontrol', '_TimersNone_noWPcontrol', '_TimersNone_WPcontrol_minpeak', '_TimersNone_WPcontrol_avgem']\n",
    "scens2 = ['UniversalHome', 'HighHome', 'LowHome_HighWork', 'LowHome_LowWork']\n",
    "\n",
    "vals1 = np.zeros((6, 5)) # overgeneration\n",
    "tables_dfs1 = pd.DataFrame(np.zeros((6, 5)), \n",
    "                          index=['_Timers9pm_noWPcontrol', '_Timers12am_noWPcontrol', '_TimersNone_noWPcontrol', '_TimersNone_WPcontrol_minpeak', '_TimersNone_WPcontrol_avgem', '_TimersMixed_WPcontrol_minpeak'], \n",
    "                          columns=['UniversalHome', 'HighHome', 'LowHome_HighWork', 'LowHome_LowWork', 'BusinessAsUsual'])\n",
    "\n",
    "vals2 = np.zeros((6, 5)) # ramping\n",
    "tables_dfs2 = pd.DataFrame(np.zeros((6, 5)), \n",
    "                          index=['_Timers9pm_noWPcontrol', '_Timers12am_noWPcontrol', '_TimersNone_noWPcontrol', '_TimersNone_WPcontrol_minpeak', '_TimersNone_WPcontrol_avgem', '_TimersMixed_WPcontrol_minpeak'], \n",
    "                          columns=['UniversalHome', 'HighHome', 'LowHome_HighWork', 'LowHome_LowWork', 'BusinessAsUsual'])\n",
    "\n",
    "for i, scen1 in enumerate(scens1):\n",
    "    for j, scen2 in enumerate(scens2):\n",
    "        penlevel = 1.0\n",
    "        overgen = None\n",
    "        try: \n",
    "            dpdf = pd.read_csv('Results/Fuel1_Solar25_Wind25/fuel1_solar2.5_wind2.5_'+scen2+scen1+'_penlevel'+str(penlevel)+'_storagebefore_dpdf_20211119.csv')\n",
    "        except:\n",
    "            try:\n",
    "                dpdf = pd.read_csv('Results/Fuel1_Solar25_Wind25/fuel1_solar2.5_wind2.5_'+scen2+scen1+'_penlevel'+str(penlevel)+'_storagebefore_withstorage_dpdf_20211119.csv')\n",
    "            except: \n",
    "                print('Error for ', penlevel, scen1, scen2)\n",
    "                \n",
    "        try:\n",
    "            overgen = pd.read_csv('Results/Fuel1_Solar25_Wind25/fuel1_solar2.5_wind2.5_'+scen2+scen1+'_penlevel'+str(penlevel)+'_storagebefore_overgeneration.csv')\n",
    "        except:\n",
    "            try: \n",
    "                overgen = pd.read_csv('Results/Fuel1_Solar25_Wind25/fuel1_solar2.5_wind2.5_'+scen2+scen1+'_penlevel'+str(penlevel)+'_storagebefore_withstorage_overgeneration.csv')\n",
    "            except:\n",
    "                print('No overgeneration for ', scen1, scen2)\n",
    "                    \n",
    "        if overgen is not None:\n",
    "            vals1[i, j] = np.abs(overgen.demand.sum())\n",
    "            tables_dfs1.loc[scen1, scen2] = np.abs(overgen.demand.sum())\n",
    "        \n",
    "        prof1 = np.zeros((25, ))\n",
    "        prof1[np.arange(0, 24)] = dpdf['demand'].values.reshape(-1, 24).mean(axis=0) # in original \n",
    "        prof1[24] = prof1[0]\n",
    "        vals2[i, j] = np.max(prof1[1:] - prof1[:-1])\n",
    "        tables_dfs2.loc[scen1, scen2] = np.max(prof1[1:] - prof1[:-1])\n",
    "        \n",
    "        \n",
    "scen2 = 'BusinessAsUsual'\n",
    "scen1 =  '_TimersMixed_WPcontrol_minpeak'\n",
    "i = i+1\n",
    "j = j+1\n",
    "overgen = None\n",
    "try: \n",
    "    dpdf = pd.read_csv('Results/Fuel1_Solar25_Wind25/fuel1_solar2.5_wind2.5_'+scen2+scen1+'_penlevel'+str(penlevel)+'_storagebefore_dpdf_20211119.csv')\n",
    "except:\n",
    "    try:\n",
    "        dpdf = pd.read_csv('Results/Fuel1_Solar25_Wind25/fuel1_solar2.5_wind2.5_'+scen2+scen1+'_penlevel'+str(penlevel)+'_storagebefore_withstorage_dpdf_20211119.csv')\n",
    "    except: \n",
    "        print('Error for ', penlevel, scen1, scen2)\n",
    "        print('Results/Fuel1_Solar25_Wind25/fuel1_solar2.5_wind2.5_'+scen2+scen1+'_penlevel'+str(penlevel)+'_storagebefore_withstorage_dpdf_20211119.csv')\n",
    "\n",
    "try: \n",
    "    overgen = pd.read_csv('Results/Fuel1_Solar25_Wind25/fuel1_solar2.5_wind2.5_'+scen2+scen1+'_penlevel'+str(penlevel)+'_storagebefore_overgeneration.csv')\n",
    "except:\n",
    "    try: \n",
    "        overgen = pd.read_csv('Results/Fuel1_Solar25_Wind25/fuel1_solar2.5_wind2.5_'+scen2+scen1+'_penlevel'+str(penlevel)+'_storagebefore_withstorage_overgeneration.csv')\n",
    "    except:\n",
    "        print('No overgeneration for ', scen1, scen2)        \n",
    "        \n",
    "if overgen is not None:\n",
    "    vals1[i, j] = np.abs(overgen.demand.sum())\n",
    "    tables_dfs1.loc[scen1, scen2] = np.abs(overgen.demand.sum())\n",
    "\n",
    "prof = np.zeros((25, ))\n",
    "prof[np.arange(0, 24)] = dpdf['demand'].values.reshape(-1, 24).mean(axis=0)\n",
    "prof[24] = prof[0]\n",
    "vals2[i, j] = np.max(prof[1:] - prof[:-1])\n",
    "tables_dfs2.loc[scen1, scen2] = np.max(prof[1:] - prof[:-1])        \n",
    "\n",
    "\n"
   ]
  },
  {
   "cell_type": "code",
   "execution_count": 4,
   "metadata": {},
   "outputs": [
    {
     "data": {
      "text/html": [
       "<div>\n",
       "<style scoped>\n",
       "    .dataframe tbody tr th:only-of-type {\n",
       "        vertical-align: middle;\n",
       "    }\n",
       "\n",
       "    .dataframe tbody tr th {\n",
       "        vertical-align: top;\n",
       "    }\n",
       "\n",
       "    .dataframe thead th {\n",
       "        text-align: right;\n",
       "    }\n",
       "</style>\n",
       "<table border=\"1\" class=\"dataframe\">\n",
       "  <thead>\n",
       "    <tr style=\"text-align: right;\">\n",
       "      <th></th>\n",
       "      <th>UniversalHome</th>\n",
       "      <th>HighHome</th>\n",
       "      <th>LowHome_HighWork</th>\n",
       "      <th>LowHome_LowWork</th>\n",
       "      <th>BusinessAsUsual</th>\n",
       "    </tr>\n",
       "  </thead>\n",
       "  <tbody>\n",
       "    <tr>\n",
       "      <td>_Timers9pm_noWPcontrol</td>\n",
       "      <td>89.744685</td>\n",
       "      <td>28.587913</td>\n",
       "      <td>23.320143</td>\n",
       "      <td>16.706252</td>\n",
       "      <td>0.000000</td>\n",
       "    </tr>\n",
       "    <tr>\n",
       "      <td>_Timers12am_noWPcontrol</td>\n",
       "      <td>89.731571</td>\n",
       "      <td>28.539930</td>\n",
       "      <td>23.329240</td>\n",
       "      <td>16.645040</td>\n",
       "      <td>0.000000</td>\n",
       "    </tr>\n",
       "    <tr>\n",
       "      <td>_TimersNone_noWPcontrol</td>\n",
       "      <td>88.131579</td>\n",
       "      <td>28.286000</td>\n",
       "      <td>23.301096</td>\n",
       "      <td>16.607225</td>\n",
       "      <td>0.000000</td>\n",
       "    </tr>\n",
       "    <tr>\n",
       "      <td>_TimersNone_WPcontrol_minpeak</td>\n",
       "      <td>104.649506</td>\n",
       "      <td>27.031910</td>\n",
       "      <td>23.301096</td>\n",
       "      <td>16.607225</td>\n",
       "      <td>0.000000</td>\n",
       "    </tr>\n",
       "    <tr>\n",
       "      <td>_TimersNone_WPcontrol_avgem</td>\n",
       "      <td>77.262638</td>\n",
       "      <td>26.609227</td>\n",
       "      <td>23.301096</td>\n",
       "      <td>16.607225</td>\n",
       "      <td>0.000000</td>\n",
       "    </tr>\n",
       "    <tr>\n",
       "      <td>_TimersMixed_WPcontrol_minpeak</td>\n",
       "      <td>0.000000</td>\n",
       "      <td>0.000000</td>\n",
       "      <td>0.000000</td>\n",
       "      <td>0.000000</td>\n",
       "      <td>27.105701</td>\n",
       "    </tr>\n",
       "  </tbody>\n",
       "</table>\n",
       "</div>"
      ],
      "text/plain": [
       "                                UniversalHome   HighHome  LowHome_HighWork  \\\n",
       "_Timers9pm_noWPcontrol              89.744685  28.587913         23.320143   \n",
       "_Timers12am_noWPcontrol             89.731571  28.539930         23.329240   \n",
       "_TimersNone_noWPcontrol             88.131579  28.286000         23.301096   \n",
       "_TimersNone_WPcontrol_minpeak      104.649506  27.031910         23.301096   \n",
       "_TimersNone_WPcontrol_avgem         77.262638  26.609227         23.301096   \n",
       "_TimersMixed_WPcontrol_minpeak       0.000000   0.000000          0.000000   \n",
       "\n",
       "                                LowHome_LowWork  BusinessAsUsual  \n",
       "_Timers9pm_noWPcontrol                16.706252         0.000000  \n",
       "_Timers12am_noWPcontrol               16.645040         0.000000  \n",
       "_TimersNone_noWPcontrol               16.607225         0.000000  \n",
       "_TimersNone_WPcontrol_minpeak         16.607225         0.000000  \n",
       "_TimersNone_WPcontrol_avgem           16.607225         0.000000  \n",
       "_TimersMixed_WPcontrol_minpeak         0.000000        27.105701  "
      ]
     },
     "execution_count": 4,
     "metadata": {},
     "output_type": "execute_result"
    }
   ],
   "source": [
    "tables_dfs1*(1/1000)"
   ]
  },
  {
   "cell_type": "code",
   "execution_count": 5,
   "metadata": {},
   "outputs": [
    {
     "data": {
      "text/html": [
       "<div>\n",
       "<style scoped>\n",
       "    .dataframe tbody tr th:only-of-type {\n",
       "        vertical-align: middle;\n",
       "    }\n",
       "\n",
       "    .dataframe tbody tr th {\n",
       "        vertical-align: top;\n",
       "    }\n",
       "\n",
       "    .dataframe thead th {\n",
       "        text-align: right;\n",
       "    }\n",
       "</style>\n",
       "<table border=\"1\" class=\"dataframe\">\n",
       "  <thead>\n",
       "    <tr style=\"text-align: right;\">\n",
       "      <th></th>\n",
       "      <th>UniversalHome</th>\n",
       "      <th>HighHome</th>\n",
       "      <th>LowHome_HighWork</th>\n",
       "      <th>LowHome_LowWork</th>\n",
       "      <th>BusinessAsUsual</th>\n",
       "    </tr>\n",
       "  </thead>\n",
       "  <tbody>\n",
       "    <tr>\n",
       "      <td>_Timers9pm_noWPcontrol</td>\n",
       "      <td>9.938152</td>\n",
       "      <td>6.581678</td>\n",
       "      <td>2.127633</td>\n",
       "      <td>2.409835</td>\n",
       "      <td>0.000000</td>\n",
       "    </tr>\n",
       "    <tr>\n",
       "      <td>_Timers12am_noWPcontrol</td>\n",
       "      <td>7.717366</td>\n",
       "      <td>4.942658</td>\n",
       "      <td>1.983514</td>\n",
       "      <td>2.178150</td>\n",
       "      <td>0.000000</td>\n",
       "    </tr>\n",
       "    <tr>\n",
       "      <td>_TimersNone_noWPcontrol</td>\n",
       "      <td>8.225511</td>\n",
       "      <td>5.536765</td>\n",
       "      <td>2.063288</td>\n",
       "      <td>2.321612</td>\n",
       "      <td>0.000000</td>\n",
       "    </tr>\n",
       "    <tr>\n",
       "      <td>_TimersNone_WPcontrol_minpeak</td>\n",
       "      <td>8.673066</td>\n",
       "      <td>6.129785</td>\n",
       "      <td>2.777165</td>\n",
       "      <td>2.712791</td>\n",
       "      <td>0.000000</td>\n",
       "    </tr>\n",
       "    <tr>\n",
       "      <td>_TimersNone_WPcontrol_avgem</td>\n",
       "      <td>8.155612</td>\n",
       "      <td>5.264889</td>\n",
       "      <td>1.954554</td>\n",
       "      <td>2.160489</td>\n",
       "      <td>0.000000</td>\n",
       "    </tr>\n",
       "    <tr>\n",
       "      <td>_TimersMixed_WPcontrol_minpeak</td>\n",
       "      <td>0.000000</td>\n",
       "      <td>0.000000</td>\n",
       "      <td>0.000000</td>\n",
       "      <td>0.000000</td>\n",
       "      <td>5.869976</td>\n",
       "    </tr>\n",
       "  </tbody>\n",
       "</table>\n",
       "</div>"
      ],
      "text/plain": [
       "                                UniversalHome  HighHome  LowHome_HighWork  \\\n",
       "_Timers9pm_noWPcontrol               9.938152  6.581678          2.127633   \n",
       "_Timers12am_noWPcontrol              7.717366  4.942658          1.983514   \n",
       "_TimersNone_noWPcontrol              8.225511  5.536765          2.063288   \n",
       "_TimersNone_WPcontrol_minpeak        8.673066  6.129785          2.777165   \n",
       "_TimersNone_WPcontrol_avgem          8.155612  5.264889          1.954554   \n",
       "_TimersMixed_WPcontrol_minpeak       0.000000  0.000000          0.000000   \n",
       "\n",
       "                                LowHome_LowWork  BusinessAsUsual  \n",
       "_Timers9pm_noWPcontrol                 2.409835         0.000000  \n",
       "_Timers12am_noWPcontrol                2.178150         0.000000  \n",
       "_TimersNone_noWPcontrol                2.321612         0.000000  \n",
       "_TimersNone_WPcontrol_minpeak          2.712791         0.000000  \n",
       "_TimersNone_WPcontrol_avgem            2.160489         0.000000  \n",
       "_TimersMixed_WPcontrol_minpeak         0.000000         5.869976  "
      ]
     },
     "execution_count": 5,
     "metadata": {},
     "output_type": "execute_result"
    }
   ],
   "source": [
    "tables_dfs2*(1/1000)"
   ]
  },
  {
   "cell_type": "code",
   "execution_count": 6,
   "metadata": {},
   "outputs": [],
   "source": [
    "(tables_dfs2*(1/1000)).round(2).to_csv('MainPlotting/Tables/fig5a_ramping.csv')\n",
    "(tables_dfs1*(1/1000)).round(2).to_csv('MainPlotting/Tables/fig5a_overgeneration.csv')"
   ]
  },
  {
   "cell_type": "code",
   "execution_count": 7,
   "metadata": {},
   "outputs": [
    {
     "data": {
      "text/plain": [
       "array([[9.94, 6.58, 2.13, 2.41, 0.  ],\n",
       "       [7.72, 4.94, 1.98, 2.18, 0.  ],\n",
       "       [8.23, 5.54, 2.06, 2.32, 0.  ],\n",
       "       [8.67, 6.13, 2.78, 2.71, 0.  ],\n",
       "       [8.16, 5.26, 1.95, 2.16, 0.  ],\n",
       "       [0.  , 0.  , 0.  , 0.  , 5.87]])"
      ]
     },
     "execution_count": 7,
     "metadata": {},
     "output_type": "execute_result"
    }
   ],
   "source": [
    "np.round((1/1000)*vals2, 2)"
   ]
  },
  {
   "cell_type": "code",
   "execution_count": 8,
   "metadata": {},
   "outputs": [
    {
     "data": {
      "image/png": "[encoded data removed]",
      "text/plain": [
       "<Figure size 720x288 with 2 Axes>"
      ]
     },
     "metadata": {
      "needs_background": "light"
     },
     "output_type": "display_data"
    }
   ],
   "source": [
    "plt.figure(figsize=(10, 4))\n",
    "titles = ['1', '2', '3', '4']\n",
    "\n",
    "colors = ['#d7301f', '#fc8d59', '#737373', '#9ebcda', '#88419d']\n",
    "control_labels = ['9pm SFH Timers', '12am SFH Timers', 'Uncontrolled', 'Min(Peak) Work Control', 'Max(Avg Em) Work Control']\n",
    "\n",
    "plt.subplot(121)\n",
    "plt.xlabel('Access Scenario', fontsize=14)\n",
    "plt.ylabel('Ramping [GW]', fontsize=14)\n",
    "plt.xticks(np.arange(0, 4), labels=[], fontsize=12)\n",
    "\n",
    "ms = [8, 8, 14, 8, 8]\n",
    "lines = ['-P', '-X', '-*', '-^','-v']\n",
    "for control_idx in range(5):\n",
    "    plt.plot(np.arange(0, 4), (1/1000)*vals2[control_idx, np.arange(0, 4)], lines[control_idx], color=colors[control_idx], label=control_labels[control_idx], zorder=1, markersize=ms[control_idx])\n",
    "plt.scatter(np.array([1]), np.array((1/1000)*tables_dfs2.loc['_TimersMixed_WPcontrol_minpeak', 'BusinessAsUsual']), marker='o', color='#ffffbf', edgecolors='k', s=100, zorder=2, label='Business As Usual')\n",
    "plt.xlim([-0.5, 3.5])\n",
    "plt.yticks(np.arange(2, 11, 2), fontsize=14)\n",
    "plt.gca().set_axisbelow(True)        \n",
    "plt.gca().grid(axis='y')\n",
    "\n",
    "\n",
    "plt.subplot(122)\n",
    "\n",
    "\n",
    "plt.xticks(np.arange(0, 4), labels=[], fontsize=12)\n",
    "plt.xlabel('Access Scenario', fontsize=14)\n",
    "plt.yticks([20, 40, 60, 80, 100], fontsize=12)\n",
    "plt.xlim([-0.5, 3.5])\n",
    "\n",
    "\n",
    "lines = ['-P', '-X', '-*', '-^','-v']\n",
    "ms = [8, 8, 14, 8, 8]\n",
    "edgecolors=[colors[0], colors[1],'k', colors[2], colors[3]]\n",
    "# vals_all = [vals1, vals2, vals0, vals3, vals4]\n",
    "# for j, vals in enumerate(vals_all):\n",
    "#     plt.plot(np.arange(0, 4), (1/1000)*vals[:, 8], lines[j], color=colors[j], label=control_labels[j], zorder=1, markersize=ms[j])\n",
    "for control_idx in range(5):\n",
    "    plt.plot(np.arange(0, 4), (1/1000)*vals1[control_idx, np.arange(0, 4)], lines[control_idx], color=colors[control_idx], label=control_labels[control_idx], zorder=1, markersize=ms[control_idx])\n",
    "plt.ylabel('Overgeneration [GWh]', fontsize=14)\n",
    "# plt.scatter(np.array([1]), np.array((1/1000)*vals_bau[8]), marker='o', color='#ffffbf', edgecolors='k', s=100, zorder=2, label='Business As Usual')\n",
    "plt.scatter(np.array([1]), np.array((1/1000)*tables_dfs1.loc['_TimersMixed_WPcontrol_minpeak', 'BusinessAsUsual']), marker='o', color='#ffffbf', edgecolors='k', s=100, zorder=2, label='Business As Usual')\n",
    "            \n",
    "plt.legend(fontsize=12)\n",
    "plt.yticks(np.arange(20, 110, 20), fontsize=14)\n",
    "plt.gca().set_axisbelow(True)        \n",
    "plt.gca().grid(axis='y')\n",
    "\n",
    "plt.tight_layout()\n",
    "plt.savefig('MainPlotting/Plots/fig5a_option1.pdf', bbox_inches='tight')\n",
    "plt.show()"
   ]
  },
  {
   "cell_type": "markdown",
   "metadata": {},
   "source": [
    "# Statistics"
   ]
  },
  {
   "cell_type": "code",
   "execution_count": 19,
   "metadata": {},
   "outputs": [
    {
     "name": "stdout",
     "output_type": "stream",
     "text": [
      "Worst case overgeneration: \n"
     ]
    },
    {
     "data": {
      "text/plain": [
       "UniversalHome       104.650\n",
       "HighHome             28.588\n",
       "LowHome_HighWork     23.329\n",
       "LowHome_LowWork      16.706\n",
       "BusinessAsUsual      27.106\n",
       "dtype: float64"
      ]
     },
     "execution_count": 19,
     "metadata": {},
     "output_type": "execute_result"
    }
   ],
   "source": [
    "print('Worst case overgeneration: ')\n",
    "(tables_dfs1.max()*(1/1000)).round(3)"
   ]
  },
  {
   "cell_type": "code",
   "execution_count": 18,
   "metadata": {},
   "outputs": [
    {
     "name": "stdout",
     "output_type": "stream",
     "text": [
      "Worst case ramping: \n"
     ]
    },
    {
     "data": {
      "text/plain": [
       "UniversalHome       9.938\n",
       "HighHome            6.582\n",
       "LowHome_HighWork    2.777\n",
       "LowHome_LowWork     2.713\n",
       "BusinessAsUsual     5.870\n",
       "dtype: float64"
      ]
     },
     "execution_count": 18,
     "metadata": {},
     "output_type": "execute_result"
    }
   ],
   "source": [
    "print('Worst case ramping: ')\n",
    "(tables_dfs2.max()*(1/1000)).round(3)"
   ]
  },
  {
   "cell_type": "code",
   "execution_count": 24,
   "metadata": {},
   "outputs": [
    {
     "name": "stdout",
     "output_type": "stream",
     "text": [
      "LowHome as fraction of UniversalHome ramping:  0.2794447897074026\n"
     ]
    }
   ],
   "source": [
    "print('LowHome as fraction of UniversalHome ramping: ', tables_dfs2.max()['LowHome_HighWork'] / tables_dfs2.max()['UniversalHome'])"
   ]
  },
  {
   "cell_type": "code",
   "execution_count": 30,
   "metadata": {},
   "outputs": [
    {
     "name": "stdout",
     "output_type": "stream",
     "text": [
      "Overgeneration in no EV case [Gwh]: 605.355599999999\n"
     ]
    }
   ],
   "source": [
    "noev_scenario_overgen = pd.read_csv('Results/NoEVs_year2030_solar2.5x_wind2.5x_overgeneration.csv')\n",
    "print('Overgeneration in no EV case [Gwh]:', (1/1000)*np.abs(noev_scenario_overgen.demand.sum()))"
   ]
  }
 ],
 "metadata": {
  "kernelspec": {
   "display_name": "Python 3",
   "language": "python",
   "name": "python3"
  },
  "language_info": {
   "codemirror_mode": {
    "name": "ipython",
    "version": 3
   },
   "file_extension": ".py",
   "mimetype": "text/x-python",
   "name": "python",
   "nbconvert_exporter": "python",
   "pygments_lexer": "ipython3",
   "version": "3.7.4"
  }
 },
 "nbformat": 4,
 "nbformat_minor": 2
}
