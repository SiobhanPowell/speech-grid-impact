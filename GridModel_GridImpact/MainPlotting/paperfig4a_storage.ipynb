{
 "cells": [
  {
   "cell_type": "markdown",
   "metadata": {},
   "source": [
    "# Code for Figure 4 part (a) and associated statistics reported in the text\n",
    "\n",
    "Developed by Siobhan Powell, 2021. "
   ]
  },
  {
   "cell_type": "code",
   "execution_count": 1,
   "metadata": {},
   "outputs": [],
   "source": [
    "import os\n",
    "os.chdir('../')"
   ]
  },
  {
   "cell_type": "code",
   "execution_count": 2,
   "metadata": {},
   "outputs": [],
   "source": [
    "import pandas as pd\n",
    "import matplotlib.pyplot as plt\n",
    "import numpy as np\n",
    "from matplotlib.patches import Patch\n",
    "from matplotlib.lines import Line2D\n",
    "from matplotlib.gridspec import GridSpec\n",
    "import pickle\n",
    "import datetime"
   ]
  },
  {
   "cell_type": "code",
   "execution_count": 11,
   "metadata": {},
   "outputs": [],
   "source": [
    "scens1 = ['_Timers12am_noWPcontrol', '_Timers9pm_noWPcontrol', '_TimersNone_noWPcontrol', '_TimersNone_WPcontrol_minpeak', '_TimersNone_WPcontrol_avgem']\n",
    "scens2 = ['UniversalHome', 'HighHome', 'LowHome_HighWork', 'LowHome_LowWork']\n",
    "vals = np.zeros((6, 5))\n",
    "for i, scen1 in enumerate(scens1):\n",
    "    for j, scen2 in enumerate(scens2):\n",
    "        try:\n",
    "            vals[i, j] = pd.read_csv('Results/Fuel1_Solar25_Wind25/fuel1_solar2.5_wind2.5_'+scen2+scen1+'_penlevel1.0_storage_stats_20211119.csv')['Storage Rate Result'].values[0]\n",
    "        except:\n",
    "            print('Zero for ', scen1, scen2)"
   ]
  },
  {
   "cell_type": "code",
   "execution_count": 12,
   "metadata": {},
   "outputs": [],
   "source": [
    "vals[5, 4] = pd.read_csv('Results/Fuel1_Solar25_Wind25/fuel1_solar2.5_wind2.5_'+'BusinessAsUsual'+'_TimersMixed_WPcontrol_minpeak'+'_penlevel1.0_storage_stats_20211119.csv')['Storage Rate Result'].values[0]"
   ]
  },
  {
   "cell_type": "code",
   "execution_count": 13,
   "metadata": {},
   "outputs": [
    {
     "data": {
      "text/plain": [
       "array([[ 8107.,  3313.,  2674.,  2747.,     0.],\n",
       "       [21380., 12373.,  2679.,  2750.,     0.],\n",
       "       [10496.,  5145.,  3104.,  3294.,     0.],\n",
       "       [11069.,  6671.,  7635.,  5884.,     0.],\n",
       "       [10492.,  5067.,  8251.,  3201.,     0.],\n",
       "       [    0.,     0.,     0.,     0.,  5185.]])"
      ]
     },
     "execution_count": 13,
     "metadata": {},
     "output_type": "execute_result"
    }
   ],
   "source": [
    "vals"
   ]
  },
  {
   "cell_type": "code",
   "execution_count": 35,
   "metadata": {},
   "outputs": [],
   "source": [
    "pd.DataFrame(vals, index=['_Timers12am_noWPcontrol', '_Timers9pm_noWPcontrol', '_TimersNone_noWPcontrol', '_TimersNone_WPcontrol_minpeak', '_TimersNone_WPcontrol_avgem', '_TimersMixed_WPcontrol_minpeak'],\n",
    "            columns=['UniversalHome', 'HighHome', 'LowHome_HighWork', 'LowHome_LowWork', 'BAU']).to_csv('MainPlotting/Tables/fig4a.csv')"
   ]
  },
  {
   "cell_type": "code",
   "execution_count": 14,
   "metadata": {},
   "outputs": [
    {
     "data": {
      "image/png": "[encoded data removed]",
      "text/plain": [
       "<Figure size 648x252 with 1 Axes>"
      ]
     },
     "metadata": {
      "needs_background": "light"
     },
     "output_type": "display_data"
    }
   ],
   "source": [
    "fig, axes = plt.subplots(1, 1, figsize=(9, 3.5))\n",
    "titles=['Universal Home', 'High Home', 'Low Home High Work', 'Low Home Low Work']\n",
    "colors = ['#d7301f', '#fc8d59', '#737373', '#9ebcda', '#88419d']\n",
    "control_labels = ['9pm Timers; No Work Control', '12am Timers; No Work Control', 'Uncontrolled', 'No Timers; Min(Peak) Work Control', 'No Timers; Max(Solar) Work Control']\n",
    "hatches = ['//', '/', '', '.', 'o']\n",
    "\n",
    "axes.axhline(10, color='k')\n",
    "\n",
    "axes.set_xticks([0, 1, 1.75, 2.5, 3.5])\n",
    "axes.set_xticklabels(labels=['Universal Home', 'High Home', 'BAU', 'Low Home High Work', 'Low Home Low Work'], fontsize=12.5)\n",
    "# axes.set_title('Min Storage Needed to Support 100% EVs', fontsize=12)\n",
    "axes.set_ylabel('Storage Capacity [GW]', fontsize=14)\n",
    "axes.set_xlabel('Access Scenario', fontsize=14)\n",
    "\n",
    "axes.bar(np.array([0, 1, 2.5, 3.5])-0.2, (1/1000)*vals[1, np.arange(0, 4)], 0.1, color=colors[0], label=control_labels[0], edgecolor='k', hatch=hatches[0])\n",
    "axes.bar(np.array([0, 1, 2.5, 3.5])-0.1, (1/1000)*vals[0, np.arange(0, 4)], 0.1, color=colors[1], label=control_labels[1], edgecolor='k', hatch=hatches[1]) # note switched order of midnight and 9pm timers\n",
    "axes.bar(np.array([0, 1, 2.5, 3.5])+0.1, (1/1000)*vals[3, np.arange(0, 4)], 0.1, color=colors[3], label=control_labels[3], edgecolor='k', hatch=hatches[3])\n",
    "axes.bar(np.array([0, 1, 2.5, 3.5])+0.2, (1/1000)*vals[4, np.arange(0, 4)], 0.1, color=colors[4], label=control_labels[4], edgecolor='k', hatch=hatches[4])\n",
    "axes.bar(np.array([0, 1, 2.5, 3.5]), (1/1000)*vals[2, np.arange(0, 4)], 0.1, color=colors[2], edgecolor='k', label=control_labels[2], hatch=hatches[2])\n",
    "\n",
    "axes.bar([1.75], (1/1000)*vals[5, 4], 0.1, color='#ffffbf', edgecolor='k', hatch='x', label='Business As Usual, Timers + Work Control')\n",
    "\n",
    "edgecolors=[None, None, 'k', None, None]\n",
    "legend_elements = [Patch(facecolor=colors[i], edgecolor='k', hatch=hatches[i],\n",
    "                             label=control_labels[i]) for i in range(len(control_labels))]\n",
    "legend_elements.append(Patch(facecolor='#ffffbf', edgecolor='k', label='Business As Usual, Timers + Work Control', hatch='x'))\n",
    "axes.set_yticks([0, 2.5, 5, 7.5, 10, 12.5, 15, 17.5, 20])\n",
    "axes.set_yticklabels([0, '', 5, '', 10, '', 15, '', 20], fontsize=14)\n",
    "\n",
    "plt.gca().set_axisbelow(True)        \n",
    "plt.grid(axis='y', which='both')\n",
    "\n",
    "plt.tight_layout()\n",
    "plt.savefig('MainPlotting/Plots/fig4a.pdf', bbox_inches='tight')\n",
    "plt.show()"
   ]
  },
  {
   "cell_type": "markdown",
   "metadata": {},
   "source": [
    "# Stats"
   ]
  },
  {
   "cell_type": "code",
   "execution_count": 34,
   "metadata": {},
   "outputs": [],
   "source": [
    "df = pd.DataFrame(vals, index=['_Timers12am_noWPcontrol', '_Timers9pm_noWPcontrol', '_TimersNone_noWPcontrol', '_TimersNone_WPcontrol_minpeak', '_TimersNone_WPcontrol_avgem', '_TimersMixed_WPcontrol_minpeak'],\n",
    "            columns=['UniversalHome', 'HighHome', 'LowHome_HighWork', 'LowHome_LowWork', 'BAU'])"
   ]
  },
  {
   "cell_type": "code",
   "execution_count": 18,
   "metadata": {},
   "outputs": [
    {
     "data": {
      "text/html": [
       "<div>\n",
       "<style scoped>\n",
       "    .dataframe tbody tr th:only-of-type {\n",
       "        vertical-align: middle;\n",
       "    }\n",
       "\n",
       "    .dataframe tbody tr th {\n",
       "        vertical-align: top;\n",
       "    }\n",
       "\n",
       "    .dataframe thead th {\n",
       "        text-align: right;\n",
       "    }\n",
       "</style>\n",
       "<table border=\"1\" class=\"dataframe\">\n",
       "  <thead>\n",
       "    <tr style=\"text-align: right;\">\n",
       "      <th></th>\n",
       "      <th>UniversalHome</th>\n",
       "      <th>HighHome</th>\n",
       "      <th>LowHome_HighWork</th>\n",
       "      <th>LowHome_LowWork</th>\n",
       "      <th>BAU</th>\n",
       "    </tr>\n",
       "  </thead>\n",
       "  <tbody>\n",
       "    <tr>\n",
       "      <td>_Timers12am_noWPcontrol</td>\n",
       "      <td>8107.0</td>\n",
       "      <td>3313.0</td>\n",
       "      <td>2674.0</td>\n",
       "      <td>2747.0</td>\n",
       "      <td>0.0</td>\n",
       "    </tr>\n",
       "    <tr>\n",
       "      <td>_Timers9pm_noWPcontrol</td>\n",
       "      <td>21380.0</td>\n",
       "      <td>12373.0</td>\n",
       "      <td>2679.0</td>\n",
       "      <td>2750.0</td>\n",
       "      <td>0.0</td>\n",
       "    </tr>\n",
       "    <tr>\n",
       "      <td>_TimersNone_noWPcontrol</td>\n",
       "      <td>10496.0</td>\n",
       "      <td>5145.0</td>\n",
       "      <td>3104.0</td>\n",
       "      <td>3294.0</td>\n",
       "      <td>0.0</td>\n",
       "    </tr>\n",
       "    <tr>\n",
       "      <td>_TimersNone_WPcontrol_minpeak</td>\n",
       "      <td>11069.0</td>\n",
       "      <td>6671.0</td>\n",
       "      <td>7635.0</td>\n",
       "      <td>5884.0</td>\n",
       "      <td>0.0</td>\n",
       "    </tr>\n",
       "    <tr>\n",
       "      <td>_TimersNone_WPcontrol_avgem</td>\n",
       "      <td>10492.0</td>\n",
       "      <td>5067.0</td>\n",
       "      <td>8251.0</td>\n",
       "      <td>3201.0</td>\n",
       "      <td>0.0</td>\n",
       "    </tr>\n",
       "    <tr>\n",
       "      <td>_TiemrsMixed_WPcontrol_minpeak</td>\n",
       "      <td>0.0</td>\n",
       "      <td>0.0</td>\n",
       "      <td>0.0</td>\n",
       "      <td>0.0</td>\n",
       "      <td>5185.0</td>\n",
       "    </tr>\n",
       "  </tbody>\n",
       "</table>\n",
       "</div>"
      ],
      "text/plain": [
       "                                UniversalHome  HighHome  LowHome_HighWork  \\\n",
       "_Timers12am_noWPcontrol                8107.0    3313.0            2674.0   \n",
       "_Timers9pm_noWPcontrol                21380.0   12373.0            2679.0   \n",
       "_TimersNone_noWPcontrol               10496.0    5145.0            3104.0   \n",
       "_TimersNone_WPcontrol_minpeak         11069.0    6671.0            7635.0   \n",
       "_TimersNone_WPcontrol_avgem           10492.0    5067.0            8251.0   \n",
       "_TiemrsMixed_WPcontrol_minpeak            0.0       0.0               0.0   \n",
       "\n",
       "                                LowHome_LowWork     BAU  \n",
       "_Timers12am_noWPcontrol                  2747.0     0.0  \n",
       "_Timers9pm_noWPcontrol                   2750.0     0.0  \n",
       "_TimersNone_noWPcontrol                  3294.0     0.0  \n",
       "_TimersNone_WPcontrol_minpeak            5884.0     0.0  \n",
       "_TimersNone_WPcontrol_avgem              3201.0     0.0  \n",
       "_TiemrsMixed_WPcontrol_minpeak              0.0  5185.0  "
      ]
     },
     "execution_count": 18,
     "metadata": {},
     "output_type": "execute_result"
    }
   ],
   "source": [
    "df"
   ]
  },
  {
   "cell_type": "code",
   "execution_count": 27,
   "metadata": {},
   "outputs": [
    {
     "name": "stdout",
     "output_type": "stream",
     "text": [
      "Lowest: 2.674\n",
      "Highest: 21.38\n",
      "Ratio: 8.0\n"
     ]
    }
   ],
   "source": [
    "print('Lowest:', (1/1000)*df[df>0].min().min())\n",
    "print('Highest:', (1/1000)*df[df>0].max().max())\n",
    "print('Ratio:', np.round(((1/1000)*df[df>0].max().max()) / ((1/1000)*df[df>0].min().min()), 2))"
   ]
  },
  {
   "cell_type": "code",
   "execution_count": 29,
   "metadata": {},
   "outputs": [
    {
     "name": "stdout",
     "output_type": "stream",
     "text": [
      "Uncontrolled values:\n"
     ]
    },
    {
     "data": {
      "text/plain": [
       "UniversalHome       10.496\n",
       "HighHome             5.145\n",
       "LowHome_HighWork     3.104\n",
       "LowHome_LowWork      3.294\n",
       "BAU                  0.000\n",
       "Name: _TimersNone_noWPcontrol, dtype: float64"
      ]
     },
     "execution_count": 29,
     "metadata": {},
     "output_type": "execute_result"
    }
   ],
   "source": [
    "print('Uncontrolled values:')\n",
    "(1/1000)*df.loc['_TimersNone_noWPcontrol']"
   ]
  },
  {
   "cell_type": "code",
   "execution_count": 32,
   "metadata": {},
   "outputs": [
    {
     "name": "stdout",
     "output_type": "stream",
     "text": [
      "As fraction of peak total demand: \n"
     ]
    },
    {
     "data": {
      "text/plain": [
       "0.024039653035935565"
      ]
     },
     "execution_count": 32,
     "metadata": {},
     "output_type": "execute_result"
    }
   ],
   "source": [
    "peaktotdemand = 1000*pd.read_csv('MainPlotting/Tables/fig3a_totaldemand.csv', index_col=0)\n",
    "print('As fraction of peak total demand: ')\n",
    "df.loc['_TimersNone_noWPcontrol', 'LowHome_HighWork']  / peaktotdemand.loc['_TimersNone_noWPcontrol', 'LowHome_HighWork']"
   ]
  },
  {
   "cell_type": "code",
   "execution_count": 42,
   "metadata": {},
   "outputs": [
    {
     "name": "stdout",
     "output_type": "stream",
     "text": [
      "Decrease switching from bau to low home high work uncontrolled: \n"
     ]
    },
    {
     "data": {
      "text/plain": [
       "1.67"
      ]
     },
     "execution_count": 42,
     "metadata": {},
     "output_type": "execute_result"
    }
   ],
   "source": [
    "print('Decrease switching from bau to low home high work uncontrolled: ')\n",
    "np.round(df.loc['_TimersMixed_WPcontrol_minpeak', 'BAU'] / df.loc['_TimersNone_noWPcontrol', 'LowHome_HighWork'], 2)"
   ]
  },
  {
   "cell_type": "code",
   "execution_count": 43,
   "metadata": {},
   "outputs": [
    {
     "name": "stdout",
     "output_type": "stream",
     "text": [
      "Decrease switching from universal home uncontrolled to low home high work uncontrolled: \n"
     ]
    },
    {
     "data": {
      "text/plain": [
       "3.38"
      ]
     },
     "execution_count": 43,
     "metadata": {},
     "output_type": "execute_result"
    }
   ],
   "source": [
    "print('Decrease switching from universal home uncontrolled to low home high work uncontrolled: ')\n",
    "np.round(df.loc['_TimersNone_noWPcontrol', 'UniversalHome'] / df.loc['_TimersNone_noWPcontrol', 'LowHome_HighWork'], 2)"
   ]
  },
  {
   "cell_type": "code",
   "execution_count": 44,
   "metadata": {},
   "outputs": [
    {
     "name": "stdout",
     "output_type": "stream",
     "text": [
      "Decrease switching from worst to low home high work uncontrolled: \n"
     ]
    },
    {
     "data": {
      "text/plain": [
       "6.89"
      ]
     },
     "execution_count": 44,
     "metadata": {},
     "output_type": "execute_result"
    }
   ],
   "source": [
    "print('Decrease switching from worst to low home high work uncontrolled: ')\n",
    "np.round(df.loc['_Timers9pm_noWPcontrol', 'UniversalHome'] / df.loc['_TimersNone_noWPcontrol', 'LowHome_HighWork'], 2)"
   ]
  },
  {
   "cell_type": "code",
   "execution_count": 48,
   "metadata": {},
   "outputs": [
    {
     "name": "stdout",
     "output_type": "stream",
     "text": [
      "As percentage:\n"
     ]
    },
    {
     "data": {
      "text/plain": [
       "0.8548175865294668"
      ]
     },
     "execution_count": 48,
     "metadata": {},
     "output_type": "execute_result"
    }
   ],
   "source": [
    "print('As percentage:')\n",
    "(df.loc['_Timers9pm_noWPcontrol', 'UniversalHome'] - df.loc['_TimersNone_noWPcontrol', 'LowHome_HighWork']) / df.loc['_Timers9pm_noWPcontrol', 'UniversalHome']"
   ]
  },
  {
   "cell_type": "code",
   "execution_count": 45,
   "metadata": {},
   "outputs": [
    {
     "name": "stdout",
     "output_type": "stream",
     "text": [
      "As fraction of peak total demand: \n"
     ]
    },
    {
     "data": {
      "text/plain": [
       "0.16086073282672486"
      ]
     },
     "execution_count": 45,
     "metadata": {},
     "output_type": "execute_result"
    }
   ],
   "source": [
    "print('As fraction of peak total demand: ')\n",
    "df.loc['_Timers9pm_noWPcontrol', 'UniversalHome']  / peaktotdemand.loc['_Timers9pm_noWPcontrol', 'UniversalHome']\n"
   ]
  },
  {
   "cell_type": "code",
   "execution_count": 46,
   "metadata": {},
   "outputs": [
    {
     "name": "stdout",
     "output_type": "stream",
     "text": [
      "Adding workplace control in low home high work: \n"
     ]
    },
    {
     "data": {
      "text/plain": [
       "2.46"
      ]
     },
     "execution_count": 46,
     "metadata": {},
     "output_type": "execute_result"
    }
   ],
   "source": [
    "print('Adding workplace control in low home high work: ')\n",
    "np.round(df.loc['_TimersNone_WPcontrol_minpeak', 'LowHome_HighWork'] / df.loc['_TimersNone_noWPcontrol', 'LowHome_HighWork'], 2)"
   ]
  },
  {
   "cell_type": "code",
   "execution_count": 47,
   "metadata": {},
   "outputs": [
    {
     "name": "stdout",
     "output_type": "stream",
     "text": [
      "Adding workplace control in low home high work: \n"
     ]
    },
    {
     "data": {
      "text/plain": [
       "2.66"
      ]
     },
     "execution_count": 47,
     "metadata": {},
     "output_type": "execute_result"
    }
   ],
   "source": [
    "print('Adding workplace control in low home high work: ')\n",
    "np.round(df.loc['_TimersNone_WPcontrol_avgem', 'LowHome_HighWork'] / df.loc['_TimersNone_noWPcontrol', 'LowHome_HighWork'], 2)"
   ]
  }
 ],
 "metadata": {
  "kernelspec": {
   "display_name": "Python 3",
   "language": "python",
   "name": "python3"
  },
  "language_info": {
   "codemirror_mode": {
    "name": "ipython",
    "version": 3
   },
   "file_extension": ".py",
   "mimetype": "text/x-python",
   "name": "python",
   "nbconvert_exporter": "python",
   "pygments_lexer": "ipython3",
   "version": "3.7.4"
  }
 },
 "nbformat": 4,
 "nbformat_minor": 2
}
