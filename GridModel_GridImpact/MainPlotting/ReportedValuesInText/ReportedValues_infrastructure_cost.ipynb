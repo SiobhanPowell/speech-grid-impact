{
 "cells": [
  {
   "cell_type": "markdown",
   "metadata": {},
   "source": [
    "# Calculate Connection between Charging Infrastructure Cost and Emissions Savings\n",
    "Developed by Siobhan Powell, 2022."
   ]
  },
  {
   "cell_type": "code",
   "execution_count": 1,
   "metadata": {},
   "outputs": [],
   "source": [
    "import pandas as pd\n",
    "import numpy as np"
   ]
  },
  {
   "cell_type": "markdown",
   "metadata": {},
   "source": [
    "# With values for 50% EVs"
   ]
  },
  {
   "cell_type": "code",
   "execution_count": 4,
   "metadata": {},
   "outputs": [
    {
     "name": "stdout",
     "output_type": "stream",
     "text": [
      "Universal Home:  57.39611096\n",
      "Low Home:  74.25013845800001\n"
     ]
    }
   ],
   "source": [
    "num_drivers_50 = 48640772/2 # 50%\n",
    "\n",
    "cost_sfh = 1200 # average costs\n",
    "cost_mud = 7000\n",
    "cost_other = 7000\n",
    "\n",
    "# Universal Home\n",
    "num_sfh = 0.8*num_drivers_50\n",
    "num_mud = 0.2*num_drivers_50\n",
    "num_other = 0/2\n",
    "\n",
    "print('Universal Home: ', (1/1e9)*(cost_sfh*num_sfh + cost_mud*num_mud + cost_other*num_other))\n",
    "uh_cost_50 = (1/1e9)*(cost_sfh*num_sfh + cost_mud*num_mud + cost_other*num_other)\n",
    "\n",
    "# Low Home\n",
    "num_sfh = 0.24*num_drivers_50\n",
    "num_mud = 0.03*num_drivers_50\n",
    "num_other = 0.73*num_drivers_50/2\n",
    "\n",
    "print('Low Home: ', (1/1e9)*(cost_sfh*num_sfh + cost_mud*num_mud + cost_other*num_other))\n",
    "lh_cost_50 = (1/1e9)*(cost_sfh*num_sfh + cost_mud*num_mud + cost_other*num_other)"
   ]
  },
  {
   "cell_type": "code",
   "execution_count": 5,
   "metadata": {},
   "outputs": [
    {
     "name": "stdout",
     "output_type": "stream",
     "text": [
      "Universal Home:  114.79222192\n",
      "Low Home:  148.50027691600002\n"
     ]
    }
   ],
   "source": [
    "num_drivers_100 = 48640772 # 100%\n",
    "\n",
    "cost_sfh = 1200 # average costs\n",
    "cost_mud = 7000\n",
    "cost_other = 7000\n",
    "\n",
    "# Universal Home\n",
    "num_sfh = 0.8*num_drivers_100\n",
    "num_mud = 0.2*num_drivers_100\n",
    "num_other = 0/2\n",
    "\n",
    "print('Universal Home: ', (1/1e9)*(cost_sfh*num_sfh + cost_mud*num_mud + cost_other*num_other))\n",
    "uh_cost_100 = (1/1e9)*(cost_sfh*num_sfh + cost_mud*num_mud + cost_other*num_other)\n",
    "\n",
    "# Low Home\n",
    "num_sfh = 0.24*num_drivers_100\n",
    "num_mud = 0.03*num_drivers_100\n",
    "num_other = 0.73*num_drivers_100/2\n",
    "\n",
    "print('Low Home: ', (1/1e9)*(cost_sfh*num_sfh + cost_mud*num_mud + cost_other*num_other))\n",
    "lh_cost_100 = (1/1e9)*(cost_sfh*num_sfh + cost_mud*num_mud + cost_other*num_other)"
   ]
  },
  {
   "cell_type": "code",
   "execution_count": 5,
   "metadata": {},
   "outputs": [
    {
     "data": {
      "text/plain": [
       "16.854027498000008"
      ]
     },
     "execution_count": 5,
     "metadata": {},
     "output_type": "execute_result"
    }
   ],
   "source": [
    "74.25013845800001 - 57.39611096"
   ]
  },
  {
   "cell_type": "code",
   "execution_count": 6,
   "metadata": {},
   "outputs": [],
   "source": [
    "r = 0.1 # 10% \n",
    "n = 10 # years\n",
    "annuity_factor = (1 - (1 / (np.power(1 + r, n)))) / r"
   ]
  },
  {
   "cell_type": "code",
   "execution_count": 10,
   "metadata": {},
   "outputs": [
    {
     "name": "stdout",
     "output_type": "stream",
     "text": [
      "Annual cost, 50% EVs:  2.7429153605227192\n",
      "Annual cost, 100% EVs:  5.4858307210454385\n"
     ]
    }
   ],
   "source": [
    "print('Annual cost, 50% EVs: ', (lh_cost_50 - uh_cost_50)/annuity_factor)\n",
    "print('Annual cost, 100% EVs: ', (lh_cost_100 - uh_cost_100)/annuity_factor)"
   ]
  },
  {
   "cell_type": "code",
   "execution_count": null,
   "metadata": {},
   "outputs": [],
   "source": [
    "# emissions difference"
   ]
  },
  {
   "cell_type": "code",
   "execution_count": 11,
   "metadata": {},
   "outputs": [],
   "source": [
    "import os\n",
    "os.chdir('..')"
   ]
  },
  {
   "cell_type": "code",
   "execution_count": 12,
   "metadata": {},
   "outputs": [],
   "source": [
    "dpdf1 = pd.read_csv('Results/Fuel1_Solar35_Wind3/fuel1_solar3.5_wind3_UniversalHome_TimersNone_noWPcontrol_penlevel0.5_withstorage_dpdf_20220408.csv')\n",
    "dpdf2 = pd.read_csv('Results/Fuel1_Solar35_Wind3/fuel1_solar3.5_wind3_LowHome_HighWork_TimersNone_noWPcontrol_penlevel0.5_withstorage_dpdf_20220408.csv')\n",
    "emdiff_50 = dpdf1.co2_tot.sum() - dpdf2.co2_tot.sum() # in kg universal - lowhome\n",
    "\n",
    "dpdf1 = pd.read_csv('Results/Fuel1_Solar35_Wind3/fuel1_solar3.5_wind3_UniversalHome_TimersNone_noWPcontrol_penlevel1.0_withstorage_dpdf_20220408.csv')\n",
    "dpdf2 = pd.read_csv('Results/Fuel1_Solar35_Wind3/fuel1_solar3.5_wind3_LowHome_HighWork_TimersNone_noWPcontrol_penlevel1.0_withstorage_dpdf_20220408.csv')\n",
    "emdiff_100 = dpdf1.co2_tot.sum() - dpdf2.co2_tot.sum() # in kg universal - lowhome\n",
    "\n"
   ]
  },
  {
   "cell_type": "code",
   "execution_count": 13,
   "metadata": {},
   "outputs": [
    {
     "name": "stdout",
     "output_type": "stream",
     "text": [
      "Cost per kg, 50% EVs:  1.363585002713262\n",
      "Annual cost, 100% EVs:  1.5030809323204066\n"
     ]
    }
   ],
   "source": [
    "print('Cost per kg, 50% EVs: ', 1e9*(lh_cost_50 - uh_cost_50)/annuity_factor / emdiff_50)\n",
    "print('Cost per kg, 100% EVs: ', 1e9*(lh_cost_100 - uh_cost_100)/annuity_factor / emdiff_100)"
   ]
  },
  {
   "cell_type": "code",
   "execution_count": 20,
   "metadata": {},
   "outputs": [
    {
     "name": "stdout",
     "output_type": "stream",
     "text": [
      "Annual cost per vehicle, 50% EVs:  112.78255865358054\n"
     ]
    }
   ],
   "source": [
    "print('Annual cost per vehicle, 50% EVs: ', 1e9*(lh_cost_50 - uh_cost_50)/annuity_factor / num_drivers_50)"
   ]
  },
  {
   "cell_type": "code",
   "execution_count": 21,
   "metadata": {},
   "outputs": [
    {
     "name": "stdout",
     "output_type": "stream",
     "text": [
      "Annual cost per vehicle, 50% EVs:  112.78255865358054\n"
     ]
    }
   ],
   "source": [
    "print('Annual cost per vehicle, 50% EVs: ', 1e9*(lh_cost_100 - uh_cost_100)/annuity_factor / num_drivers_100)"
   ]
  },
  {
   "cell_type": "code",
   "execution_count": 18,
   "metadata": {},
   "outputs": [
    {
     "data": {
      "text/plain": [
       "16.854027498000008"
      ]
     },
     "execution_count": 18,
     "metadata": {},
     "output_type": "execute_result"
    }
   ],
   "source": [
    "(lh_cost_50 - uh_cost_50)"
   ]
  },
  {
   "cell_type": "code",
   "execution_count": 17,
   "metadata": {},
   "outputs": [
    {
     "data": {
      "text/plain": [
       "2.7429153605227192"
      ]
     },
     "execution_count": 17,
     "metadata": {},
     "output_type": "execute_result"
    }
   ],
   "source": [
    "(lh_cost_50 - uh_cost_50)/annuity_factor"
   ]
  },
  {
   "cell_type": "markdown",
   "metadata": {},
   "source": [
    "# With 100% EVs"
   ]
  },
  {
   "cell_type": "code",
   "execution_count": 25,
   "metadata": {},
   "outputs": [
    {
     "name": "stdout",
     "output_type": "stream",
     "text": [
      "Universal Home:  114.79222192\n",
      "Low Home:  148.50027691600002\n"
     ]
    }
   ],
   "source": [
    "num_drivers = 48640772\n",
    "cost_sfh = 1200 # average costs\n",
    "cost_mud = 7000\n",
    "cost_other = 7000\n",
    "\n",
    "# Universal Home\n",
    "num_sfh = 0.8*num_drivers\n",
    "num_mud = 0.2*num_drivers\n",
    "num_other = 0/2\n",
    "\n",
    "print('Universal Home: ', (1/1e9)*(cost_sfh*num_sfh + cost_mud*num_mud + cost_other*num_other))\n",
    "\n",
    "\n",
    "# Low Home\n",
    "num_sfh = 0.24*num_drivers\n",
    "num_mud = 0.03*num_drivers\n",
    "num_other = 0.73*num_drivers/2\n",
    "\n",
    "print('Low Home: ', (1/1e9)*(cost_sfh*num_sfh + cost_mud*num_mud + cost_other*num_other))"
   ]
  },
  {
   "cell_type": "code",
   "execution_count": 26,
   "metadata": {},
   "outputs": [],
   "source": [
    "costdiff0 = (148.50027691600002 - 114.79222192) * 1e9 # in dollars universal - lowhome\n"
   ]
  },
  {
   "cell_type": "code",
   "execution_count": 27,
   "metadata": {},
   "outputs": [
    {
     "data": {
      "text/plain": [
       "9.235781653947901"
      ]
     },
     "execution_count": 27,
     "metadata": {},
     "output_type": "execute_result"
    }
   ],
   "source": [
    "dpdf1 = pd.read_csv('Results/Fuel1_Solar35_Wind3/fuel1_solar3.5_wind3_UniversalHome_TimersNone_noWPcontrol_penlevel1.0_withstorage_dpdf_20220408.csv')\n",
    "dpdf2 = pd.read_csv('Results/Fuel1_Solar35_Wind3/fuel1_solar3.5_wind3_LowHome_HighWork_TimersNone_noWPcontrol_penlevel1.0_withstorage_dpdf_20220408.csv')\n",
    "emdiff = dpdf1.co2_tot.sum() - dpdf2.co2_tot.sum() # in kg universal - lowhome\n",
    "costdiff0 / emdiff # save money and emissions"
   ]
  }
 ],
 "metadata": {
  "kernelspec": {
   "display_name": "Python 3",
   "language": "python",
   "name": "python3"
  },
  "language_info": {
   "codemirror_mode": {
    "name": "ipython",
    "version": 3
   },
   "file_extension": ".py",
   "mimetype": "text/x-python",
   "name": "python",
   "nbconvert_exporter": "python",
   "pygments_lexer": "ipython3",
   "version": "3.7.4"
  }
 },
 "nbformat": 4,
 "nbformat_minor": 2
}
