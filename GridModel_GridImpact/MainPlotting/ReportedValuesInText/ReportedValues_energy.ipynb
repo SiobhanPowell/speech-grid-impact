{
 "cells": [
  {
   "cell_type": "markdown",
   "metadata": {},
   "source": [
    "# Calculating energy in each EV demand model.\n",
    "\n",
    "Developed by Siobhan Powell, 2021. "
   ]
  },
  {
   "cell_type": "code",
   "execution_count": 1,
   "metadata": {},
   "outputs": [],
   "source": [
    "import os\n",
    "os.chdir('../..')"
   ]
  },
  {
   "cell_type": "code",
   "execution_count": 2,
   "metadata": {},
   "outputs": [],
   "source": [
    "import pandas as pd\n",
    "import matplotlib.pyplot as plt\n",
    "import numpy as np\n",
    "from matplotlib.patches import Patch\n",
    "from matplotlib.lines import Line2D\n",
    "import copy\n",
    "from matplotlib.gridspec import GridSpec\n",
    "import pickle\n",
    "from future_grid import FutureDemand"
   ]
  },
  {
   "cell_type": "code",
   "execution_count": 3,
   "metadata": {},
   "outputs": [],
   "source": [
    "run_year = 2019\n",
    "nerc_region = 'WECC'\n",
    "gd_short = pickle.load(open('IntermediateOutputs/generator_data_short_%s_%s.obj'%(nerc_region, str(run_year)), 'rb'))"
   ]
  },
  {
   "cell_type": "code",
   "execution_count": 4,
   "metadata": {},
   "outputs": [],
   "source": [
    "unit_drops = pd.read_csv('IntermediateOutputs/scheduled_retirements_2019.csv', index_col=0)\n",
    "additions_df = pd.read_csv('IntermediateOutputs/generator_additions.csv', index_col=0)\n",
    "\n",
    "def drop_add_generators(future_year, gd_short_init, unit_drops=None, additions_df=None, drop=True, add=True):\n",
    "    \n",
    "    gd_short_final = copy.deepcopy(gd_short_init)\n",
    "    if add:\n",
    "        added_units = additions_df[additions_df['Year']<future_year]['orispl_unit'].values\n",
    "        for i, val in enumerate(added_units):\n",
    "            idx = len(gd_short_final.df)\n",
    "            loc1 = gd_short_final.df[gd_short_final.df['orispl_unit']==val].index\n",
    "            gd_short_final.df = pd.concat((gd_short_final.df, gd_short_final.df.loc[loc1]), ignore_index=True)\n",
    "            gd_short_final.df.loc[idx, 'orispl_unit'] = 'added_'+str(i)\n",
    "        \n",
    "    if drop:\n",
    "        dropped_units = unit_drops[unit_drops['retirement_year']<future_year]['orispl_unit'].values\n",
    "        gd_short_final.df = gd_short_final.df[~gd_short_final.df['orispl_unit'].isin(dropped_units)].copy(deep=True).reset_index(drop=True)\n",
    "    \n",
    "    return gd_short_final"
   ]
  },
  {
   "cell_type": "markdown",
   "metadata": {},
   "source": [
    "Run calculation using 2030 as a test: "
   ]
  },
  {
   "cell_type": "code",
   "execution_count": 6,
   "metadata": {},
   "outputs": [],
   "source": [
    "gd_short_copy = drop_add_generators(2035, gd_short, drop=True, unit_drops=unit_drops, add=True, additions_df=additions_df)\n",
    "future = FutureDemand(gd_short_copy, year=2035)\n",
    "future.electrification(scale_vs_given=True)\n",
    "future.solar_multiplier[2035] = 3.5\n",
    "future.wind_multiplier[2035] = 3\n",
    "future.solar()\n",
    "future.wind()\n"
   ]
  },
  {
   "cell_type": "code",
   "execution_count": 7,
   "metadata": {},
   "outputs": [],
   "source": [
    "scens = ['UniversalHome', 'HighHome', 'LowHome_HighWork', 'LowHome_LowWork']\n",
    "res = pd.DataFrame(np.zeros((4,1)), columns=['Total Energy'], index=scens)\n",
    "for scenario_name in scens:\n",
    "\n",
    "    timers_extra_info = '_NoTimers' # no control\n",
    "    scenario_date='20220313'\n",
    "\n",
    "    folder = '../EVDemandModel_EVScenarios/RunningModel/Outputs/'\n",
    "    key1 = folder + scenario_name + '_100p' + timers_extra_info + '_WECC_' + scenario_date + '.csv'\n",
    "    key2 = folder + scenario_name + '_100p' + timers_extra_info + '_weekend_WECC_' + scenario_date + '.csv'\n",
    "    ev_load = pd.read_csv(key1, index_col=0)  # For 100% of drivers\n",
    "    if 'Total' not in ev_load.columns:\n",
    "        ev_load['Total'] = ev_load.sum(axis=1)\n",
    "    ev_load_weekend = pd.read_csv(key2, index_col=0)\n",
    "    if 'Total' not in ev_load_weekend.columns:\n",
    "        ev_load_weekend['Total'] = ev_load_weekend.sum(axis=1)\n",
    "    pen_level = 1.0\n",
    "    # apply pen level and convert to MW\n",
    "    ev_load_add = pen_level * (1/1000) * ev_load['Total'].values\n",
    "    ev_load_weekend_add = pen_level * (1/1000) * ev_load_weekend['Total'].values\n",
    "\n",
    "\n",
    "    test = copy.deepcopy(future.demand)\n",
    "    test['ev_demand'] = 0\n",
    "\n",
    "    for i in range(365):\n",
    "        if pd.to_datetime(test.loc[24*i, 'datetime']).weekday() in [0, 1, 2, 3, 4]:\n",
    "            test.loc[24*i+np.arange(0, 24), 'ev_demand'] += ev_load_add[np.arange(0, 1440, 60)]\n",
    "        else:\n",
    "            test.loc[24*i+np.arange(0, 24), 'ev_demand'] += ev_load_weekend_add[np.arange(0, 1440, 60)]\n",
    "            \n",
    "    res.loc[scenario_name, 'Total Energy'] = test['ev_demand'].sum()"
   ]
  },
  {
   "cell_type": "code",
   "execution_count": 8,
   "metadata": {},
   "outputs": [],
   "source": [
    "res['Norm by Max'] = res['Total Energy']/res['Total Energy'].max()\n",
    "res['Norm by Min'] = res['Total Energy']/res['Total Energy'].min()\n",
    "res['Norm by Mean'] = res['Total Energy']/res['Total Energy'].mean()"
   ]
  },
  {
   "cell_type": "code",
   "execution_count": 9,
   "metadata": {},
   "outputs": [
    {
     "data": {
      "text/html": [
       "<div>\n",
       "<style scoped>\n",
       "    .dataframe tbody tr th:only-of-type {\n",
       "        vertical-align: middle;\n",
       "    }\n",
       "\n",
       "    .dataframe tbody tr th {\n",
       "        vertical-align: top;\n",
       "    }\n",
       "\n",
       "    .dataframe thead th {\n",
       "        text-align: right;\n",
       "    }\n",
       "</style>\n",
       "<table border=\"1\" class=\"dataframe\">\n",
       "  <thead>\n",
       "    <tr style=\"text-align: right;\">\n",
       "      <th></th>\n",
       "      <th>Total Energy</th>\n",
       "      <th>Norm by Max</th>\n",
       "      <th>Norm by Min</th>\n",
       "      <th>Norm by Mean</th>\n",
       "    </tr>\n",
       "  </thead>\n",
       "  <tbody>\n",
       "    <tr>\n",
       "      <td>UniversalHome</td>\n",
       "      <td>8.994325e+07</td>\n",
       "      <td>1.000000</td>\n",
       "      <td>1.039283</td>\n",
       "      <td>1.020955</td>\n",
       "    </tr>\n",
       "    <tr>\n",
       "      <td>HighHome</td>\n",
       "      <td>8.920403e+07</td>\n",
       "      <td>0.991781</td>\n",
       "      <td>1.030741</td>\n",
       "      <td>1.012564</td>\n",
       "    </tr>\n",
       "    <tr>\n",
       "      <td>LowHome_HighWork</td>\n",
       "      <td>8.654357e+07</td>\n",
       "      <td>0.962202</td>\n",
       "      <td>1.000000</td>\n",
       "      <td>0.982365</td>\n",
       "    </tr>\n",
       "    <tr>\n",
       "      <td>LowHome_LowWork</td>\n",
       "      <td>8.669768e+07</td>\n",
       "      <td>0.963915</td>\n",
       "      <td>1.001781</td>\n",
       "      <td>0.984115</td>\n",
       "    </tr>\n",
       "  </tbody>\n",
       "</table>\n",
       "</div>"
      ],
      "text/plain": [
       "                  Total Energy  Norm by Max  Norm by Min  Norm by Mean\n",
       "UniversalHome     8.994325e+07     1.000000     1.039283      1.020955\n",
       "HighHome          8.920403e+07     0.991781     1.030741      1.012564\n",
       "LowHome_HighWork  8.654357e+07     0.962202     1.000000      0.982365\n",
       "LowHome_LowWork   8.669768e+07     0.963915     1.001781      0.984115"
      ]
     },
     "execution_count": 9,
     "metadata": {},
     "output_type": "execute_result"
    }
   ],
   "source": [
    "res"
   ]
  },
  {
   "cell_type": "code",
   "execution_count": 10,
   "metadata": {},
   "outputs": [
    {
     "name": "stdout",
     "output_type": "stream",
     "text": [
      "Percent diff between low and high, over low:  0.0392828334364587\n",
      "Percent diff between low and high, over high:  0.03779802010831581\n"
     ]
    }
   ],
   "source": [
    "print('Percent diff between low and high, over low: ', (res.loc['UniversalHome', 'Total Energy'] - res.loc['LowHome_HighWork', 'Total Energy']) / res.loc['LowHome_HighWork', 'Total Energy'])\n",
    "print('Percent diff between low and high, over high: ', (res.loc['UniversalHome', 'Total Energy'] - res.loc['LowHome_HighWork', 'Total Energy']) / res.loc['UniversalHome', 'Total Energy'])"
   ]
  },
  {
   "cell_type": "code",
   "execution_count": null,
   "metadata": {},
   "outputs": [],
   "source": []
  }
 ],
 "metadata": {
  "kernelspec": {
   "display_name": "Python 3",
   "language": "python",
   "name": "python3"
  },
  "language_info": {
   "codemirror_mode": {
    "name": "ipython",
    "version": 3
   },
   "file_extension": ".py",
   "mimetype": "text/x-python",
   "name": "python",
   "nbconvert_exporter": "python",
   "pygments_lexer": "ipython3",
   "version": "3.7.4"
  }
 },
 "nbformat": 4,
 "nbformat_minor": 2
}
