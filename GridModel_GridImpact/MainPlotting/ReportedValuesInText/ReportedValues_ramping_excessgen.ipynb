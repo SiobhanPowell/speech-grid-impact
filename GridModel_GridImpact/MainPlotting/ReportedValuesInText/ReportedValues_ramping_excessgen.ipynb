{
 "cells": [
  {
   "cell_type": "markdown",
   "metadata": {},
   "source": [
    "# Values and percent increases or decreases reported in the text about ramping and excess nonfossil fuel generation.\n",
    "Developed by Siobhan Powell, 2022."
   ]
  },
  {
   "cell_type": "code",
   "execution_count": 1,
   "metadata": {},
   "outputs": [],
   "source": [
    "import os\n",
    "os.chdir('..')"
   ]
  },
  {
   "cell_type": "code",
   "execution_count": 6,
   "metadata": {},
   "outputs": [],
   "source": [
    "import pandas as pd\n",
    "import numpy as np"
   ]
  },
  {
   "cell_type": "code",
   "execution_count": 7,
   "metadata": {},
   "outputs": [],
   "source": [
    "extra_save_str='_afterstorage'\n",
    "penlevel = 0.5\n",
    "\n",
    "scens1 = ['_Timers9pm_noWPcontrol', '_Timers12am_noWPcontrol', '_TimersRandom_noWPcontrol','_TimersNone_noWPcontrol', '_TimersNone_WPcontrol_minpeak', '_TimersNone_WPcontrol_avgem']\n",
    "scens2 = ['UniversalHome', 'HighHome', 'LowHome_HighWork', 'LowHome_LowWork']\n",
    "\n",
    "vals1 = np.zeros((7, 5)) # overgeneration\n",
    "tables_dfs1 = pd.DataFrame(np.zeros((7, 5)), \n",
    "                          index=['_Timers9pm_noWPcontrol', '_Timers12am_noWPcontrol', '_TimersRandom_noWPcontrol', '_TimersNone_noWPcontrol', '_TimersNone_WPcontrol_minpeak', '_TimersNone_WPcontrol_avgem', '_TimersMixed_WPcontrol_minpeak'], \n",
    "                          columns=['UniversalHome', 'HighHome', 'LowHome_HighWork', 'LowHome_LowWork', 'BusinessAsUsual'])\n",
    "\n",
    "vals2 = np.zeros((7, 5)) # ramping\n",
    "tables_dfs2 = pd.DataFrame(np.zeros((7, 5)), \n",
    "                          index=['_Timers9pm_noWPcontrol', '_Timers12am_noWPcontrol', '_TimersRandom_noWPcontrol','_TimersNone_noWPcontrol', '_TimersNone_WPcontrol_minpeak', '_TimersNone_WPcontrol_avgem', '_TimersMixed_WPcontrol_minpeak'], \n",
    "                          columns=['UniversalHome', 'HighHome', 'LowHome_HighWork', 'LowHome_LowWork', 'BusinessAsUsual'])\n",
    "\n",
    "for i, scen1 in enumerate(scens1):\n",
    "    for j, scen2 in enumerate(scens2):\n",
    "        overgen = None\n",
    "        dpdf = pd.read_csv('Results/Fuel1_Solar35_Wind3/fuel1_solar3.5_wind3_'+scen2+scen1+'_penlevel'+str(penlevel)+'_storagebefore_withstorage_dpdf_20220408.csv')\n",
    "        try:\n",
    "            overgen = pd.read_csv('Results/Fuel1_Solar35_Wind3/fuel1_solar3.5_wind3_'+scen2+scen1+'_penlevel'+str(penlevel)+'_storagebefore_overgeneration'+extra_save_str+'.csv')\n",
    "        except:\n",
    "            print('No overgen')\n",
    "        if overgen is not None:\n",
    "            vals1[i, j] = np.abs(overgen.demand.sum())\n",
    "            tables_dfs1.loc[scen1, scen2] = np.abs(overgen.demand.sum())\n",
    "        \n",
    "        prof1 = np.zeros((25, ))\n",
    "        prof1[np.arange(0, 24)] = dpdf['demand'].values.reshape(-1, 24).mean(axis=0) # in original \n",
    "        prof1[24] = prof1[0]\n",
    "        vals2[i, j] = np.max(prof1[1:] - prof1[:-1])\n",
    "        tables_dfs2.loc[scen1, scen2] = np.max(prof1[1:] - prof1[:-1])\n",
    "        \n",
    "        \n",
    "scen2 = 'BusinessAsUsual'\n",
    "scen1 =  '_TimersMixed_WPcontrol_minpeak'\n",
    "i = i+1\n",
    "j = j+1\n",
    "overgen = None\n",
    "dpdf = pd.read_csv('Results/Fuel1_Solar35_Wind3/fuel1_solar3.5_wind3_'+scen2+scen1+'_penlevel'+str(penlevel)+'_storagebefore_withstorage_dpdf_20220408.csv')\n",
    "try: \n",
    "    overgen = pd.read_csv('Results/Fuel1_Solar35_Wind3/fuel1_solar3.5_wind3_'+scen2+scen1+'_penlevel'+str(penlevel)+'_storagebefore_overgeneration'+extra_save_str+'.csv')\n",
    "except:\n",
    "    print('No overgeneration for ', scen1, scen2)        \n",
    "        \n",
    "if overgen is not None:\n",
    "    vals1[i, j] = np.abs(overgen.demand.sum())\n",
    "    tables_dfs1.loc[scen1, scen2] = np.abs(overgen.demand.sum())\n",
    "\n",
    "prof = np.zeros((25, ))\n",
    "prof[np.arange(0, 24)] = dpdf['demand'].values.reshape(-1, 24).mean(axis=0)\n",
    "prof[24] = prof[0]\n",
    "vals2[i, j] = np.max(prof[1:] - prof[:-1])\n",
    "tables_dfs2.loc[scen1, scen2] = np.max(prof[1:] - prof[:-1])        \n",
    "\n",
    "\n"
   ]
  },
  {
   "cell_type": "code",
   "execution_count": 8,
   "metadata": {},
   "outputs": [],
   "source": [
    "extra_save_str='_afterstorage'\n",
    "penlevel = 1.0\n",
    "\n",
    "scens1 = ['_Timers9pm_noWPcontrol', '_Timers12am_noWPcontrol', '_TimersRandom_noWPcontrol','_TimersNone_noWPcontrol', '_TimersNone_WPcontrol_minpeak', '_TimersNone_WPcontrol_avgem']\n",
    "scens2 = ['UniversalHome', 'HighHome', 'LowHome_HighWork', 'LowHome_LowWork']\n",
    "\n",
    "vals1_100p = np.zeros((7, 5)) # overgeneration\n",
    "tables_dfs1_100p = pd.DataFrame(np.zeros((7, 5)), \n",
    "                          index=['_Timers9pm_noWPcontrol', '_Timers12am_noWPcontrol', '_TimersRandom_noWPcontrol', '_TimersNone_noWPcontrol', '_TimersNone_WPcontrol_minpeak', '_TimersNone_WPcontrol_avgem', '_TimersMixed_WPcontrol_minpeak'], \n",
    "                          columns=['UniversalHome', 'HighHome', 'LowHome_HighWork', 'LowHome_LowWork', 'BusinessAsUsual'])\n",
    "\n",
    "vals2_100p = np.zeros((7, 5)) # ramping\n",
    "tables_dfs2_100p = pd.DataFrame(np.zeros((7, 5)), \n",
    "                          index=['_Timers9pm_noWPcontrol', '_Timers12am_noWPcontrol', '_TimersRandom_noWPcontrol','_TimersNone_noWPcontrol', '_TimersNone_WPcontrol_minpeak', '_TimersNone_WPcontrol_avgem', '_TimersMixed_WPcontrol_minpeak'], \n",
    "                          columns=['UniversalHome', 'HighHome', 'LowHome_HighWork', 'LowHome_LowWork', 'BusinessAsUsual'])\n",
    "\n",
    "for i, scen1 in enumerate(scens1):\n",
    "    for j, scen2 in enumerate(scens2):\n",
    "        overgen = None\n",
    "        dpdf = pd.read_csv('Results/Fuel1_Solar35_Wind3/fuel1_solar3.5_wind3_'+scen2+scen1+'_penlevel'+str(penlevel)+'_storagebefore_withstorage_dpdf_20220408.csv')\n",
    "        try:\n",
    "            overgen = pd.read_csv('Results/Fuel1_Solar35_Wind3/fuel1_solar3.5_wind3_'+scen2+scen1+'_penlevel'+str(penlevel)+'_storagebefore_overgeneration'+extra_save_str+'.csv')\n",
    "        except:\n",
    "            print('No overgen')\n",
    "        if overgen is not None:\n",
    "            vals1_100p[i, j] = np.abs(overgen.demand.sum())\n",
    "            tables_dfs1_100p.loc[scen1, scen2] = np.abs(overgen.demand.sum())\n",
    "        \n",
    "        prof1 = np.zeros((25, ))\n",
    "        prof1[np.arange(0, 24)] = dpdf['demand'].values.reshape(-1, 24).mean(axis=0) # in original \n",
    "        prof1[24] = prof1[0]\n",
    "        vals2_100p[i, j] = np.max(prof1[1:] - prof1[:-1])\n",
    "        tables_dfs2_100p.loc[scen1, scen2] = np.max(prof1[1:] - prof1[:-1])\n",
    "        \n",
    "        \n",
    "scen2 = 'BusinessAsUsual'\n",
    "scen1 =  '_TimersMixed_WPcontrol_minpeak'\n",
    "i = i+1\n",
    "j = j+1\n",
    "overgen = None\n",
    "dpdf = pd.read_csv('Results/Fuel1_Solar35_Wind3/fuel1_solar3.5_wind3_'+scen2+scen1+'_penlevel'+str(penlevel)+'_storagebefore_withstorage_dpdf_20220408.csv')\n",
    "try: \n",
    "    overgen = pd.read_csv('Results/Fuel1_Solar35_Wind3/fuel1_solar3.5_wind3_'+scen2+scen1+'_penlevel'+str(penlevel)+'_storagebefore_overgeneration'+extra_save_str+'.csv')\n",
    "except:\n",
    "    print('No overgeneration for ', scen1, scen2)        \n",
    "        \n",
    "if overgen is not None:\n",
    "    vals1_100p[i, j] = np.abs(overgen.demand.sum())\n",
    "    tables_dfs1_100p.loc[scen1, scen2] = np.abs(overgen.demand.sum())\n",
    "\n",
    "prof = np.zeros((25, ))\n",
    "prof[np.arange(0, 24)] = dpdf['demand'].values.reshape(-1, 24).mean(axis=0)\n",
    "prof[24] = prof[0]\n",
    "vals2_100p[i, j] = np.max(prof[1:] - prof[:-1])\n",
    "tables_dfs2_100p.loc[scen1, scen2] = np.max(prof[1:] - prof[:-1])        \n",
    "\n",
    "\n"
   ]
  },
  {
   "cell_type": "code",
   "execution_count": 20,
   "metadata": {},
   "outputs": [
    {
     "name": "stdout",
     "output_type": "stream",
     "text": [
      "Max ramping in Low Home cases:  6880.127789168422\n",
      "Ramping in BAU:  8382.15114583756\n",
      "Max ramping in Universal Home:  9721.75667330403\n",
      "A/B: 0.8208069348146962\n",
      "A/C: 0.7077041753226834\n"
     ]
    }
   ],
   "source": [
    "# Ramping: \n",
    "print('Max ramping in Low Home cases: ', tables_dfs2.loc[:, ['LowHome_HighWork', 'LowHome_LowWork']].max().max())\n",
    "print('Ramping in BAU: ', tables_dfs2['BusinessAsUsual'].max())\n",
    "print('Max ramping in Universal Home: ', tables_dfs2['UniversalHome'].max())\n",
    "\n",
    "print('A/B:', tables_dfs2.loc[:, ['LowHome_HighWork', 'LowHome_LowWork']].max().max()/tables_dfs2['BusinessAsUsual'].max())\n",
    "print('A/C:', tables_dfs2.loc[:, ['LowHome_HighWork', 'LowHome_LowWork']].max().max()/tables_dfs2['UniversalHome'].max())"
   ]
  },
  {
   "cell_type": "code",
   "execution_count": 21,
   "metadata": {},
   "outputs": [
    {
     "name": "stdout",
     "output_type": "stream",
     "text": [
      "Max ramping in Low Home cases:  6023.27154570874\n",
      "Ramping in BAU:  9215.164159844448\n",
      "Max ramping in Universal Home:  11714.157370907356\n",
      "A/B: 0.6536260712484597\n",
      "A/C: 0.5141873508262582\n"
     ]
    }
   ],
   "source": [
    "# Ramping with 100% adoption: \n",
    "print('Max ramping in Low Home cases: ', tables_dfs2_100p.loc[:, ['LowHome_HighWork', 'LowHome_LowWork']].max().max())\n",
    "print('Ramping in BAU: ', tables_dfs2_100p['BusinessAsUsual'].max())\n",
    "print('Max ramping in Universal Home: ', tables_dfs2_100p['UniversalHome'].max())\n",
    "\n",
    "print('A/B:', tables_dfs2_100p.loc[:, ['LowHome_HighWork', 'LowHome_LowWork']].max().max()/tables_dfs2_100p['BusinessAsUsual'].max())\n",
    "print('A/C:', tables_dfs2_100p.loc[:, ['LowHome_HighWork', 'LowHome_LowWork']].max().max()/tables_dfs2_100p['UniversalHome'].max())"
   ]
  },
  {
   "cell_type": "markdown",
   "metadata": {},
   "source": [
    "# Excess generation"
   ]
  },
  {
   "cell_type": "code",
   "execution_count": 28,
   "metadata": {},
   "outputs": [],
   "source": [
    "noev_scenario = pd.read_csv('Results/NoEVs_year2035_solar3.5x_wind3x_withstorage_dpdf_20220408.csv')\n",
    "overgen_noev = pd.read_csv('Results/NoEVs_year2035_solar3.5x_wind3x_overgeneration.csv')"
   ]
  },
  {
   "cell_type": "code",
   "execution_count": 36,
   "metadata": {},
   "outputs": [
    {
     "data": {
      "text/plain": [
       "5558.123700000005"
      ]
     },
     "execution_count": 36,
     "metadata": {},
     "output_type": "execute_result"
    }
   ],
   "source": [
    "(1/1000)*np.abs(overgen_noev.demand.sum())"
   ]
  },
  {
   "cell_type": "code",
   "execution_count": 34,
   "metadata": {},
   "outputs": [
    {
     "data": {
      "text/plain": [
       "1265.8264946447844"
      ]
     },
     "execution_count": 34,
     "metadata": {},
     "output_type": "execute_result"
    }
   ],
   "source": [
    "(1/1000)*tables_dfs1['BusinessAsUsual'].max()"
   ]
  },
  {
   "cell_type": "code",
   "execution_count": 35,
   "metadata": {},
   "outputs": [
    {
     "data": {
      "text/plain": [
       "516.6055683921403"
      ]
     },
     "execution_count": 35,
     "metadata": {},
     "output_type": "execute_result"
    }
   ],
   "source": [
    "(1/1000)*tables_dfs1_100p['BusinessAsUsual'].max()"
   ]
  },
  {
   "cell_type": "markdown",
   "metadata": {},
   "source": [
    "### gap between best and worst: "
   ]
  },
  {
   "cell_type": "code",
   "execution_count": 43,
   "metadata": {},
   "outputs": [
    {
     "data": {
      "text/plain": [
       "1726.9403923679217"
      ]
     },
     "execution_count": 43,
     "metadata": {},
     "output_type": "execute_result"
    }
   ],
   "source": [
    "(1/1000)*tables_dfs1['UniversalHome'].max()"
   ]
  },
  {
   "cell_type": "code",
   "execution_count": 44,
   "metadata": {},
   "outputs": [
    {
     "data": {
      "text/plain": [
       "UniversalHome       1670.201925\n",
       "HighHome            1221.798586\n",
       "LowHome_HighWork     942.706939\n",
       "LowHome_LowWork      937.511497\n",
       "BusinessAsUsual     1265.826495\n",
       "dtype: float64"
      ]
     },
     "execution_count": 44,
     "metadata": {},
     "output_type": "execute_result"
    }
   ],
   "source": [
    "(1/1000)*tables_dfs1[tables_dfs1>0].min()"
   ]
  },
  {
   "cell_type": "code",
   "execution_count": 46,
   "metadata": {},
   "outputs": [
    {
     "data": {
      "text/plain": [
       "789.4288949858127"
      ]
     },
     "execution_count": 46,
     "metadata": {},
     "output_type": "execute_result"
    }
   ],
   "source": [
    "(1/1000)*tables_dfs1['UniversalHome'].max() - (1/1000)*tables_dfs1[tables_dfs1>0].min().min()"
   ]
  },
  {
   "cell_type": "code",
   "execution_count": 48,
   "metadata": {},
   "outputs": [
    {
     "data": {
      "text/plain": [
       "1.8420471612243694"
      ]
     },
     "execution_count": 48,
     "metadata": {},
     "output_type": "execute_result"
    }
   ],
   "source": [
    "((1/1000)*tables_dfs1['UniversalHome'].max()) / ((1/1000)*tables_dfs1[tables_dfs1>0].min().min())"
   ]
  },
  {
   "cell_type": "markdown",
   "metadata": {},
   "source": [
    "100%"
   ]
  },
  {
   "cell_type": "code",
   "execution_count": 49,
   "metadata": {},
   "outputs": [
    {
     "data": {
      "text/plain": [
       "940.3685010949793"
      ]
     },
     "execution_count": 49,
     "metadata": {},
     "output_type": "execute_result"
    }
   ],
   "source": [
    "(1/1000)*tables_dfs1_100p['UniversalHome'].max()"
   ]
  },
  {
   "cell_type": "code",
   "execution_count": 50,
   "metadata": {},
   "outputs": [
    {
     "data": {
      "text/plain": [
       "3.287030227383395"
      ]
     },
     "execution_count": 50,
     "metadata": {},
     "output_type": "execute_result"
    }
   ],
   "source": [
    "((1/1000)*tables_dfs1_100p['UniversalHome'].max()) / ((1/1000)*tables_dfs1_100p[tables_dfs1_100p>0].min().min())"
   ]
  },
  {
   "cell_type": "code",
   "execution_count": 53,
   "metadata": {},
   "outputs": [
    {
     "data": {
      "text/html": [
       "<div>\n",
       "<style scoped>\n",
       "    .dataframe tbody tr th:only-of-type {\n",
       "        vertical-align: middle;\n",
       "    }\n",
       "\n",
       "    .dataframe tbody tr th {\n",
       "        vertical-align: top;\n",
       "    }\n",
       "\n",
       "    .dataframe thead th {\n",
       "        text-align: right;\n",
       "    }\n",
       "</style>\n",
       "<table border=\"1\" class=\"dataframe\">\n",
       "  <thead>\n",
       "    <tr style=\"text-align: right;\">\n",
       "      <th></th>\n",
       "      <th>UniversalHome</th>\n",
       "      <th>HighHome</th>\n",
       "      <th>LowHome_HighWork</th>\n",
       "      <th>LowHome_LowWork</th>\n",
       "      <th>BusinessAsUsual</th>\n",
       "    </tr>\n",
       "  </thead>\n",
       "  <tbody>\n",
       "    <tr>\n",
       "      <td>_Timers9pm_noWPcontrol</td>\n",
       "      <td>908.732330</td>\n",
       "      <td>493.307602</td>\n",
       "      <td>356.993165</td>\n",
       "      <td>297.118571</td>\n",
       "      <td>NaN</td>\n",
       "    </tr>\n",
       "    <tr>\n",
       "      <td>_Timers12am_noWPcontrol</td>\n",
       "      <td>907.331451</td>\n",
       "      <td>492.455728</td>\n",
       "      <td>356.805746</td>\n",
       "      <td>296.412542</td>\n",
       "      <td>NaN</td>\n",
       "    </tr>\n",
       "    <tr>\n",
       "      <td>_TimersRandom_noWPcontrol</td>\n",
       "      <td>904.939770</td>\n",
       "      <td>491.796607</td>\n",
       "      <td>356.971567</td>\n",
       "      <td>296.728258</td>\n",
       "      <td>NaN</td>\n",
       "    </tr>\n",
       "    <tr>\n",
       "      <td>_TimersNone_noWPcontrol</td>\n",
       "      <td>895.426495</td>\n",
       "      <td>485.208551</td>\n",
       "      <td>356.024070</td>\n",
       "      <td>295.798909</td>\n",
       "      <td>NaN</td>\n",
       "    </tr>\n",
       "    <tr>\n",
       "      <td>_TimersNone_WPcontrol_minpeak</td>\n",
       "      <td>940.368501</td>\n",
       "      <td>509.824413</td>\n",
       "      <td>356.157462</td>\n",
       "      <td>295.633771</td>\n",
       "      <td>NaN</td>\n",
       "    </tr>\n",
       "    <tr>\n",
       "      <td>_TimersNone_WPcontrol_avgem</td>\n",
       "      <td>883.326987</td>\n",
       "      <td>462.862795</td>\n",
       "      <td>350.468174</td>\n",
       "      <td>286.084531</td>\n",
       "      <td>NaN</td>\n",
       "    </tr>\n",
       "    <tr>\n",
       "      <td>_TimersMixed_WPcontrol_minpeak</td>\n",
       "      <td>NaN</td>\n",
       "      <td>NaN</td>\n",
       "      <td>NaN</td>\n",
       "      <td>NaN</td>\n",
       "      <td>516.605568</td>\n",
       "    </tr>\n",
       "  </tbody>\n",
       "</table>\n",
       "</div>"
      ],
      "text/plain": [
       "                                UniversalHome    HighHome  LowHome_HighWork  \\\n",
       "_Timers9pm_noWPcontrol             908.732330  493.307602        356.993165   \n",
       "_Timers12am_noWPcontrol            907.331451  492.455728        356.805746   \n",
       "_TimersRandom_noWPcontrol          904.939770  491.796607        356.971567   \n",
       "_TimersNone_noWPcontrol            895.426495  485.208551        356.024070   \n",
       "_TimersNone_WPcontrol_minpeak      940.368501  509.824413        356.157462   \n",
       "_TimersNone_WPcontrol_avgem        883.326987  462.862795        350.468174   \n",
       "_TimersMixed_WPcontrol_minpeak            NaN         NaN               NaN   \n",
       "\n",
       "                                LowHome_LowWork  BusinessAsUsual  \n",
       "_Timers9pm_noWPcontrol               297.118571              NaN  \n",
       "_Timers12am_noWPcontrol              296.412542              NaN  \n",
       "_TimersRandom_noWPcontrol            296.728258              NaN  \n",
       "_TimersNone_noWPcontrol              295.798909              NaN  \n",
       "_TimersNone_WPcontrol_minpeak        295.633771              NaN  \n",
       "_TimersNone_WPcontrol_avgem          286.084531              NaN  \n",
       "_TimersMixed_WPcontrol_minpeak              NaN       516.605568  "
      ]
     },
     "execution_count": 53,
     "metadata": {},
     "output_type": "execute_result"
    }
   ],
   "source": [
    "(1/1000)*tables_dfs1_100p[tables_dfs1_100p>0]"
   ]
  }
 ],
 "metadata": {
  "kernelspec": {
   "display_name": "Python 3",
   "language": "python",
   "name": "python3"
  },
  "language_info": {
   "codemirror_mode": {
    "name": "ipython",
    "version": 3
   },
   "file_extension": ".py",
   "mimetype": "text/x-python",
   "name": "python",
   "nbconvert_exporter": "python",
   "pygments_lexer": "ipython3",
   "version": "3.7.4"
  }
 },
 "nbformat": 4,
 "nbformat_minor": 2
}
