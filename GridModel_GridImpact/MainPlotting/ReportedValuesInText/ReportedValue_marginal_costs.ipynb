{
 "cells": [
  {
   "cell_type": "markdown",
   "metadata": {},
   "source": [
    "# Calculate Marginal Costs for Supplement\n",
    "\n",
    "Developed by Siobhan Powell, 2022."
   ]
  },
  {
   "cell_type": "code",
   "execution_count": 1,
   "metadata": {},
   "outputs": [],
   "source": [
    "import os\n",
    "os.chdir('..')"
   ]
  },
  {
   "cell_type": "code",
   "execution_count": 2,
   "metadata": {},
   "outputs": [],
   "source": [
    "import pandas as pd\n",
    "import matplotlib.pyplot as plt\n",
    "import numpy as np\n",
    "from matplotlib.patches import Patch\n",
    "from matplotlib.lines import Line2D\n",
    "import copy\n",
    "from matplotlib.gridspec import GridSpec\n",
    "import pickle\n",
    "from future_grid import FutureDemand"
   ]
  },
  {
   "cell_type": "code",
   "execution_count": 3,
   "metadata": {},
   "outputs": [],
   "source": [
    "noev_scenario = pd.read_csv('Results/NoEVs_year2035_solar3.5x_wind3x_withstorage_dpdf_20220408.csv')"
   ]
  },
  {
   "cell_type": "code",
   "execution_count": 7,
   "metadata": {},
   "outputs": [
    {
     "data": {
      "text/plain": [
       "[<matplotlib.lines.Line2D at 0x7fd8e3ea4f90>]"
      ]
     },
     "execution_count": 7,
     "metadata": {},
     "output_type": "execute_result"
    },
    {
     "data": {
      "image/png": "[encoded data removed]",
      "text/plain": [
       "<Figure size 432x288 with 1 Axes>"
      ]
     },
     "metadata": {
      "needs_background": "light"
     },
     "output_type": "display_data"
    }
   ],
   "source": [
    "inds = noev_scenario[pd.to_datetime(noev_scenario['datetime']).dt.weekday.isin([0,1,2,3,4])].index\n",
    "plt.plot(noev_scenario.loc[inds, 'gen_cost_marg'].values.reshape(-1, 24).mean(axis=0))"
   ]
  },
  {
   "cell_type": "code",
   "execution_count": 9,
   "metadata": {},
   "outputs": [
    {
     "name": "stdout",
     "output_type": "stream",
     "text": [
      "Mean:  23.42508287353714\n",
      "Max on mean day :  29.248837757529092\n",
      "Max overall :  346.9496906627906\n"
     ]
    }
   ],
   "source": [
    "print('Mean: ', noev_scenario.loc[inds, 'gen_cost_marg'].values.reshape(-1, 24).mean(axis=0).mean())\n",
    "print('Max on mean day : ', noev_scenario.loc[inds, 'gen_cost_marg'].values.reshape(-1, 24).mean(axis=0).max())\n",
    "print('Max overall : ', noev_scenario['gen_cost_marg'].max())"
   ]
  },
  {
   "cell_type": "code",
   "execution_count": 15,
   "metadata": {},
   "outputs": [
    {
     "data": {
      "image/png": "[encoded data removed]",
      "text/plain": [
       "<Figure size 432x288 with 1 Axes>"
      ]
     },
     "metadata": {
      "needs_background": "light"
     },
     "output_type": "display_data"
    }
   ],
   "source": [
    "plt.hist(np.clip(noev_scenario['gen_cost_marg'].values, -10, 50), bins=np.linspace(-10, 50, 30))\n",
    "plt.show()"
   ]
  },
  {
   "cell_type": "code",
   "execution_count": 16,
   "metadata": {},
   "outputs": [],
   "source": [
    "ev_scenario1 = pd.read_csv('Results/Fuel1_Solar35_Wind3/fuel1_solar3.5_wind3_BusinessAsUsual_TimersMixed_WPcontrol_minpeak_penlevel0.5_withstorage_dpdf_20220408.csv')\n",
    "ev_scenario2 = pd.read_csv('Results/Fuel1_Solar35_Wind3/fuel1_solar3.5_wind3_BusinessAsUsual_TimersMixed_WPcontrol_minpeak_penlevel0.5_storagebefore_withstorage_dpdf_20220408.csv')\n",
    "\n"
   ]
  },
  {
   "cell_type": "code",
   "execution_count": 17,
   "metadata": {},
   "outputs": [
    {
     "name": "stdout",
     "output_type": "stream",
     "text": [
      "Mean:  26.37154226573158\n",
      "Max on mean day :  44.34107427954675\n",
      "Max overall :  647.8766261627908\n"
     ]
    }
   ],
   "source": [
    "print('Mean: ', ev_scenario1.loc[inds, 'gen_cost_marg'].values.reshape(-1, 24).mean(axis=0).mean())\n",
    "print('Max on mean day : ', ev_scenario1.loc[inds, 'gen_cost_marg'].values.reshape(-1, 24).mean(axis=0).max())\n",
    "print('Max overall : ', ev_scenario1['gen_cost_marg'].max())"
   ]
  },
  {
   "cell_type": "code",
   "execution_count": 18,
   "metadata": {},
   "outputs": [
    {
     "name": "stdout",
     "output_type": "stream",
     "text": [
      "Mean:  24.664823836547967\n",
      "Max on mean day :  27.68364319843406\n",
      "Max overall :  45.65679971409865\n"
     ]
    }
   ],
   "source": [
    "print('Mean: ', ev_scenario2.loc[inds, 'gen_cost_marg'].values.reshape(-1, 24).mean(axis=0).mean())\n",
    "print('Max on mean day : ', ev_scenario2.loc[inds, 'gen_cost_marg'].values.reshape(-1, 24).mean(axis=0).max())\n",
    "print('Max overall : ', ev_scenario2['gen_cost_marg'].max())"
   ]
  },
  {
   "cell_type": "code",
   "execution_count": 29,
   "metadata": {},
   "outputs": [],
   "source": [
    "results_df = pd.DataFrame(np.zeros((4, 6)), index=['UniversalHome', 'HighHome', 'LowHome_HighWork', 'LowHome_LowWork'], \n",
    "                          columns=['No Storage - Mean', 'No Storage - Max on Mean Weekday', 'No Storage - Max', 'Storage - Mean', 'Storage - Max on Mean Weekday', 'Storage - Max'])\n",
    "\n",
    "for scenario in ['UniversalHome', 'HighHome', 'LowHome_HighWork', 'LowHome_LowWork']:\n",
    "    ev_scenario1 = pd.read_csv('Results/Fuel1_Solar35_Wind3/fuel1_solar3.5_wind3_'+scenario+'_TimersNone_noWPcontrol_penlevel0.5_withstorage_dpdf_20220408.csv')\n",
    "    ev_scenario2 = pd.read_csv('Results/Fuel1_Solar35_Wind3/fuel1_solar3.5_wind3_'+scenario+'_TimersNone_noWPcontrol_penlevel0.5_storagebefore_withstorage_dpdf_20220408.csv')\n",
    "    results_df.loc[scenario, 'No Storage - Mean'] = ev_scenario1['gen_cost_marg'].values.reshape(-1, 24).mean(axis=0).mean()\n",
    "    results_df.loc[scenario, 'No Storage - Max on Mean Weekday'] = ev_scenario1.loc[inds, 'gen_cost_marg'].values.reshape(-1, 24).mean(axis=0).max()\n",
    "    results_df.loc[scenario, 'No Storage - Max'] = ev_scenario1['gen_cost_marg'].max()\n",
    "    results_df.loc[scenario, 'Storage - Mean'] = ev_scenario2['gen_cost_marg'].values.reshape(-1, 24).mean(axis=0).mean()\n",
    "    results_df.loc[scenario, 'Storage - Max on Mean Weekday'] = ev_scenario2.loc[inds, 'gen_cost_marg'].values.reshape(-1, 24).mean(axis=0).max()\n",
    "    results_df.loc[scenario, 'Storage - Max'] = ev_scenario2['gen_cost_marg'].max()\n",
    "\n"
   ]
  },
  {
   "cell_type": "code",
   "execution_count": 30,
   "metadata": {},
   "outputs": [],
   "source": [
    "noev_scenario2 = pd.read_csv('Results/NoEVs_year2035_solar3.5x_wind3x_storagebefore_dpdf_20220408.csv')\n",
    "\n",
    "results_df.loc['No EVs', 'No Storage - Mean'] = noev_scenario['gen_cost_marg'].values.reshape(-1, 24).mean(axis=0).mean()\n",
    "results_df.loc['No EVs', 'No Storage - Max on Mean Weekday'] = noev_scenario.loc[inds, 'gen_cost_marg'].values.reshape(-1, 24).mean(axis=0).max()\n",
    "results_df.loc['No EVs', 'No Storage - Max'] = noev_scenario['gen_cost_marg'].max()\n",
    "\n",
    "\n",
    "results_df.loc['No EVs', 'Storage - Mean'] = noev_scenario2['gen_cost_marg'].values.reshape(-1, 24).mean(axis=0).mean()\n",
    "results_df.loc['No EVs', 'Storage - Max on Mean Weekday'] = noev_scenario2.loc[inds, 'gen_cost_marg'].values.reshape(-1, 24).mean(axis=0).max()\n",
    "results_df.loc['No EVs', 'Storage - Max'] = noev_scenario2['gen_cost_marg'].max()\n"
   ]
  },
  {
   "cell_type": "code",
   "execution_count": 31,
   "metadata": {},
   "outputs": [
    {
     "data": {
      "text/html": [
       "<div>\n",
       "<style scoped>\n",
       "    .dataframe tbody tr th:only-of-type {\n",
       "        vertical-align: middle;\n",
       "    }\n",
       "\n",
       "    .dataframe tbody tr th {\n",
       "        vertical-align: top;\n",
       "    }\n",
       "\n",
       "    .dataframe thead th {\n",
       "        text-align: right;\n",
       "    }\n",
       "</style>\n",
       "<table border=\"1\" class=\"dataframe\">\n",
       "  <thead>\n",
       "    <tr style=\"text-align: right;\">\n",
       "      <th></th>\n",
       "      <th>No Storage - Mean</th>\n",
       "      <th>No Storage - Max on Mean Weekday</th>\n",
       "      <th>No Storage - Max</th>\n",
       "      <th>Storage - Mean</th>\n",
       "      <th>Storage - Max on Mean Weekday</th>\n",
       "      <th>Storage - Max</th>\n",
       "    </tr>\n",
       "  </thead>\n",
       "  <tbody>\n",
       "    <tr>\n",
       "      <td>UniversalHome</td>\n",
       "      <td>26.34</td>\n",
       "      <td>52.74</td>\n",
       "      <td>649.84</td>\n",
       "      <td>24.17</td>\n",
       "      <td>28.65</td>\n",
       "      <td>49.33</td>\n",
       "    </tr>\n",
       "    <tr>\n",
       "      <td>HighHome</td>\n",
       "      <td>25.35</td>\n",
       "      <td>44.73</td>\n",
       "      <td>647.88</td>\n",
       "      <td>24.08</td>\n",
       "      <td>27.76</td>\n",
       "      <td>45.67</td>\n",
       "    </tr>\n",
       "    <tr>\n",
       "      <td>LowHome_HighWork</td>\n",
       "      <td>24.60</td>\n",
       "      <td>39.01</td>\n",
       "      <td>647.88</td>\n",
       "      <td>23.96</td>\n",
       "      <td>26.90</td>\n",
       "      <td>43.49</td>\n",
       "    </tr>\n",
       "    <tr>\n",
       "      <td>LowHome_LowWork</td>\n",
       "      <td>24.61</td>\n",
       "      <td>39.12</td>\n",
       "      <td>647.88</td>\n",
       "      <td>23.95</td>\n",
       "      <td>26.97</td>\n",
       "      <td>43.92</td>\n",
       "    </tr>\n",
       "    <tr>\n",
       "      <td>No EVs</td>\n",
       "      <td>23.01</td>\n",
       "      <td>29.25</td>\n",
       "      <td>346.95</td>\n",
       "      <td>22.63</td>\n",
       "      <td>25.67</td>\n",
       "      <td>40.98</td>\n",
       "    </tr>\n",
       "  </tbody>\n",
       "</table>\n",
       "</div>"
      ],
      "text/plain": [
       "                  No Storage - Mean  No Storage - Max on Mean Weekday  \\\n",
       "UniversalHome                 26.34                             52.74   \n",
       "HighHome                      25.35                             44.73   \n",
       "LowHome_HighWork              24.60                             39.01   \n",
       "LowHome_LowWork               24.61                             39.12   \n",
       "No EVs                        23.01                             29.25   \n",
       "\n",
       "                  No Storage - Max  Storage - Mean  \\\n",
       "UniversalHome               649.84           24.17   \n",
       "HighHome                    647.88           24.08   \n",
       "LowHome_HighWork            647.88           23.96   \n",
       "LowHome_LowWork             647.88           23.95   \n",
       "No EVs                      346.95           22.63   \n",
       "\n",
       "                  Storage - Max on Mean Weekday  Storage - Max  \n",
       "UniversalHome                             28.65          49.33  \n",
       "HighHome                                  27.76          45.67  \n",
       "LowHome_HighWork                          26.90          43.49  \n",
       "LowHome_LowWork                           26.97          43.92  \n",
       "No EVs                                    25.67          40.98  "
      ]
     },
     "execution_count": 31,
     "metadata": {},
     "output_type": "execute_result"
    }
   ],
   "source": [
    "results_df.round(2)"
   ]
  },
  {
   "cell_type": "code",
   "execution_count": null,
   "metadata": {},
   "outputs": [],
   "source": [
    "# Mean $/MWh = 25\n",
    "# The max is what's driving the need for storage: 650 is expensive!\n",
    "# Max on typical weekday is $39 - 53 / MWh\n",
    "\n",
    "# Storage is 7.5 GW = 30,000 kWh vs 4.2 GW  = 16,800 kWh at 143 or 299 $/kWh\n",
    "# "
   ]
  },
  {
   "cell_type": "code",
   "execution_count": 33,
   "metadata": {},
   "outputs": [
    {
     "data": {
      "text/plain": [
       "16800.0"
      ]
     },
     "execution_count": 33,
     "metadata": {},
     "output_type": "execute_result"
    }
   ],
   "source": [
    "for scenario in ['UniversalHome', 'HighHome', 'LowHome_HighWork', 'LowHome_LowWork']:\n",
    "    ev_scenario1 = pd.read_csv('Results/Fuel1_Solar35_Wind3/fuel1_solar3.5_wind3_'+scenario+'_TimersNone_noWPcontrol_penlevel0.5_withstorage_dpdf_20220408.csv')\n",
    "    ev_scenario1.\n",
    "#     ev_scenario2 = pd.read_csv('Results/Fuel1_Solar35_Wind3/fuel1_solar3.5_wind3_'+scenario+'_TimersNone_noWPcontrol_penlevel0.5_storagebefore_withstorage_dpdf_20220408.csv')\n"
   ]
  },
  {
   "cell_type": "code",
   "execution_count": 37,
   "metadata": {},
   "outputs": [
    {
     "data": {
      "text/plain": [
       "0.2193033554983558"
      ]
     },
     "execution_count": 37,
     "metadata": {},
     "output_type": "execute_result"
    }
   ],
   "source": [
    "1460000000 / ev_scenario1.gen_cost_tot.sum()"
   ]
  },
  {
   "cell_type": "code",
   "execution_count": 38,
   "metadata": {},
   "outputs": [
    {
     "data": {
      "text/plain": [
       "1.6641547619849126"
      ]
     },
     "execution_count": 38,
     "metadata": {},
     "output_type": "execute_result"
    }
   ],
   "source": [
    "1460000000 / ev_scenario1.total_incl_noncombustion.sum()"
   ]
  },
  {
   "cell_type": "code",
   "execution_count": 39,
   "metadata": {},
   "outputs": [
    {
     "data": {
      "text/plain": [
       "7.588368897517345"
      ]
     },
     "execution_count": 39,
     "metadata": {},
     "output_type": "execute_result"
    }
   ],
   "source": [
    "ev_scenario1.gen_cost_tot.sum() / ev_scenario1.total_incl_noncombustion.sum()"
   ]
  },
  {
   "cell_type": "code",
   "execution_count": 45,
   "metadata": {},
   "outputs": [],
   "source": [
    "results_df = pd.DataFrame(np.zeros((4, 6)), index=['UniversalHome', 'HighHome', 'LowHome_HighWork', 'LowHome_LowWork'], \n",
    "                          columns=['No Storage - Mean Price [$/MWh]', 'No Storage - Total Cost [$]', 'No Storage - Total Demand [MWh]', 'Storage - Mean Price [$/MWh]', 'Storage - Total Cost [$]', 'Storage - Total Demand [MWh]'])\n",
    "\n",
    "for scenario in ['UniversalHome', 'HighHome', 'LowHome_HighWork', 'LowHome_LowWork']:\n",
    "    ev_scenario1 = pd.read_csv('Results/Fuel1_Solar35_Wind3/fuel1_solar3.5_wind3_'+scenario+'_TimersNone_noWPcontrol_penlevel0.5_withstorage_dpdf_20220408.csv')\n",
    "    ev_scenario2 = pd.read_csv('Results/Fuel1_Solar35_Wind3/fuel1_solar3.5_wind3_'+scenario+'_TimersNone_noWPcontrol_penlevel0.5_storagebefore_withstorage_dpdf_20220408.csv')\n",
    "    results_df.loc[scenario, 'No Storage - Mean Price [$/MWh]'] = ev_scenario1['gen_cost_tot'].sum() / ev_scenario1['total_incl_noncombustion'].sum()\n",
    "    results_df.loc[scenario, 'No Storage - Total Cost [$]'] = ev_scenario1['gen_cost_tot'].sum()\n",
    "    results_df.loc[scenario, 'No Storage - Total Demand [MWh]'] =  ev_scenario1['total_incl_noncombustion'].sum()\n",
    "    results_df.loc[scenario, 'Storage - Mean Price [$/MWh]'] = ev_scenario2['gen_cost_tot'].sum() / ev_scenario2['total_incl_noncombustion'].sum()\n",
    "    results_df.loc[scenario, 'Storage - Total Cost [$]'] = ev_scenario2['gen_cost_tot'].sum()\n",
    "    results_df.loc[scenario, 'Storage - Total Demand [MWh]'] =  ev_scenario2['total_incl_noncombustion'].sum()\n",
    "\n",
    "results_df.loc['No EVs', 'No Storage - Mean Price [$/MWh]'] = noev_scenario['gen_cost_tot'].sum() / noev_scenario['total_incl_noncombustion'].sum()\n",
    "results_df.loc['No EVs', 'No Storage - Total Cost [$]'] = noev_scenario['gen_cost_tot'].sum()\n",
    "results_df.loc['No EVs', 'No Storage - Total Demand [MWh]'] =  noev_scenario['total_incl_noncombustion'].sum()\n",
    "results_df.loc['No EVs', 'Storage - Mean Price [$/MWh]'] = noev_scenario2['gen_cost_tot'].sum() / noev_scenario2['total_incl_noncombustion'].sum()\n",
    "results_df.loc['No EVs', 'Storage - Total Cost [$]'] = noev_scenario2['gen_cost_tot'].sum()\n",
    "results_df.loc['No EVs', 'Storage - Total Demand [MWh]'] =  noev_scenario2['total_incl_noncombustion'].sum()\n"
   ]
  },
  {
   "cell_type": "code",
   "execution_count": 47,
   "metadata": {},
   "outputs": [
    {
     "data": {
      "text/html": [
       "<div>\n",
       "<style scoped>\n",
       "    .dataframe tbody tr th:only-of-type {\n",
       "        vertical-align: middle;\n",
       "    }\n",
       "\n",
       "    .dataframe tbody tr th {\n",
       "        vertical-align: top;\n",
       "    }\n",
       "\n",
       "    .dataframe thead th {\n",
       "        text-align: right;\n",
       "    }\n",
       "</style>\n",
       "<table border=\"1\" class=\"dataframe\">\n",
       "  <thead>\n",
       "    <tr style=\"text-align: right;\">\n",
       "      <th></th>\n",
       "      <th>No Storage - Mean Price [$/MWh]</th>\n",
       "      <th>No Storage - Total Cost [$]</th>\n",
       "      <th>No Storage - Total Demand [MWh]</th>\n",
       "      <th>Storage - Mean Price [$/MWh]</th>\n",
       "      <th>Storage - Total Cost [$]</th>\n",
       "      <th>Storage - Total Demand [MWh]</th>\n",
       "    </tr>\n",
       "  </thead>\n",
       "  <tbody>\n",
       "    <tr>\n",
       "      <td>UniversalHome</td>\n",
       "      <td>7.78</td>\n",
       "      <td>6.836869e+09</td>\n",
       "      <td>8.789450e+08</td>\n",
       "      <td>7.58</td>\n",
       "      <td>6.659880e+09</td>\n",
       "      <td>8.789450e+08</td>\n",
       "    </tr>\n",
       "    <tr>\n",
       "      <td>HighHome</td>\n",
       "      <td>7.69</td>\n",
       "      <td>6.755067e+09</td>\n",
       "      <td>8.785754e+08</td>\n",
       "      <td>7.51</td>\n",
       "      <td>6.600723e+09</td>\n",
       "      <td>8.785754e+08</td>\n",
       "    </tr>\n",
       "    <tr>\n",
       "      <td>LowHome_HighWork</td>\n",
       "      <td>7.58</td>\n",
       "      <td>6.650478e+09</td>\n",
       "      <td>8.772452e+08</td>\n",
       "      <td>7.43</td>\n",
       "      <td>6.521608e+09</td>\n",
       "      <td>8.772452e+08</td>\n",
       "    </tr>\n",
       "    <tr>\n",
       "      <td>LowHome_LowWork</td>\n",
       "      <td>7.59</td>\n",
       "      <td>6.657445e+09</td>\n",
       "      <td>8.773222e+08</td>\n",
       "      <td>7.44</td>\n",
       "      <td>6.526002e+09</td>\n",
       "      <td>8.773222e+08</td>\n",
       "    </tr>\n",
       "    <tr>\n",
       "      <td>No EVs</td>\n",
       "      <td>6.87</td>\n",
       "      <td>5.726504e+09</td>\n",
       "      <td>8.339734e+08</td>\n",
       "      <td>6.68</td>\n",
       "      <td>5.572743e+09</td>\n",
       "      <td>8.339734e+08</td>\n",
       "    </tr>\n",
       "  </tbody>\n",
       "</table>\n",
       "</div>"
      ],
      "text/plain": [
       "                  No Storage - Mean Price [$/MWh]  \\\n",
       "UniversalHome                                7.78   \n",
       "HighHome                                     7.69   \n",
       "LowHome_HighWork                             7.58   \n",
       "LowHome_LowWork                              7.59   \n",
       "No EVs                                       6.87   \n",
       "\n",
       "                  No Storage - Total Cost [$]  \\\n",
       "UniversalHome                    6.836869e+09   \n",
       "HighHome                         6.755067e+09   \n",
       "LowHome_HighWork                 6.650478e+09   \n",
       "LowHome_LowWork                  6.657445e+09   \n",
       "No EVs                           5.726504e+09   \n",
       "\n",
       "                  No Storage - Total Demand [MWh]  \\\n",
       "UniversalHome                        8.789450e+08   \n",
       "HighHome                             8.785754e+08   \n",
       "LowHome_HighWork                     8.772452e+08   \n",
       "LowHome_LowWork                      8.773222e+08   \n",
       "No EVs                               8.339734e+08   \n",
       "\n",
       "                  Storage - Mean Price [$/MWh]  Storage - Total Cost [$]  \\\n",
       "UniversalHome                             7.58              6.659880e+09   \n",
       "HighHome                                  7.51              6.600723e+09   \n",
       "LowHome_HighWork                          7.43              6.521608e+09   \n",
       "LowHome_LowWork                           7.44              6.526002e+09   \n",
       "No EVs                                    6.68              5.572743e+09   \n",
       "\n",
       "                  Storage - Total Demand [MWh]  \n",
       "UniversalHome                     8.789450e+08  \n",
       "HighHome                          8.785754e+08  \n",
       "LowHome_HighWork                  8.772452e+08  \n",
       "LowHome_LowWork                   8.773222e+08  \n",
       "No EVs                            8.339734e+08  "
      ]
     },
     "execution_count": 47,
     "metadata": {},
     "output_type": "execute_result"
    }
   ],
   "source": [
    "results_df.round(2)"
   ]
  },
  {
   "cell_type": "code",
   "execution_count": 48,
   "metadata": {},
   "outputs": [
    {
     "data": {
      "text/html": [
       "<div>\n",
       "<style scoped>\n",
       "    .dataframe tbody tr th:only-of-type {\n",
       "        vertical-align: middle;\n",
       "    }\n",
       "\n",
       "    .dataframe tbody tr th {\n",
       "        vertical-align: top;\n",
       "    }\n",
       "\n",
       "    .dataframe thead th {\n",
       "        text-align: right;\n",
       "    }\n",
       "</style>\n",
       "<table border=\"1\" class=\"dataframe\">\n",
       "  <thead>\n",
       "    <tr style=\"text-align: right;\">\n",
       "      <th></th>\n",
       "      <th>No Storage - Mean Price [$/MWh]</th>\n",
       "      <th>No Storage - Total Cost [$]</th>\n",
       "      <th>No Storage - Total Demand [MWh]</th>\n",
       "      <th>Storage - Mean Price [$/MWh]</th>\n",
       "      <th>Storage - Total Cost [$]</th>\n",
       "      <th>Storage - Total Demand [MWh]</th>\n",
       "    </tr>\n",
       "  </thead>\n",
       "  <tbody>\n",
       "    <tr>\n",
       "      <td>UniversalHome</td>\n",
       "      <td>8.947747e+07</td>\n",
       "      <td>0.101801</td>\n",
       "      <td>0.791858</td>\n",
       "      <td>9.185537e+07</td>\n",
       "      <td>0.104506</td>\n",
       "      <td>0.791858</td>\n",
       "    </tr>\n",
       "    <tr>\n",
       "      <td>HighHome</td>\n",
       "      <td>9.052294e+07</td>\n",
       "      <td>0.103034</td>\n",
       "      <td>0.792192</td>\n",
       "      <td>9.263962e+07</td>\n",
       "      <td>0.105443</td>\n",
       "      <td>0.792192</td>\n",
       "    </tr>\n",
       "    <tr>\n",
       "      <td>LowHome_HighWork</td>\n",
       "      <td>9.180733e+07</td>\n",
       "      <td>0.104654</td>\n",
       "      <td>0.793393</td>\n",
       "      <td>9.362149e+07</td>\n",
       "      <td>0.106722</td>\n",
       "      <td>0.793393</td>\n",
       "    </tr>\n",
       "    <tr>\n",
       "      <td>LowHome_LowWork</td>\n",
       "      <td>9.171932e+07</td>\n",
       "      <td>0.104545</td>\n",
       "      <td>0.793323</td>\n",
       "      <td>9.356668e+07</td>\n",
       "      <td>0.106650</td>\n",
       "      <td>0.793323</td>\n",
       "    </tr>\n",
       "    <tr>\n",
       "      <td>No EVs</td>\n",
       "      <td>1.013612e+08</td>\n",
       "      <td>0.121540</td>\n",
       "      <td>0.834559</td>\n",
       "      <td>1.041580e+08</td>\n",
       "      <td>0.124894</td>\n",
       "      <td>0.834559</td>\n",
       "    </tr>\n",
       "  </tbody>\n",
       "</table>\n",
       "</div>"
      ],
      "text/plain": [
       "                  No Storage - Mean Price [$/MWh]  \\\n",
       "UniversalHome                        8.947747e+07   \n",
       "HighHome                             9.052294e+07   \n",
       "LowHome_HighWork                     9.180733e+07   \n",
       "LowHome_LowWork                      9.171932e+07   \n",
       "No EVs                               1.013612e+08   \n",
       "\n",
       "                  No Storage - Total Cost [$]  \\\n",
       "UniversalHome                        0.101801   \n",
       "HighHome                             0.103034   \n",
       "LowHome_HighWork                     0.104654   \n",
       "LowHome_LowWork                      0.104545   \n",
       "No EVs                               0.121540   \n",
       "\n",
       "                  No Storage - Total Demand [MWh]  \\\n",
       "UniversalHome                            0.791858   \n",
       "HighHome                                 0.792192   \n",
       "LowHome_HighWork                         0.793393   \n",
       "LowHome_LowWork                          0.793323   \n",
       "No EVs                                   0.834559   \n",
       "\n",
       "                  Storage - Mean Price [$/MWh]  Storage - Total Cost [$]  \\\n",
       "UniversalHome                     9.185537e+07                  0.104506   \n",
       "HighHome                          9.263962e+07                  0.105443   \n",
       "LowHome_HighWork                  9.362149e+07                  0.106722   \n",
       "LowHome_LowWork                   9.356668e+07                  0.106650   \n",
       "No EVs                            1.041580e+08                  0.124894   \n",
       "\n",
       "                  Storage - Total Demand [MWh]  \n",
       "UniversalHome                         0.791858  \n",
       "HighHome                              0.792192  \n",
       "LowHome_HighWork                      0.793393  \n",
       "LowHome_LowWork                       0.793323  \n",
       "No EVs                                0.834559  "
      ]
     },
     "execution_count": 48,
     "metadata": {},
     "output_type": "execute_result"
    }
   ],
   "source": [
    "696000000 / results_df"
   ]
  },
  {
   "cell_type": "code",
   "execution_count": 49,
   "metadata": {},
   "outputs": [
    {
     "data": {
      "text/html": [
       "<div>\n",
       "<style scoped>\n",
       "    .dataframe tbody tr th:only-of-type {\n",
       "        vertical-align: middle;\n",
       "    }\n",
       "\n",
       "    .dataframe tbody tr th {\n",
       "        vertical-align: top;\n",
       "    }\n",
       "\n",
       "    .dataframe thead th {\n",
       "        text-align: right;\n",
       "    }\n",
       "</style>\n",
       "<table border=\"1\" class=\"dataframe\">\n",
       "  <thead>\n",
       "    <tr style=\"text-align: right;\">\n",
       "      <th></th>\n",
       "      <th>No Storage - Mean Price [$/MWh]</th>\n",
       "      <th>No Storage - Total Cost [$]</th>\n",
       "      <th>No Storage - Total Demand [MWh]</th>\n",
       "      <th>Storage - Mean Price [$/MWh]</th>\n",
       "      <th>Storage - Total Cost [$]</th>\n",
       "      <th>Storage - Total Demand [MWh]</th>\n",
       "    </tr>\n",
       "  </thead>\n",
       "  <tbody>\n",
       "    <tr>\n",
       "      <td>UniversalHome</td>\n",
       "      <td>1.876970e+08</td>\n",
       "      <td>0.213548</td>\n",
       "      <td>1.661082</td>\n",
       "      <td>1.926851e+08</td>\n",
       "      <td>0.219223</td>\n",
       "      <td>1.661082</td>\n",
       "    </tr>\n",
       "    <tr>\n",
       "      <td>HighHome</td>\n",
       "      <td>1.898901e+08</td>\n",
       "      <td>0.216134</td>\n",
       "      <td>1.661781</td>\n",
       "      <td>1.943302e+08</td>\n",
       "      <td>0.221188</td>\n",
       "      <td>1.661781</td>\n",
       "    </tr>\n",
       "    <tr>\n",
       "      <td>LowHome_HighWork</td>\n",
       "      <td>1.925843e+08</td>\n",
       "      <td>0.219533</td>\n",
       "      <td>1.664301</td>\n",
       "      <td>1.963899e+08</td>\n",
       "      <td>0.223871</td>\n",
       "      <td>1.664301</td>\n",
       "    </tr>\n",
       "    <tr>\n",
       "      <td>LowHome_LowWork</td>\n",
       "      <td>1.923997e+08</td>\n",
       "      <td>0.219303</td>\n",
       "      <td>1.664155</td>\n",
       "      <td>1.962749e+08</td>\n",
       "      <td>0.223720</td>\n",
       "      <td>1.664155</td>\n",
       "    </tr>\n",
       "    <tr>\n",
       "      <td>No EVs</td>\n",
       "      <td>2.126256e+08</td>\n",
       "      <td>0.254955</td>\n",
       "      <td>1.750655</td>\n",
       "      <td>2.184923e+08</td>\n",
       "      <td>0.261989</td>\n",
       "      <td>1.750655</td>\n",
       "    </tr>\n",
       "  </tbody>\n",
       "</table>\n",
       "</div>"
      ],
      "text/plain": [
       "                  No Storage - Mean Price [$/MWh]  \\\n",
       "UniversalHome                        1.876970e+08   \n",
       "HighHome                             1.898901e+08   \n",
       "LowHome_HighWork                     1.925843e+08   \n",
       "LowHome_LowWork                      1.923997e+08   \n",
       "No EVs                               2.126256e+08   \n",
       "\n",
       "                  No Storage - Total Cost [$]  \\\n",
       "UniversalHome                        0.213548   \n",
       "HighHome                             0.216134   \n",
       "LowHome_HighWork                     0.219533   \n",
       "LowHome_LowWork                      0.219303   \n",
       "No EVs                               0.254955   \n",
       "\n",
       "                  No Storage - Total Demand [MWh]  \\\n",
       "UniversalHome                            1.661082   \n",
       "HighHome                                 1.661781   \n",
       "LowHome_HighWork                         1.664301   \n",
       "LowHome_LowWork                          1.664155   \n",
       "No EVs                                   1.750655   \n",
       "\n",
       "                  Storage - Mean Price [$/MWh]  Storage - Total Cost [$]  \\\n",
       "UniversalHome                     1.926851e+08                  0.219223   \n",
       "HighHome                          1.943302e+08                  0.221188   \n",
       "LowHome_HighWork                  1.963899e+08                  0.223871   \n",
       "LowHome_LowWork                   1.962749e+08                  0.223720   \n",
       "No EVs                            2.184923e+08                  0.261989   \n",
       "\n",
       "                  Storage - Total Demand [MWh]  \n",
       "UniversalHome                         1.661082  \n",
       "HighHome                              1.661781  \n",
       "LowHome_HighWork                      1.664301  \n",
       "LowHome_LowWork                       1.664155  \n",
       "No EVs                                1.750655  "
      ]
     },
     "execution_count": 49,
     "metadata": {},
     "output_type": "execute_result"
    }
   ],
   "source": [
    "1460000000 / results_df"
   ]
  },
  {
   "cell_type": "code",
   "execution_count": 50,
   "metadata": {},
   "outputs": [
    {
     "data": {
      "text/plain": [
       "0.01"
      ]
     },
     "execution_count": 50,
     "metadata": {},
     "output_type": "execute_result"
    }
   ],
   "source": [
    "ev_scenario1.gen_cost_marg.min()"
   ]
  }
 ],
 "metadata": {
  "kernelspec": {
   "display_name": "Python 3",
   "language": "python",
   "name": "python3"
  },
  "language_info": {
   "codemirror_mode": {
    "name": "ipython",
    "version": 3
   },
   "file_extension": ".py",
   "mimetype": "text/x-python",
   "name": "python",
   "nbconvert_exporter": "python",
   "pygments_lexer": "ipython3",
   "version": "3.7.4"
  }
 },
 "nbformat": 4,
 "nbformat_minor": 2
}
