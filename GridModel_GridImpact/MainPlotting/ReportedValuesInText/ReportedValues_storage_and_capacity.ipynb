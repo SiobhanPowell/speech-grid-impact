{
 "cells": [
  {
   "cell_type": "markdown",
   "metadata": {},
   "source": [
    "# Values and percent increases or decreases reported in the text about storage and grid capacity results \n",
    "Developed by Siobhan Powell, 2022."
   ]
  },
  {
   "cell_type": "code",
   "execution_count": 1,
   "metadata": {},
   "outputs": [],
   "source": [
    "import os\n",
    "os.chdir('../')"
   ]
  },
  {
   "cell_type": "code",
   "execution_count": 2,
   "metadata": {},
   "outputs": [],
   "source": [
    "import pandas as pd\n",
    "import matplotlib.pyplot as plt\n",
    "import numpy as np\n",
    "from matplotlib.patches import Patch\n",
    "from matplotlib.lines import Line2D"
   ]
  },
  {
   "cell_type": "code",
   "execution_count": 3,
   "metadata": {},
   "outputs": [],
   "source": [
    "noevs = pd.read_csv('Results/NoEVs_year2035_solar3.5x_wind3x_withstorage_dpdf_20220408.csv')\n",
    "basecase50 = pd.read_csv('Results/Fuel1_Solar35_Wind3/fuel1_solar3.5_wind3_BusinessAsUsual_TimersMixed_WPcontrol_minpeak_penlevel0.5_withstorage_dpdf_20220408.csv')\n",
    "basecase100 = pd.read_csv('Results/Fuel1_Solar35_Wind3/fuel1_solar3.5_wind3_BusinessAsUsual_TimersMixed_WPcontrol_minpeak_penlevel1.0_withstorage_dpdf_20220408.csv')\n",
    "\n"
   ]
  },
  {
   "cell_type": "code",
   "execution_count": 16,
   "metadata": {},
   "outputs": [
    {
     "name": "stdout",
     "output_type": "stream",
     "text": [
      "With 50%, mean weekday:  0.0872944585981747\n",
      "With 100%, mean weekday:  0.08348870340110742\n",
      "With No EVs, mean weekday:  0.09134223764530265\n"
     ]
    }
   ],
   "source": [
    "inds = basecase50[pd.to_datetime(basecase50.datetime).dt.weekday.isin([0,1,2,3,4])].index\n",
    "print('With 50%, mean weekday: ', 10000 / basecase50.loc[inds, 'total_incl_noncombustion'].values.reshape(-1, 24).mean(axis=0).max())\n",
    "inds = basecase100[pd.to_datetime(basecase100.datetime).dt.weekday.isin([0,1,2,3,4])].index\n",
    "print('With 100%, mean weekday: ', 10000 / basecase100.loc[inds, 'total_incl_noncombustion'].values.reshape(-1, 24).mean(axis=0).max())\n",
    "inds = noevs[pd.to_datetime(noevs.datetime).dt.weekday.isin([0,1,2,3,4])].index\n",
    "print('With No EVs, mean weekday: ', 10000 / noevs.loc[inds, 'total_incl_noncombustion'].values.reshape(-1, 24).mean(axis=0).max())"
   ]
  },
  {
   "cell_type": "code",
   "execution_count": 15,
   "metadata": {},
   "outputs": [
    {
     "name": "stdout",
     "output_type": "stream",
     "text": [
      "With 50%, max weekday:  0.06483757664453214\n",
      "With 100%, max weekday:  0.06277149388135257\n",
      "With No EVs, max weekday:  0.0670442958981227\n"
     ]
    }
   ],
   "source": [
    "inds = basecase50[pd.to_datetime(basecase50.datetime).dt.weekday.isin([0,1,2,3,4])].index\n",
    "print('With 50%, max weekday: ', 10000 / basecase50.loc[inds, 'total_incl_noncombustion'].values.reshape(-1, 24).max(axis=0).max())\n",
    "inds = basecase100[pd.to_datetime(basecase100.datetime).dt.weekday.isin([0,1,2,3,4])].index\n",
    "print('With 100%, max weekday: ', 10000 / basecase100.loc[inds, 'total_incl_noncombustion'].values.reshape(-1, 24).max(axis=0).max())\n",
    "inds = noevs[pd.to_datetime(noevs.datetime).dt.weekday.isin([0,1,2,3,4])].index\n",
    "print('With No EVs, max weekday: ', 10000 / noevs.loc[inds, 'total_incl_noncombustion'].values.reshape(-1, 24).max(axis=0).max())"
   ]
  },
  {
   "cell_type": "code",
   "execution_count": 3,
   "metadata": {},
   "outputs": [],
   "source": [
    "maxpen_results10GW = pd.read_csv('Results/max_penetration_levels_1h_2035_10GWstorage_20220408.csv', index_col=0)"
   ]
  },
  {
   "cell_type": "code",
   "execution_count": 4,
   "metadata": {},
   "outputs": [
    {
     "data": {
      "text/plain": [
       "fuel1_solar3.5_wind3_UniversalHome_noWPcontrol             0.59\n",
       "fuel1_solar3.5_wind3_UniversalHome_WPcontrol_avgem         0.67\n",
       "fuel1_solar3.5_wind3_UniversalHome_WPcontrol_minpeak       0.67\n",
       "fuel1_solar3.5_wind3_HighHome_noWPcontrol                  0.79\n",
       "fuel1_solar3.5_wind3_HighHome_WPcontrol_avgem              0.89\n",
       "fuel1_solar3.5_wind3_HighHome_WPcontrol_minpeak            0.89\n",
       "fuel1_solar3.5_wind3_LowHome_HighWork_noWPcontrol          1.00\n",
       "fuel1_solar3.5_wind3_LowHome_HighWork_WPcontrol_avgem      1.00\n",
       "fuel1_solar3.5_wind3_LowHome_HighWork_WPcontrol_minpeak    1.00\n",
       "fuel1_solar3.5_wind3_LowHome_LowWork_noWPcontrol           1.00\n",
       "fuel1_solar3.5_wind3_LowHome_LowWork_WPcontrol_avgem       1.00\n",
       "fuel1_solar3.5_wind3_LowHome_LowWork_WPcontrol_minpeak     1.00\n",
       "dtype: float64"
      ]
     },
     "execution_count": 4,
     "metadata": {},
     "output_type": "execute_result"
    }
   ],
   "source": [
    "maxpen_results10GW.min()"
   ]
  },
  {
   "cell_type": "markdown",
   "metadata": {},
   "source": [
    "# Storage"
   ]
  },
  {
   "cell_type": "code",
   "execution_count": 3,
   "metadata": {},
   "outputs": [],
   "source": [
    "scens1 = ['_Timers12am_noWPcontrol', '_Timers9pm_noWPcontrol', '_TimersRandom_noWPcontrol', '_TimersNone_noWPcontrol', '_TimersNone_WPcontrol_minpeak', '_TimersNone_WPcontrol_avgem']\n",
    "scens2 = ['UniversalHome', 'HighHome', 'LowHome_HighWork', 'LowHome_LowWork']\n",
    "vals = np.zeros((7, 5))\n",
    "for i, scen1 in enumerate(scens1):\n",
    "    for j, scen2 in enumerate(scens2):\n",
    "        vals[i, j] = pd.read_csv('Results/Fuel1_Solar35_Wind3/fuel1_solar3.5_wind3_'+scen2+scen1+'_penlevel1.0_storage_stats_20220408.csv')['Storage Rate Result'].values[0]\n",
    "vals[6, 4] = pd.read_csv('Results/Fuel1_Solar35_Wind3/fuel1_solar3.5_wind3_'+'BusinessAsUsual'+'_TimersMixed_WPcontrol_minpeak'+'_penlevel1.0_storage_stats_20220408.csv')['Storage Rate Result'].values[0]\n",
    "    \n",
    "vals2 = np.zeros((7, 5))\n",
    "for i, scen1 in enumerate(scens1):\n",
    "    for j, scen2 in enumerate(scens2):\n",
    "        vals2[i, j] = pd.read_csv('Results/Fuel1_Solar35_Wind3/fuel1_solar3.5_wind3_'+scen2+scen1+'_penlevel0.5_storage_stats_20220408.csv')['Storage Rate Result'].values[0]\n",
    "vals2[6, 4] = pd.read_csv('Results/Fuel1_Solar35_Wind3/fuel1_solar3.5_wind3_'+'BusinessAsUsual'+'_TimersMixed_WPcontrol_minpeak'+'_penlevel0.5_storage_stats_20220408.csv')['Storage Rate Result'].values[0]\n",
    "    \n",
    "    "
   ]
  },
  {
   "cell_type": "code",
   "execution_count": 4,
   "metadata": {},
   "outputs": [
    {
     "data": {
      "text/plain": [
       "array([[5473., 4537., 3908., 4041.,    0.],\n",
       "       [7087., 4541., 3914., 4041.,    0.],\n",
       "       [5544., 4550., 3906., 4034.,    0.],\n",
       "       [7152., 5450., 4230., 4374.,    0.],\n",
       "       [7397., 6347., 6322., 5624.,    0.],\n",
       "       [7126., 5420., 4156., 4329.,    0.],\n",
       "       [   0.,    0.,    0.,    0., 5447.]])"
      ]
     },
     "execution_count": 4,
     "metadata": {},
     "output_type": "execute_result"
    }
   ],
   "source": [
    "vals2"
   ]
  },
  {
   "cell_type": "code",
   "execution_count": 5,
   "metadata": {},
   "outputs": [],
   "source": [
    "dpdf1 = pd.read_csv('Results/Fuel1_Solar35_Wind3/fuel1_solar3.5_wind3_LowHome_HighWork_TimersNone_noWPcontrol_penlevel1.0_withstorage_dpdf_20220408.csv')\n",
    "dpdf2 = pd.read_csv('Results/Fuel1_Solar35_Wind3/fuel1_solar3.5_wind3_LowHome_HighWork_TimersNone_noWPcontrol_penlevel0.5_withstorage_dpdf_20220408.csv')"
   ]
  },
  {
   "cell_type": "code",
   "execution_count": 15,
   "metadata": {},
   "outputs": [
    {
     "name": "stdout",
     "output_type": "stream",
     "text": [
      "With 100% adoption, storage for low home high work is X% of typical peak total demand:\n",
      "0.06074337857214538\n",
      "Storage in GW:  8.072000000000001\n",
      "With 50% adoption, storage for low home high work is X% of typical peak total demand:\n",
      "0.03618927095531432\n",
      "Storage in GW:  4.23\n"
     ]
    }
   ],
   "source": [
    "print('With 100% adoption, storage for low home high work is X% of typical peak total demand:')\n",
    "tmp1 = dpdf1.loc[pd.to_datetime(dpdf1.datetime).dt.weekday.isin([0,1,2,3,4])].total_incl_noncombustion.values.reshape(-1, 24).mean(axis=0).max()\n",
    "\n",
    "print(vals[3, 2] / tmp1)\n",
    "print('Storage in GW: ', (1/1000)*vals[3,2])\n",
    "\n",
    "print('With 50% adoption, storage for low home high work is X% of typical peak total demand:')\n",
    "tmp2 = dpdf2.loc[pd.to_datetime(dpdf2.datetime).dt.weekday.isin([0,1,2,3,4])].total_incl_noncombustion.values.reshape(-1, 24).mean(axis=0).max()\n",
    "print(vals2[3, 2] / tmp2)\n",
    "print('Storage in GW: ', (1/1000)*vals2[3,2])"
   ]
  },
  {
   "cell_type": "markdown",
   "metadata": {},
   "source": [
    "Policies supporting a future with Low Home High Work Access could translate into remarkable storage savings. \n",
    "With uncontrolled charging, that scenario would decrease the storage requirement by $1.3\\times$ compared with Business as Usual, $1.7\\times$ compared with uncontrolled Universal Home access.\n",
    "\n",
    "\n",
    "\n"
   ]
  },
  {
   "cell_type": "code",
   "execution_count": 24,
   "metadata": {},
   "outputs": [
    {
     "name": "stdout",
     "output_type": "stream",
     "text": [
      "~~~~With 50% Adoption~~~~~\n",
      "Storage for Low Home High Work [GW], A=  4.23\n",
      "Storage for Business As Usual [GW], B=  5.45\n",
      "Storage for Universal Home [GW], C=  7.15\n",
      "C/A =  1.69\n",
      "B/A =  1.29\n",
      "B-A =  1217.0\n"
     ]
    }
   ],
   "source": [
    "print('~~~~With 50% Adoption~~~~~')\n",
    "\n",
    "print('Storage for Low Home High Work [GW], A= ', np.round((1/1000)*vals2[3, 2], 2))\n",
    "print('Storage for Business As Usual [GW], B= ', np.round((1/1000)*vals2[6, 4], 2))\n",
    "print('Storage for Universal Home [GW], C= ', np.round((1/1000)*vals2[3, 0], 2))\n",
    "\n",
    "print('C/A = ', np.round(vals2[3, 0]/vals2[3, 2], 2))\n",
    "print('B/A = ', np.round(vals2[6, 4]/vals2[3, 2], 2))\n",
    "print('B-A = ', np.round(vals2[6, 4]-vals2[3, 2], 2))"
   ]
  },
  {
   "cell_type": "code",
   "execution_count": 23,
   "metadata": {},
   "outputs": [
    {
     "name": "stdout",
     "output_type": "stream",
     "text": [
      "~~~~With 100% Adoption~~~~~\n",
      "Storage for Low Home High Work [GW], A=  8.07\n",
      "Storage for Business As Usual [GW], B=  10.9\n",
      "Storage for Universal Home [GW], C=  18.19\n",
      "C/A =  2.25\n",
      "B/A =  1.35\n",
      "B-A =  2825.0\n"
     ]
    }
   ],
   "source": [
    "print('~~~~With 100% Adoption~~~~~')\n",
    "\n",
    "print('Storage for Low Home High Work [GW], A= ', np.round((1/1000)*vals[3, 2], 2))\n",
    "print('Storage for Business As Usual [GW], B= ', np.round((1/1000)*vals[6, 4], 2))\n",
    "print('Storage for Universal Home [GW], C= ', np.round((1/1000)*vals[3, 0], 2))\n",
    "\n",
    "print('C/A = ', np.round(vals[3, 0]/vals[3, 2], 2))\n",
    "print('B/A = ', np.round(vals[6, 4]/vals[3, 2], 2))\n",
    "print('B-A = ', np.round(vals[6, 4] - vals[3, 2], 2))"
   ]
  },
  {
   "cell_type": "code",
   "execution_count": 25,
   "metadata": {},
   "outputs": [
    {
     "name": "stdout",
     "output_type": "stream",
     "text": [
      "Storage for Low Home High Work [GW], A=  8.072\n",
      "Storage for Business As Usual [GW], B=  10.897\n"
     ]
    }
   ],
   "source": [
    "print('Storage for Low Home High Work [GW], A= ', np.round((1/1000)*vals[3, 2], 4))\n",
    "print('Storage for Business As Usual [GW], B= ', np.round((1/1000)*vals[6, 4], 4))\n"
   ]
  },
  {
   "cell_type": "markdown",
   "metadata": {},
   "source": [
    "# Increase from workplace control: "
   ]
  },
  {
   "cell_type": "code",
   "execution_count": 30,
   "metadata": {},
   "outputs": [
    {
     "name": "stdout",
     "output_type": "stream",
     "text": [
      "Max increase vs uncontrolled, with 100%:  1.518334985133796\n"
     ]
    }
   ],
   "source": [
    "print('Max increase vs uncontrolled, with 100%: ', (vals[4, np.arange(0, 4)] / vals[3, np.arange(0, 4)]).max())"
   ]
  },
  {
   "cell_type": "code",
   "execution_count": 31,
   "metadata": {},
   "outputs": [
    {
     "name": "stdout",
     "output_type": "stream",
     "text": [
      "Max increase vs uncontrolled, with 50%:  1.4945626477541372\n"
     ]
    }
   ],
   "source": [
    "print('Max increase vs uncontrolled, with 50%: ', (vals2[4, np.arange(0, 4)] / vals2[3, np.arange(0, 4)]).max())"
   ]
  },
  {
   "cell_type": "markdown",
   "metadata": {},
   "source": [
    "# Variation: "
   ]
  },
  {
   "cell_type": "code",
   "execution_count": 37,
   "metadata": {},
   "outputs": [
    {
     "name": "stdout",
     "output_type": "stream",
     "text": [
      "At 100%: \n",
      "Varies from  24540.0 to  7424.0 . A factor of  3.305\n"
     ]
    }
   ],
   "source": [
    "print('At 100%: ')\n",
    "print('Varies from ', np.round(vals[vals>0].max(), 2), 'to ', np.round(vals[vals>0].min(), 2),'. A factor of ', np.round(vals[vals>0].max() / vals[vals>0].min(), 3))\n"
   ]
  },
  {
   "cell_type": "code",
   "execution_count": 38,
   "metadata": {},
   "outputs": [
    {
     "name": "stdout",
     "output_type": "stream",
     "text": [
      "At 50%: \n",
      "Varies from  7397.0 to  3906.0 . A factor of  1.894\n"
     ]
    }
   ],
   "source": [
    "print('At 50%: ')\n",
    "print('Varies from ', np.round(vals2[vals2>0].max(), 2), 'to ', np.round(vals2[vals2>0].min(), 2),'. A factor of ', np.round(vals2[vals2>0].max() / vals2[vals2>0].min(), 3))\n"
   ]
  }
 ],
 "metadata": {
  "kernelspec": {
   "display_name": "Python 3",
   "language": "python",
   "name": "python3"
  },
  "language_info": {
   "codemirror_mode": {
    "name": "ipython",
    "version": 3
   },
   "file_extension": ".py",
   "mimetype": "text/x-python",
   "name": "python",
   "nbconvert_exporter": "python",
   "pygments_lexer": "ipython3",
   "version": "3.7.4"
  }
 },
 "nbformat": 4,
 "nbformat_minor": 2
}
