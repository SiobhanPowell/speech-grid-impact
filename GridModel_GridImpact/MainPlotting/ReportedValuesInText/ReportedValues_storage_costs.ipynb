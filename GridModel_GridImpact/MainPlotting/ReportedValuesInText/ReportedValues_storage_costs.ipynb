{
 "cells": [
  {
   "cell_type": "markdown",
   "metadata": {},
   "source": [
    "# Calculating values on storage costs saved reported in the text\n",
    "\n",
    "Developed by Siobhan Powell, 2021. Updated in 2022."
   ]
  },
  {
   "cell_type": "code",
   "execution_count": 1,
   "metadata": {},
   "outputs": [],
   "source": [
    "import numpy as np\n",
    "import pandas as pd"
   ]
  },
  {
   "cell_type": "markdown",
   "metadata": {},
   "source": [
    "Report 1: https://www.nrel.gov/docs/fy21osti/79236.pdf\n",
    "\n",
    "2030 high: 248 USD/kWh; 2030 medium: 198 USD/kWh; 2030 low 143 USD/kWh capital cost for 4-hour battery\n",
    "\n",
    "From the report: \"The USD/kWh costs we report can be converted to USD/kW costs simply by\n",
    "multiplying by the duration (e.g., a USD300/kWh, 4-hour battery would have a power capacity cost\n",
    "of USD1200/kW).\""
   ]
  },
  {
   "cell_type": "markdown",
   "metadata": {},
   "source": [
    "Report 2: https://www.pnnl.gov/sites/default/files/media/file/Final%20-%20ESGC%20Cost%20Performance%20Report%2012-11-2020.pdf\n",
    "        \n",
    "Higher estimates. Li-ion 299 USD/kWh in 2030. Other storage technologies in that range"
   ]
  },
  {
   "cell_type": "code",
   "execution_count": 2,
   "metadata": {},
   "outputs": [
    {
     "data": {
      "text/plain": [
       "1.2169999999999996"
      ]
     },
     "execution_count": 2,
     "metadata": {},
     "output_type": "execute_result"
    }
   ],
   "source": [
    "5.447 - 4.230"
   ]
  },
  {
   "cell_type": "markdown",
   "metadata": {},
   "source": [
    "# With 50% EV Adoption"
   ]
  },
  {
   "cell_type": "code",
   "execution_count": 16,
   "metadata": {},
   "outputs": [
    {
     "name": "stdout",
     "output_type": "stream",
     "text": [
      "Savings in million USD for low case:  696.0\n",
      "Savings in million USD for higher case:  1456.0\n"
     ]
    }
   ],
   "source": [
    "savings_GW = 5.447 - 4.230\n",
    "\n",
    "price_per_kwh = 143\n",
    "case = 'low'\n",
    "print('Savings in million USD for '+case+' case: ', np.round((1/(1e6))*(savings_GW * (1e6) * (price_per_kwh*4)))) # *(kW/GW)*(USD/kW)\n",
    "\n",
    "price_per_kwh = 299\n",
    "case = 'higher'\n",
    "print('Savings in million USD for '+case+' case: ', np.round((1/(1e6))*(savings_GW * (1e6) * (price_per_kwh*4)))) # *(kW/GW)*(USD/kW)"
   ]
  },
  {
   "cell_type": "code",
   "execution_count": 4,
   "metadata": {},
   "outputs": [
    {
     "data": {
      "text/plain": [
       "1.2169999999999996"
      ]
     },
     "execution_count": 4,
     "metadata": {},
     "output_type": "execute_result"
    }
   ],
   "source": [
    "savings_GW"
   ]
  },
  {
   "cell_type": "code",
   "execution_count": 17,
   "metadata": {},
   "outputs": [
    {
     "data": {
      "text/plain": [
       "696124.0"
      ]
     },
     "execution_count": 17,
     "metadata": {},
     "output_type": "execute_result"
    }
   ],
   "source": [
    "1.217 * 4 * 143 * 1000"
   ]
  },
  {
   "cell_type": "code",
   "execution_count": 19,
   "metadata": {},
   "outputs": [
    {
     "data": {
      "text/plain": [
       "0.02862306543983307"
      ]
     },
     "execution_count": 19,
     "metadata": {},
     "output_type": "execute_result"
    }
   ],
   "source": [
    "1.217 * 4 * 143 * 1000 / (48640772/2)"
   ]
  },
  {
   "cell_type": "code",
   "execution_count": 18,
   "metadata": {},
   "outputs": [
    {
     "data": {
      "text/plain": [
       "1455532.0000000002"
      ]
     },
     "execution_count": 18,
     "metadata": {},
     "output_type": "execute_result"
    }
   ],
   "source": [
    "1.217 * 4 * 299 * 1000"
   ]
  },
  {
   "cell_type": "code",
   "execution_count": 20,
   "metadata": {},
   "outputs": [
    {
     "data": {
      "text/plain": [
       "0.05984822773783279"
      ]
     },
     "execution_count": 20,
     "metadata": {},
     "output_type": "execute_result"
    }
   ],
   "source": [
    "1.217 * 4 * 299 * 1000 / (48640772/2)"
   ]
  },
  {
   "cell_type": "markdown",
   "metadata": {},
   "source": [
    "# With 100% EV Adoption"
   ]
  },
  {
   "cell_type": "code",
   "execution_count": 11,
   "metadata": {},
   "outputs": [
    {
     "name": "stdout",
     "output_type": "stream",
     "text": [
      "Savings in million USD for low case:  1616.0\n",
      "Savings in million USD for higher case:  3379.0\n"
     ]
    }
   ],
   "source": [
    "savings_GW = 10.897 - 8.072\n",
    "\n",
    "price_per_kwh = 143\n",
    "case = 'low'\n",
    "print('Savings in million USD for '+case+' case: ', np.round((1/(1e6))*(savings_GW * (1e6) * (price_per_kwh*4)))) # *(kW/GW)*(USD/kW)\n",
    "\n",
    "price_per_kwh = 299\n",
    "case = 'higher'\n",
    "print('Savings in million USD for '+case+' case: ', np.round((1/(1e6))*(savings_GW * (1e6) * (price_per_kwh*4)))) # *(kW/GW)*(USD/kW)"
   ]
  },
  {
   "cell_type": "code",
   "execution_count": 13,
   "metadata": {},
   "outputs": [
    {
     "data": {
      "text/plain": [
       "11.300000000000004"
      ]
     },
     "execution_count": 13,
     "metadata": {},
     "output_type": "execute_result"
    }
   ],
   "source": [
    "savings_GW*4"
   ]
  },
  {
   "cell_type": "code",
   "execution_count": 14,
   "metadata": {},
   "outputs": [
    {
     "data": {
      "text/plain": [
       "1615900.0000000005"
      ]
     },
     "execution_count": 14,
     "metadata": {},
     "output_type": "execute_result"
    }
   ],
   "source": [
    "savings_GW * 4 * 143 * 1000"
   ]
  },
  {
   "cell_type": "code",
   "execution_count": 15,
   "metadata": {},
   "outputs": [
    {
     "data": {
      "text/plain": [
       "3378700.0000000014"
      ]
     },
     "execution_count": 15,
     "metadata": {},
     "output_type": "execute_result"
    }
   ],
   "source": [
    "savings_GW * 4 * 299 * 1000"
   ]
  }
 ],
 "metadata": {
  "kernelspec": {
   "display_name": "Python 3",
   "language": "python",
   "name": "python3"
  },
  "language_info": {
   "codemirror_mode": {
    "name": "ipython",
    "version": 3
   },
   "file_extension": ".py",
   "mimetype": "text/x-python",
   "name": "python",
   "nbconvert_exporter": "python",
   "pygments_lexer": "ipython3",
   "version": "3.7.4"
  }
 },
 "nbformat": 4,
 "nbformat_minor": 2
}
