{
 "cells": [
  {
   "cell_type": "markdown",
   "metadata": {},
   "source": [
    "# Calculating values on storage costs saved reported in the text\n",
    "\n",
    "Developed by Siobhan Powell, 2021. "
   ]
  },
  {
   "cell_type": "code",
   "execution_count": 1,
   "metadata": {},
   "outputs": [],
   "source": [
    "import numpy as np\n",
    "import pandas as pd"
   ]
  },
  {
   "cell_type": "markdown",
   "metadata": {},
   "source": [
    "Report 1: https://www.nrel.gov/docs/fy21osti/79236.pdf\n",
    "\n",
    "2030 high: 248 USD/kWh; 2030 medium: 198 USD/kWh; 2030 low 143 USD/kWh capital cost for 4-hour battery\n",
    "\n",
    "From the report: \"The USD/kWh costs we report can be converted to USD/kW costs simply by\n",
    "multiplying by the duration (e.g., a USD300/kWh, 4-hour battery would have a power capacity cost\n",
    "of USD1200/kW).\""
   ]
  },
  {
   "cell_type": "markdown",
   "metadata": {},
   "source": [
    "Report 2: https://www.pnnl.gov/sites/default/files/media/file/Final%20-%20ESGC%20Cost%20Performance%20Report%2012-11-2020.pdf\n",
    "        \n",
    "Higher estimates. Li-ion 299 USD/kWh in 2030. Other storage technologies in that range"
   ]
  },
  {
   "cell_type": "code",
   "execution_count": 6,
   "metadata": {},
   "outputs": [
    {
     "name": "stdout",
     "output_type": "stream",
     "text": [
      "Savings in million USD for high case:  2064.0\n",
      "Savings in million USD for medium case:  1648.0\n",
      "Savings in million USD for low case:  1190.0\n",
      "Savings in million USD for higher case:  2489.0\n"
     ]
    }
   ],
   "source": [
    "# savings_GW = 21.4 - 3.1 # timers\n",
    "savings_GW = 5.185 - 3.104 # bau\n",
    "\n",
    "price_per_kwh = 248\n",
    "case = 'high'\n",
    "print('Savings in million USD for '+case+' case: ', np.round((1/(1e6))*(savings_GW * (1e6) * (price_per_kwh*4)))) # *(kW/GW)*(USD/kW)\n",
    "\n",
    "price_per_kwh = 198\n",
    "case = 'medium'\n",
    "print('Savings in million USD for '+case+' case: ', np.round((1/(1e6))*(savings_GW * (1e6) * (price_per_kwh*4)))) # *(kW/GW)*(USD/kW)\n",
    "\n",
    "price_per_kwh = 143\n",
    "case = 'low'\n",
    "print('Savings in million USD for '+case+' case: ', np.round((1/(1e6))*(savings_GW * (1e6) * (price_per_kwh*4)))) # *(kW/GW)*(USD/kW)\n",
    "\n",
    "price_per_kwh = 299\n",
    "case = 'higher'\n",
    "print('Savings in million USD for '+case+' case: ', np.round((1/(1e6))*(savings_GW * (1e6) * (price_per_kwh*4)))) # *(kW/GW)*(USD/kW)"
   ]
  },
  {
   "cell_type": "code",
   "execution_count": 7,
   "metadata": {},
   "outputs": [
    {
     "name": "stdout",
     "output_type": "stream",
     "text": [
      "Savings in million USD for high case:  18130.0\n",
      "Savings in million USD for medium case:  14475.0\n",
      "Savings in million USD for low case:  10454.0\n",
      "Savings in million USD for higher case:  21858.0\n"
     ]
    }
   ],
   "source": [
    "savings_GW = 21.380 - 3.104 # timers\n",
    "# savings_GW = 5.185 - 3.104 # bau\n",
    "\n",
    "price_per_kwh = 248\n",
    "case = 'high'\n",
    "print('Savings in million USD for '+case+' case: ', np.round((1/(1e6))*(savings_GW * (1e6) * (price_per_kwh*4)))) # *(kW/GW)*(USD/kW)\n",
    "\n",
    "price_per_kwh = 198\n",
    "case = 'medium'\n",
    "print('Savings in million USD for '+case+' case: ', np.round((1/(1e6))*(savings_GW * (1e6) * (price_per_kwh*4)))) # *(kW/GW)*(USD/kW)\n",
    "\n",
    "price_per_kwh = 143\n",
    "case = 'low'\n",
    "print('Savings in million USD for '+case+' case: ', np.round((1/(1e6))*(savings_GW * (1e6) * (price_per_kwh*4)))) # *(kW/GW)*(USD/kW)\n",
    "\n",
    "price_per_kwh = 299\n",
    "case = 'higher'\n",
    "print('Savings in million USD for '+case+' case: ', np.round((1/(1e6))*(savings_GW * (1e6) * (price_per_kwh*4)))) # *(kW/GW)*(USD/kW)"
   ]
  }
 ],
 "metadata": {
  "kernelspec": {
   "display_name": "Python 3",
   "language": "python",
   "name": "python3"
  },
  "language_info": {
   "codemirror_mode": {
    "name": "ipython",
    "version": 3
   },
   "file_extension": ".py",
   "mimetype": "text/x-python",
   "name": "python",
   "nbconvert_exporter": "python",
   "pygments_lexer": "ipython3",
   "version": "3.7.4"
  }
 },
 "nbformat": 4,
 "nbformat_minor": 2
}
