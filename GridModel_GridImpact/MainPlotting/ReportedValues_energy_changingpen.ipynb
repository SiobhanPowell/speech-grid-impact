{
 "cells": [
  {
   "cell_type": "markdown",
   "metadata": {},
   "source": [
    "# Calculating values on total energy increase with each percentage of EV adoption reported in the text.\n",
    "\n",
    "Developed by Siobhan Powell, 2021. "
   ]
  },
  {
   "cell_type": "code",
   "execution_count": 1,
   "metadata": {},
   "outputs": [],
   "source": [
    "import os\n",
    "os.chdir('../')"
   ]
  },
  {
   "cell_type": "code",
   "execution_count": 2,
   "metadata": {},
   "outputs": [],
   "source": [
    "import pandas as pd\n",
    "import matplotlib.pyplot as plt\n",
    "import numpy as np\n",
    "from matplotlib.patches import Patch\n",
    "from matplotlib.lines import Line2D\n",
    "from matplotlib.gridspec import GridSpec\n",
    "import pickle\n",
    "import datetime"
   ]
  },
  {
   "cell_type": "code",
   "execution_count": 3,
   "metadata": {},
   "outputs": [],
   "source": [
    "noev_scenario = pd.read_csv('Results/NoEVs_year2030_solar2.5x_wind2.5x_dpdf_20211119.csv')"
   ]
  },
  {
   "cell_type": "code",
   "execution_count": 5,
   "metadata": {},
   "outputs": [],
   "source": [
    "vals_shift = noev_scenario['total_incl_noncombustion'].sum()"
   ]
  },
  {
   "cell_type": "code",
   "execution_count": 4,
   "metadata": {},
   "outputs": [],
   "source": [
    "scens1 = ['_Timers9pm_noWPcontrol', '_Timers12am_noWPcontrol', '_TimersNone_noWPcontrol', '_TimersNone_WPcontrol_minpeak', '_TimersNone_WPcontrol_avgem']\n",
    "scens2 = ['UniversalHome', 'HighHome', 'LowHome_HighWork', 'LowHome_LowWork']\n",
    "\n",
    "vals = np.zeros((10, 6, 5)) # energy\n",
    "tables_dfs = {penlevel: pd.DataFrame(np.zeros((6, 5)), \n",
    "                                     index=['_Timers9pm_noWPcontrol', '_Timers12am_noWPcontrol', '_TimersNone_noWPcontrol', '_TimersNone_WPcontrol_minpeak', '_TimersNone_WPcontrol_avgem', '_TimersMixed_WPcontrol_minpeak'], \n",
    "                                     columns=['UniversalHome', 'HighHome', 'LowHome_HighWork', 'LowHome_LowWork', 'BusinessAsUsual']) for penlevel in [0.1, 0.2, 0.3, 0.4, 0.5, 0.6, 0.7, 0.8, 0.9, 1.0]}\n",
    "tables_dfs_timeofpeak = {penlevel: pd.DataFrame(np.zeros((6, 5)), \n",
    "                                                index=['_Timers9pm_noWPcontrol', '_Timers12am_noWPcontrol', '_TimersNone_noWPcontrol', '_TimersNone_WPcontrol_minpeak', '_TimersNone_WPcontrol_avgem', '_TimersMixed_WPcontrol_minpeak'], \n",
    "                                                columns=['UniversalHome', 'HighHome', 'LowHome_HighWork', 'LowHome_LowWork', 'BusinessAsUsual']) for penlevel in [0.1, 0.2, 0.3, 0.4, 0.5, 0.6, 0.7, 0.8, 0.9, 1.0]}\n",
    "\n",
    "for i, scen1 in enumerate(scens1):\n",
    "    for j, scen2 in enumerate(scens2):\n",
    "        for k, penlevel in enumerate([0.1, 0.2, 0.3, 0.4, 0.5, 0.6, 0.7, 0.8, 0.9]):\n",
    "            try:\n",
    "                demand_df = pd.read_csv('Results/ImpactCurves/fuel1_solar2.5_wind2.5_'+scen2+scen1+'_penlevel'+str(penlevel)+'_storagebefore_futuredemand_df_20211119.csv', index_col=0)\n",
    "            except:\n",
    "                print('Error for ', penlevel, scen1, scen2)\n",
    "            vals[k, i, j] = demand_df['total_incl_noncombustion'].sum()\n",
    "        \n",
    "        k = k+1\n",
    "        penlevel = 1.0\n",
    "        try: \n",
    "            dpdf = pd.read_csv('Results/Fuel1_Solar25_Wind25/fuel1_solar2.5_wind2.5_'+scen2+scen1+'_penlevel'+str(penlevel)+'_dpdf_20211119.csv')\n",
    "        except:\n",
    "            try:\n",
    "                dpdf = pd.read_csv('Results/Fuel1_Solar25_Wind25/fuel1_solar2.5_wind2.5_'+scen2+scen1+'_penlevel'+str(penlevel)+'_withstorage_dpdf_20211119.csv')\n",
    "            except: \n",
    "                print('Error for ', penlevel, scen1, scen2)\n",
    "                    \n",
    "        vals[k, i, j] = dpdf['total_incl_noncombustion'].sum()\n",
    "        \n",
    "scen2 = 'BusinessAsUsual'\n",
    "scen1 =  '_TimersMixed_WPcontrol_minpeak'\n",
    "i = i+1\n",
    "j = j+1\n",
    "for k, penlevel in enumerate([0.1, 0.2, 0.3, 0.4, 0.5, 0.6, 0.7, 0.8, 0.9]):\n",
    "    try:\n",
    "        demand_df = pd.read_csv('Results/ImpactCurves/fuel1_solar2.5_wind2.5_'+scen2+scen1+'_penlevel'+str(penlevel)+'_storagebefore_futuredemand_df_20211119.csv', index_col=0)\n",
    "    except:\n",
    "        print('Error for ', penlevel, scen1, scen2)\n",
    "    vals[k, i, j] = demand_df['total_incl_noncombustion'].sum()\n",
    "\n",
    "k = k+1\n",
    "penlevel = 1.0\n",
    "try: \n",
    "    dpdf = pd.read_csv('Results/Fuel1_Solar25_Wind25/fuel1_solar2.5_wind2.5_'+scen2+scen1+'_penlevel'+str(penlevel)+'_dpdf_20211119.csv')\n",
    "except:\n",
    "    try:\n",
    "        dpdf = pd.read_csv('Results/Fuel1_Solar25_Wind25/fuel1_solar2.5_wind2.5_'+scen2+scen1+'_penlevel'+str(penlevel)+'_withstorage_dpdf_20211119.csv')\n",
    "    except: \n",
    "        print('Error for ', penlevel, scen1, scen2)\n",
    "        print('Results/Fuel1_Solar25_Wind25/fuel1_solar2.5_wind2.5_'+scen2+scen1+'_penlevel'+str(penlevel)+'_withstorage_dpdf_20211119.csv')\n",
    "\n",
    "vals[k, i, j] = dpdf['total_incl_noncombustion'].sum()\n",
    "\n"
   ]
  },
  {
   "cell_type": "code",
   "execution_count": 8,
   "metadata": {},
   "outputs": [
    {
     "data": {
      "image/png": "[encoded data removed]",
      "text/plain": [
       "<Figure size 576x360 with 1 Axes>"
      ]
     },
     "metadata": {
      "needs_background": "light"
     },
     "output_type": "display_data"
    }
   ],
   "source": [
    "plt.figure(figsize=(8, 5))\n",
    "colors = ['#d7301f', '#fc8d59', '#737373', '#9ebcda', '#88419d']\n",
    "lines = ['--', '-', ':', '-.']\n",
    "\n",
    "markers=['P', 'X', '*', '^', 'v']\n",
    "ms = [8,8,12,8,8]\n",
    "\n",
    "idx_control = 2\n",
    "for idx_access in range(4):\n",
    "    plt.plot(np.arange(10, 105, 10), 100*((vals[:, idx_control, idx_access]-vals_shift)/vals_shift), lines[idx_access], color=colors[idx_control], marker=markers[idx_control],  markersize=ms[idx_control])\n",
    "plt.xticks(np.arange(20, 125, 20), fontsize=14)\n",
    "plt.xlabel('EV Adoption (%)', fontsize=14)\n",
    "plt.yticks(np.arange(0, 12, 2), fontsize=14)\n",
    "plt.ylabel('% chg Peak Total Demand', fontsize=14)\n",
    "plt.xlim([10, 100])\n",
    "plt.ylim([0, 12])\n",
    "# axes[0].set_axisbelow(True)        \n",
    "plt.grid()\n",
    "plt.show()"
   ]
  },
  {
   "cell_type": "code",
   "execution_count": 18,
   "metadata": {},
   "outputs": [
    {
     "name": "stdout",
     "output_type": "stream",
     "text": [
      "Mean increase in energy over no evs:  0.11203\n"
     ]
    }
   ],
   "source": [
    "ct = 0\n",
    "val = 0\n",
    "for control_idx in range(5):\n",
    "    for scen_idx in range(4):\n",
    "        val += vals[9, control_idx, scen_idx]\n",
    "        ct += 1\n",
    "val += vals[9, 5, 4]\n",
    "ct += 1\n",
    "mean_val = val / ct\n",
    "print('Mean increase in energy over no evs: ', np.round((mean_val - vals_shift) / vals_shift, 5))"
   ]
  },
  {
   "cell_type": "code",
   "execution_count": 23,
   "metadata": {},
   "outputs": [
    {
     "name": "stdout",
     "output_type": "stream",
     "text": [
      "Mean increase in energy over no evs, at 20% adoption:  0.02241\n"
     ]
    }
   ],
   "source": [
    "ct = 0\n",
    "val = 0\n",
    "for control_idx in range(5):\n",
    "    for scen_idx in range(4):\n",
    "        val += vals[1, control_idx, scen_idx]\n",
    "        ct += 1\n",
    "val += vals[1, 5, 4]\n",
    "ct += 1\n",
    "mean_val = val / ct\n",
    "print('Mean increase in energy over no evs, at 20% adoption: ', np.round((mean_val - vals_shift) / vals_shift, 5))"
   ]
  },
  {
   "cell_type": "code",
   "execution_count": 22,
   "metadata": {},
   "outputs": [
    {
     "name": "stdout",
     "output_type": "stream",
     "text": [
      "Mean change per degree:  0.00112\n"
     ]
    }
   ],
   "source": [
    "ct = 0\n",
    "val = 0\n",
    "for control_idx in range(5):\n",
    "    for scen_idx in range(4):\n",
    "        val += ((vals[9, control_idx, scen_idx] - vals_shift) - (vals[0, control_idx, scen_idx]  - vals_shift))\n",
    "        ct += 1\n",
    "val += ((vals[9, 5, 4] - vals_shift) - (vals[0, 5, 4]  - vals_shift))\n",
    "ct += 1\n",
    "mean_val = val / ct\n",
    "print('Mean change per degree: ', np.round(mean_val / (vals_shift*90), 5))"
   ]
  },
  {
   "cell_type": "code",
   "execution_count": 24,
   "metadata": {},
   "outputs": [],
   "source": [
    "noev_scenario_2019 = pd.read_csv('Results/NoEVs_year2019_dpdf_20211119.csv')"
   ]
  },
  {
   "cell_type": "code",
   "execution_count": 25,
   "metadata": {},
   "outputs": [
    {
     "name": "stdout",
     "output_type": "stream",
     "text": [
      "Mean increase in energy over no evs:  0.22323\n"
     ]
    }
   ],
   "source": [
    "ct = 0\n",
    "val = 0\n",
    "for control_idx in range(5):\n",
    "    for scen_idx in range(4):\n",
    "        val += vals[9, control_idx, scen_idx]\n",
    "        ct += 1\n",
    "val += vals[9, 5, 4]\n",
    "ct += 1\n",
    "mean_val = val / ct\n",
    "\n",
    "vals_shift_2019 = noev_scenario_2019.total_incl_noncombustion.sum()\n",
    "\n",
    "print('Mean increase in energy over no evs: ', np.round((mean_val - vals_shift_2019) / vals_shift_2019, 5))"
   ]
  }
 ],
 "metadata": {
  "kernelspec": {
   "display_name": "Python 3",
   "language": "python",
   "name": "python3"
  },
  "language_info": {
   "codemirror_mode": {
    "name": "ipython",
    "version": 3
   },
   "file_extension": ".py",
   "mimetype": "text/x-python",
   "name": "python",
   "nbconvert_exporter": "python",
   "pygments_lexer": "ipython3",
   "version": "3.7.4"
  }
 },
 "nbformat": 4,
 "nbformat_minor": 2
}
