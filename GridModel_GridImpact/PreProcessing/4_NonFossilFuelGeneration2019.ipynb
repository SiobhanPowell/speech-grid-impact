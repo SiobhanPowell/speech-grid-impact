{
 "cells": [
  {
   "cell_type": "markdown",
   "metadata": {},
   "source": [
    "Collect EIA data on generation from nonfossil fuel sources"
   ]
  },
  {
   "cell_type": "code",
   "execution_count": null,
   "metadata": {},
   "outputs": [],
   "source": [
    "import json\n",
    "import requests"
   ]
  },
  {
   "cell_type": "code",
   "execution_count": null,
   "metadata": {},
   "outputs": [],
   "source": [
    "all_data = pd.DataFrame({'CAL_COL':np.zeros((8760,))})\n",
    "for fuel in ['COL', 'WAT', 'NG', 'NUC', 'OTH', 'OIL', 'WND', 'SUN']:\n",
    "    for region in ['CAL', 'SW', 'NW']:\n",
    "        url = 'http://api.eia.gov/series/?api_key=f9839ba3cae2a9f5fae81a5ebe2eb98c&series_id=EBA.'+region+'-ALL.NG.'+fuel+'.HL'\n",
    "        r = requests.get(url)\n",
    "        j = r.json()\n",
    "        data_here = pd.DataFrame(j['series'][0]['data'], columns=['Timestamp', 'MWh'])\n",
    "        data_here['dt'] = pd.to_datetime(data_here['Timestamp'])\n",
    "        data_here = data_here[::-1].reset_index(drop = True).copy(deep=True)\n",
    "        dt_here = data_here['dt'].astype(str).str.split(' ', expand=True)\n",
    "        inds = np.where(pd.to_datetime(dt_here[0]).dt.year == 2019)[0]\n",
    "        all_data[region+'_'+fuel] = data_here.loc[inds]['MWh'].values\n"
   ]
  },
  {
   "cell_type": "code",
   "execution_count": null,
   "metadata": {},
   "outputs": [],
   "source": [
    "for fuel in ['COL', 'WAT', 'NG', 'NUC', 'OTH', 'OIL', 'WND', 'SUN']:\n",
    "    all_data['WECC_'+fuel] = all_data['SW_'+fuel] + all_data['NW_'+fuel] + all_data['CAL_'+fuel]\n",
    "all_data['WECC_combustion'] = all_data.loc[:, ['WECC_COL', 'WECC_NG', 'WECC_OIL', 'WECC_OTH']].sum(axis=1)\n",
    "all_data['WECC_notcombustion'] = all_data.loc[:, ['WECC_WAT', 'WECC_NUC', 'WECC_WND', 'WECC_SUN']].sum(axis=1)"
   ]
  },
  {
   "cell_type": "code",
   "execution_count": null,
   "metadata": {},
   "outputs": [],
   "source": [
    "all_data.to_csv('region_eia_generation_data_2019.csv')\n"
   ]
  }
 ],
 "metadata": {
  "kernelspec": {
   "display_name": "Python 3",
   "language": "python",
   "name": "python3"
  },
  "language_info": {
   "codemirror_mode": {
    "name": "ipython",
    "version": 3
   },
   "file_extension": ".py",
   "mimetype": "text/x-python",
   "name": "python",
   "nbconvert_exporter": "python",
   "pygments_lexer": "ipython3",
   "version": "3.7.4"
  }
 },
 "nbformat": 4,
 "nbformat_minor": 2
}
