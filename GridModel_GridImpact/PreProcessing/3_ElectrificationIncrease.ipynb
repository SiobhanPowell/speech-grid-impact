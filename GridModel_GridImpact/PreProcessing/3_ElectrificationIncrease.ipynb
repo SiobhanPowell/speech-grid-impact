{
 "cells": [
  {
   "cell_type": "code",
   "execution_count": null,
   "metadata": {},
   "outputs": [],
   "source": [
    "import pandas as pd"
   ]
  },
  {
   "cell_type": "code",
   "execution_count": null,
   "metadata": {},
   "outputs": [],
   "source": [
    "wecc_regions = pd.read_csv('wecc_counties_population.csv', index_col=0)"
   ]
  },
  {
   "cell_type": "markdown",
   "metadata": {},
   "source": [
    "# state level profiles from EFS"
   ]
  },
  {
   "cell_type": "code",
   "execution_count": null,
   "metadata": {},
   "outputs": [],
   "source": [
    "df = pd.read_csv('/Users/siobhanpowell/Downloads/EFSLoadProfile_Reference_Moderate.csv')\n",
    "efs_loads = pd.DataFrame({'Hour':np.arange(1, 8761)})\n",
    "for state in ['AZ', 'CA', 'CO', 'ID', 'MT', 'NE', 'NM', 'ND', 'NV', 'OK', 'OR', 'SD', 'TX', 'UT', 'WA', 'WY']:\n",
    "    for year in [2018, 2020, 2024, 2030, 2040, 2050]:\n",
    "        local_load = df.loc[(df['Year']==year)&(df['State']==state)&(~(df['Subsector']=='light-duty vehicles'))].groupby(by='LocalHourID').sum()['LoadMW']\n",
    "        efs_loads[state+'_'+str(year)+'_nonLDV'] = local_load.values\n",
    "        local_load = df.loc[(df['Year']==year)&(df['State']==state)&((df['Subsector']=='light-duty vehicles'))].groupby(by='LocalHourID').sum()['LoadMW']\n",
    "        efs_loads[state+'_'+str(year)+'_LDV'] = local_load.values"
   ]
  },
  {
   "cell_type": "markdown",
   "metadata": {},
   "source": [
    "# convert from state level to wecc level"
   ]
  },
  {
   "cell_type": "code",
   "execution_count": null,
   "metadata": {},
   "outputs": [],
   "source": [
    "states = np.sort(list(set(wecc_regions['State_name'])))\n",
    "state_shortforms = {'Arizona':'AZ', 'California':'CA', 'Colorado':'CO', 'Idaho':'ID', 'Montana':'MT', \n",
    "                    'Nebraska':'NE', 'Nevada':'NV', 'New Mexico':'NM', 'North Dakota':'ND', 'Oklahoma':'OK', \n",
    "                    'Oregon':'OR', 'South Dakota':'SD', 'Texas':'TX', 'Utah':'UT', 'Washington':'WA', 'Wyoming':'WY'}\n",
    "for year in [2018, 2020, 2024, 2030, 2040, 2050]:\n",
    "    efs_loads['WECC_'+str(year)+'_LDV'] = 0\n",
    "    efs_loads['WECC_'+str(year)+'_nonLDV'] = 0\n",
    "    for state in states:\n",
    "        frac = wecc_regions.loc[(wecc_regions['State_name']==state)]['Population'].sum() / regions1.loc[regions1['State_name']==state]['Population'].sum()\n",
    "        efs_loads['WECC_'+str(year)+'_LDV'] += frac*efs_loads[state_shortforms[state]+'_'+str(year)+'_LDV'].values\n",
    "        efs_loads['WECC_'+str(year)+'_nonLDV'] += frac*efs_loads[state_shortforms[state]+'_'+str(year)+'_nonLDV'].values\n",
    "          \n",
    "# efs_loads.to_csv('electrification_futures_baseline.csv')"
   ]
  },
  {
   "cell_type": "code",
   "execution_count": null,
   "metadata": {},
   "outputs": [],
   "source": [
    "# efs_loads = pd.read_csv('electrification_futures_baseline.csv', index_col=0)"
   ]
  },
  {
   "cell_type": "markdown",
   "metadata": {},
   "source": [
    "# extract scaling factor: "
   ]
  },
  {
   "cell_type": "code",
   "execution_count": null,
   "metadata": {},
   "outputs": [],
   "source": [
    "print((efs_loads['WECC_2030_nonLDV'] / efs_loads['WECC_2018_nonLDV']).mean())\n",
    "print((efs_loads['WECC_2030_nonLDV'] / efs_loads['WECC_2018_nonLDV']).median())"
   ]
  }
 ],
 "metadata": {
  "kernelspec": {
   "display_name": "Python 3",
   "language": "python",
   "name": "python3"
  },
  "language_info": {
   "codemirror_mode": {
    "name": "ipython",
    "version": 3
   },
   "file_extension": ".py",
   "mimetype": "text/x-python",
   "name": "python",
   "nbconvert_exporter": "python",
   "pygments_lexer": "ipython3",
   "version": "3.7.4"
  }
 },
 "nbformat": 4,
 "nbformat_minor": 2
}
