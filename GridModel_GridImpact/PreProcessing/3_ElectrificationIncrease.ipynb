{
 "cells": [
  {
   "cell_type": "code",
   "execution_count": 1,
   "metadata": {},
   "outputs": [],
   "source": [
    "import pandas as pd\n",
    "import numpy as np"
   ]
  },
  {
   "cell_type": "markdown",
   "metadata": {},
   "source": [
    "# state level profiles from EFS"
   ]
  },
  {
   "cell_type": "code",
   "execution_count": null,
   "metadata": {},
   "outputs": [],
   "source": [
    "wecc_regions = pd.read_csv('../InputData/wecc_counties_population.csv', index_col=0)\n",
    "df = pd.read_csv('../InputData/EFSLoadProfile_Reference_Moderate.csv')"
   ]
  },
  {
   "cell_type": "code",
   "execution_count": 11,
   "metadata": {},
   "outputs": [
    {
     "data": {
      "text/plain": [
       "array([2018, 2020, 2024, 2030, 2040, 2050])"
      ]
     },
     "execution_count": 11,
     "metadata": {},
     "output_type": "execute_result"
    }
   ],
   "source": [
    "df['Year'].unique()"
   ]
  },
  {
   "cell_type": "code",
   "execution_count": 12,
   "metadata": {},
   "outputs": [],
   "source": [
    "efs_loads = pd.DataFrame({'Hour':np.arange(1, 8761)})\n",
    "for state in ['AZ', 'CA', 'CO', 'ID', 'MT', 'NE', 'NM', 'ND', 'NV', 'OK', 'OR', 'SD', 'TX', 'UT', 'WA', 'WY']:\n",
    "    for year in [2018, 2030, 2040]:\n",
    "#     for year in [2018, 2020, 2024, 2030, 2040, 2050]:\n",
    "        local_load = df.loc[(df['Year']==year)&(df['State']==state)&(~(df['Subsector']=='light-duty vehicles'))].groupby(by='LocalHourID').sum()['LoadMW']\n",
    "        efs_loads[state+'_'+str(year)+'_nonLDV'] = local_load.values\n",
    "        local_load = df.loc[(df['Year']==year)&(df['State']==state)&((df['Subsector']=='light-duty vehicles'))].groupby(by='LocalHourID').sum()['LoadMW']\n",
    "        efs_loads[state+'_'+str(year)+'_LDV'] = local_load.values"
   ]
  },
  {
   "cell_type": "markdown",
   "metadata": {},
   "source": [
    "# convert from state level to wecc level"
   ]
  },
  {
   "cell_type": "code",
   "execution_count": 15,
   "metadata": {},
   "outputs": [
    {
     "data": {
      "text/html": [
       "<div>\n",
       "<style scoped>\n",
       "    .dataframe tbody tr th:only-of-type {\n",
       "        vertical-align: middle;\n",
       "    }\n",
       "\n",
       "    .dataframe tbody tr th {\n",
       "        vertical-align: top;\n",
       "    }\n",
       "\n",
       "    .dataframe thead th {\n",
       "        text-align: right;\n",
       "    }\n",
       "</style>\n",
       "<table border=\"1\" class=\"dataframe\">\n",
       "  <thead>\n",
       "    <tr style=\"text-align: right;\">\n",
       "      <th></th>\n",
       "      <th>State_name</th>\n",
       "      <th>Geo_FIPS</th>\n",
       "      <th>County_name</th>\n",
       "      <th>Population</th>\n",
       "      <th>ID</th>\n",
       "      <th>Region_name</th>\n",
       "    </tr>\n",
       "  </thead>\n",
       "  <tbody>\n",
       "    <tr>\n",
       "      <td>0</td>\n",
       "      <td>Arizona</td>\n",
       "      <td>4001</td>\n",
       "      <td>Apache County</td>\n",
       "      <td>71522</td>\n",
       "      <td>28503</td>\n",
       "      <td>Region_NW</td>\n",
       "    </tr>\n",
       "    <tr>\n",
       "      <td>1</td>\n",
       "      <td>Arizona</td>\n",
       "      <td>4001</td>\n",
       "      <td>Apache County</td>\n",
       "      <td>71522</td>\n",
       "      <td>25471</td>\n",
       "      <td>Region_SW</td>\n",
       "    </tr>\n",
       "    <tr>\n",
       "      <td>2</td>\n",
       "      <td>Arizona</td>\n",
       "      <td>4003</td>\n",
       "      <td>Cochise County</td>\n",
       "      <td>126279</td>\n",
       "      <td>25471</td>\n",
       "      <td>Region_SW</td>\n",
       "    </tr>\n",
       "    <tr>\n",
       "      <td>3</td>\n",
       "      <td>Arizona</td>\n",
       "      <td>4005</td>\n",
       "      <td>Coconino County</td>\n",
       "      <td>140217</td>\n",
       "      <td>25471</td>\n",
       "      <td>Region_SW</td>\n",
       "    </tr>\n",
       "    <tr>\n",
       "      <td>4</td>\n",
       "      <td>Arizona</td>\n",
       "      <td>4005</td>\n",
       "      <td>Coconino County</td>\n",
       "      <td>140217</td>\n",
       "      <td>28503</td>\n",
       "      <td>Region_NW</td>\n",
       "    </tr>\n",
       "    <tr>\n",
       "      <td>...</td>\n",
       "      <td>...</td>\n",
       "      <td>...</td>\n",
       "      <td>...</td>\n",
       "      <td>...</td>\n",
       "      <td>...</td>\n",
       "      <td>...</td>\n",
       "    </tr>\n",
       "    <tr>\n",
       "      <td>529</td>\n",
       "      <td>Wyoming</td>\n",
       "      <td>56037</td>\n",
       "      <td>Sweetwater County</td>\n",
       "      <td>44117</td>\n",
       "      <td>28503</td>\n",
       "      <td>Region_NW</td>\n",
       "    </tr>\n",
       "    <tr>\n",
       "      <td>530</td>\n",
       "      <td>Wyoming</td>\n",
       "      <td>56039</td>\n",
       "      <td>Teton County</td>\n",
       "      <td>23059</td>\n",
       "      <td>28503</td>\n",
       "      <td>Region_NW</td>\n",
       "    </tr>\n",
       "    <tr>\n",
       "      <td>531</td>\n",
       "      <td>Wyoming</td>\n",
       "      <td>56041</td>\n",
       "      <td>Uinta County</td>\n",
       "      <td>20609</td>\n",
       "      <td>28503</td>\n",
       "      <td>Region_NW</td>\n",
       "    </tr>\n",
       "    <tr>\n",
       "      <td>532</td>\n",
       "      <td>Wyoming</td>\n",
       "      <td>56043</td>\n",
       "      <td>Washakie County</td>\n",
       "      <td>8129</td>\n",
       "      <td>28503</td>\n",
       "      <td>Region_NW</td>\n",
       "    </tr>\n",
       "    <tr>\n",
       "      <td>533</td>\n",
       "      <td>Wyoming</td>\n",
       "      <td>56045</td>\n",
       "      <td>Weston County</td>\n",
       "      <td>7100</td>\n",
       "      <td>28503</td>\n",
       "      <td>Region_NW</td>\n",
       "    </tr>\n",
       "  </tbody>\n",
       "</table>\n",
       "<p>534 rows × 6 columns</p>\n",
       "</div>"
      ],
      "text/plain": [
       "    State_name  Geo_FIPS        County_name  Population     ID Region_name\n",
       "0      Arizona      4001      Apache County       71522  28503   Region_NW\n",
       "1      Arizona      4001      Apache County       71522  25471   Region_SW\n",
       "2      Arizona      4003     Cochise County      126279  25471   Region_SW\n",
       "3      Arizona      4005    Coconino County      140217  25471   Region_SW\n",
       "4      Arizona      4005    Coconino County      140217  28503   Region_NW\n",
       "..         ...       ...                ...         ...    ...         ...\n",
       "529    Wyoming     56037  Sweetwater County       44117  28503   Region_NW\n",
       "530    Wyoming     56039       Teton County       23059  28503   Region_NW\n",
       "531    Wyoming     56041       Uinta County       20609  28503   Region_NW\n",
       "532    Wyoming     56043    Washakie County        8129  28503   Region_NW\n",
       "533    Wyoming     56045      Weston County        7100  28503   Region_NW\n",
       "\n",
       "[534 rows x 6 columns]"
      ]
     },
     "execution_count": 15,
     "metadata": {},
     "output_type": "execute_result"
    }
   ],
   "source": [
    "wecc_regions"
   ]
  },
  {
   "cell_type": "code",
   "execution_count": 17,
   "metadata": {},
   "outputs": [],
   "source": [
    "regions1 = pd.read_csv('../InputData/county_eiaregion_population_mapping.csv', index_col=0)"
   ]
  },
  {
   "cell_type": "code",
   "execution_count": 18,
   "metadata": {},
   "outputs": [],
   "source": [
    "states = np.sort(list(set(wecc_regions['State_name'])))\n",
    "state_shortforms = {'Arizona':'AZ', 'California':'CA', 'Colorado':'CO', 'Idaho':'ID', 'Montana':'MT', \n",
    "                    'Nebraska':'NE', 'Nevada':'NV', 'New Mexico':'NM', 'North Dakota':'ND', 'Oklahoma':'OK', \n",
    "                    'Oregon':'OR', 'South Dakota':'SD', 'Texas':'TX', 'Utah':'UT', 'Washington':'WA', 'Wyoming':'WY'}\n",
    "# for year in [2018, 2020, 2024, 2030, 2040, 2050]:\n",
    "for year in [2018, 2030, 2040]:\n",
    "    efs_loads['WECC_'+str(year)+'_LDV'] = 0\n",
    "    efs_loads['WECC_'+str(year)+'_nonLDV'] = 0\n",
    "    for state in states:\n",
    "        frac = wecc_regions.loc[(wecc_regions['State_name']==state)]['Population'].sum() / regions1.loc[regions1['State_name']==state]['Population'].sum()\n",
    "        efs_loads['WECC_'+str(year)+'_LDV'] += frac*efs_loads[state_shortforms[state]+'_'+str(year)+'_LDV'].values\n",
    "        efs_loads['WECC_'+str(year)+'_nonLDV'] += frac*efs_loads[state_shortforms[state]+'_'+str(year)+'_nonLDV'].values\n"
   ]
  },
  {
   "cell_type": "markdown",
   "metadata": {},
   "source": [
    "# extract scaling factor: "
   ]
  },
  {
   "cell_type": "code",
   "execution_count": 19,
   "metadata": {},
   "outputs": [
    {
     "name": "stdout",
     "output_type": "stream",
     "text": [
      "1.1031437192139566\n",
      "1.104138497781564\n"
     ]
    }
   ],
   "source": [
    "print((efs_loads['WECC_2030_nonLDV'] / efs_loads['WECC_2018_nonLDV']).mean())\n",
    "print((efs_loads['WECC_2030_nonLDV'] / efs_loads['WECC_2018_nonLDV']).median())"
   ]
  },
  {
   "cell_type": "code",
   "execution_count": 20,
   "metadata": {},
   "outputs": [
    {
     "name": "stdout",
     "output_type": "stream",
     "text": [
      "1.2135844334985646\n",
      "1.2150301835420632\n"
     ]
    }
   ],
   "source": [
    "print((efs_loads['WECC_2040_nonLDV'] / efs_loads['WECC_2018_nonLDV']).mean())\n",
    "print((efs_loads['WECC_2040_nonLDV'] / efs_loads['WECC_2018_nonLDV']).median())"
   ]
  },
  {
   "cell_type": "code",
   "execution_count": 21,
   "metadata": {},
   "outputs": [],
   "source": [
    "efs_loads['WECC_2035_nonLDV'] = (1/2)*(efs_loads['WECC_2030_nonLDV'] + efs_loads['WECC_2040_nonLDV'])"
   ]
  },
  {
   "cell_type": "code",
   "execution_count": 22,
   "metadata": {},
   "outputs": [
    {
     "name": "stdout",
     "output_type": "stream",
     "text": [
      "1.1583640763562568\n",
      "1.1595842973226727\n"
     ]
    }
   ],
   "source": [
    "print((efs_loads['WECC_2035_nonLDV'] / efs_loads['WECC_2018_nonLDV']).mean())\n",
    "print((efs_loads['WECC_2035_nonLDV'] / efs_loads['WECC_2018_nonLDV']).median())"
   ]
  }
 ],
 "metadata": {
  "kernelspec": {
   "display_name": "Python 3",
   "language": "python",
   "name": "python3"
  },
  "language_info": {
   "codemirror_mode": {
    "name": "ipython",
    "version": 3
   },
   "file_extension": ".py",
   "mimetype": "text/x-python",
   "name": "python",
   "nbconvert_exporter": "python",
   "pygments_lexer": "ipython3",
   "version": "3.7.4"
  }
 },
 "nbformat": 4,
 "nbformat_minor": 2
}
