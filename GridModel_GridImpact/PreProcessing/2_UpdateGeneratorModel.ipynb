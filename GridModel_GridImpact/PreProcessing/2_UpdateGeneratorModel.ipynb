{
 "cells": [
  {
   "cell_type": "markdown",
   "metadata": {},
   "source": [
    "Based on code by Thomas Deetjen (https://github.com/tdeetjen/simple_dispatch), changed by Siobhan Powell"
   ]
  },
  {
   "cell_type": "code",
   "execution_count": 1,
   "metadata": {},
   "outputs": [],
   "source": [
    "import os\n",
    "os.chdir('..')\n",
    "import pickle\n",
    "import scipy\n",
    "import os.path\n",
    "import pandas\n",
    "from simple_dispatch import generatorData\n",
    "from simple_dispatch import generatorDataShort\n",
    "import time\n",
    "import numpy as np"
   ]
  },
  {
   "cell_type": "markdown",
   "metadata": {},
   "source": [
    "# File locations: "
   ]
  },
  {
   "cell_type": "code",
   "execution_count": 2,
   "metadata": {},
   "outputs": [],
   "source": [
    "run_year = 2019\n",
    "ferc714_part2_schedule6_csv = 'InputData/Part 2 Schedule 6 - Balancing Authority Hourly System Lambda.csv'\n",
    "ferc714IDs_csv='InputData/Respondent IDs Cleaned.csv'\n",
    "cems_folder_path ='InputData/CEMS'\n",
    "easiur_csv_path ='InputData/egrid_2019_plant_easiur.csv'\n",
    "fuel_commodity_prices_xlsx = 'InputData/fuel_default_prices.xlsx'\n",
    "egrid_data_xlsx = 'InputData/egrid2019_data.xlsx'\n",
    "eia923_schedule5_xlsx = 'InputData/EIA923_Schedules_2_3_4_5_M_12_2019_Final_Revision.xlsx'\n",
    "\n",
    "nerc_region = 'WECC'"
   ]
  },
  {
   "cell_type": "code",
   "execution_count": null,
   "metadata": {},
   "outputs": [],
   "source": [
    "tic = time.time()\n",
    "gd = generatorData(nerc_region, egrid_fname=egrid_data_xlsx, eia923_fname=eia923_schedule5_xlsx, ferc714IDs_fname=ferc714IDs_csv, ferc714_fname=ferc714_part2_schedule6_csv, cems_folder=cems_folder_path, easiur_fname=easiur_csv_path, include_easiur_damages=True, year=run_year, fuel_commodity_prices_excel_dir=fuel_commodity_prices_xlsx, hist_downtime=False, coal_min_downtime = 12, cems_validation_run=False)   \n",
    "toc = time.time()\n"
   ]
  },
  {
   "cell_type": "code",
   "execution_count": 10,
   "metadata": {},
   "outputs": [
    {
     "name": "stdout",
     "output_type": "stream",
     "text": [
      "Finished in 4.75 minutes. Saving.\n"
     ]
    }
   ],
   "source": [
    "print('Finished in '+str(np.round((toc-tic)/60, 2))+' minutes. Saving.')"
   ]
  },
  {
   "cell_type": "code",
   "execution_count": 9,
   "metadata": {},
   "outputs": [],
   "source": [
    "gd_short = generatorDataShort(gd)"
   ]
  },
  {
   "cell_type": "code",
   "execution_count": 12,
   "metadata": {},
   "outputs": [
    {
     "name": "stdout",
     "output_type": "stream",
     "text": [
      "Saved.\n"
     ]
    }
   ],
   "source": [
    "pickle.dump(gd_short, open('IntermediateOutputs/generator_data_short_WECC_2019.obj', 'wb'))\n",
    "print('Saved.')"
   ]
  }
 ],
 "metadata": {
  "kernelspec": {
   "display_name": "Python 3",
   "language": "python",
   "name": "python3"
  },
  "language_info": {
   "codemirror_mode": {
    "name": "ipython",
    "version": 3
   },
   "file_extension": ".py",
   "mimetype": "text/x-python",
   "name": "python",
   "nbconvert_exporter": "python",
   "pygments_lexer": "ipython3",
   "version": "3.7.4"
  }
 },
 "nbformat": 4,
 "nbformat_minor": 2
}
