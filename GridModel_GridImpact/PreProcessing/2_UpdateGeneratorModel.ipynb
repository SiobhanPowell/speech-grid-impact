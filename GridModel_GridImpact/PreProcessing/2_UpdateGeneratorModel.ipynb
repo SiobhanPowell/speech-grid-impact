{
 "cells": [
  {
   "cell_type": "markdown",
   "metadata": {},
   "source": [
    "Based on code by Thomas Deetjen (https://github.com/tdeetjen/simple_dispatch), changed by Siobhan Powell"
   ]
  },
  {
   "cell_type": "code",
   "execution_count": 1,
   "metadata": {},
   "outputs": [],
   "source": [
    "import os\n",
    "os.chdir('..')\n",
    "import pickle\n",
    "import scipy\n",
    "import os.path\n",
    "import pandas\n",
    "from simple_dispatch import generatorData\n",
    "from simple_dispatch import generatorDataShort\n",
    "import time\n",
    "import numpy as np"
   ]
  },
  {
   "cell_type": "markdown",
   "metadata": {},
   "source": [
    "# File locations: "
   ]
  },
  {
   "cell_type": "code",
   "execution_count": 2,
   "metadata": {},
   "outputs": [],
   "source": [
    "run_year = 2019\n",
    "ferc714_part2_schedule6_csv = 'InputData/Part 2 Schedule 6 - Balancing Authority Hourly System Lambda.csv'\n",
    "ferc714IDs_csv='InputData/Respondent IDs Cleaned.csv'\n",
    "cems_folder_path ='InputData/CEMS'\n",
    "easiur_csv_path ='InputData/egrid_2019_plant_easiur.csv'\n",
    "fuel_commodity_prices_xlsx = 'InputData/fuel_default_prices.xlsx'\n",
    "egrid_data_xlsx = 'InputData/egrid2019_data.xlsx'\n",
    "eia923_schedule5_xlsx = 'InputData/EIA923_Schedules_2_3_4_5_M_12_2019_Final_Revision.xlsx'\n",
    "\n",
    "nerc_region = 'WECC'"
   ]
  },
  {
   "cell_type": "code",
   "execution_count": 4,
   "metadata": {},
   "outputs": [
    {
     "name": "stdout",
     "output_type": "stream",
     "text": [
      "Reading in unit level data from eGRID...\n",
      "Reading in generator level data from eGRID...\n",
      "Reading in plant level data from eGRID...\n",
      "Reading in data from EIA Form 923...\n",
      "Reading in data from FERC Form 714...\n",
      "Cleaning eGRID Data...\n",
      "Compiling CEMS data...\n",
      "ca: 01\n",
      "ca: 02\n"
     ]
    },
    {
     "name": "stderr",
     "output_type": "stream",
     "text": [
      "/opt/anaconda3/lib/python3.7/site-packages/IPython/core/interactiveshell.py:3326: DtypeWarning: Columns (10,12,14,16,18,20) have mixed types. Specify dtype option on import or set low_memory=False.\n",
      "  exec(code_obj, self.user_global_ns, self.user_ns)\n"
     ]
    },
    {
     "name": "stdout",
     "output_type": "stream",
     "text": [
      "ca: 03\n",
      "ca: 04\n",
      "ca: 05\n",
      "ca: 06\n",
      "ca: 07\n",
      "ca: 08\n",
      "ca: 09\n",
      "ca: 10\n",
      "ca: 11\n",
      "ca: 12\n",
      "or: 01\n",
      "or: 02\n",
      "or: 03\n",
      "or: 04\n",
      "or: 05\n",
      "or: 06\n",
      "or: 07\n",
      "or: 08\n",
      "or: 09\n",
      "or: 10\n",
      "or: 11\n",
      "or: 12\n",
      "wa: 01\n",
      "wa: 02\n",
      "wa: 03\n",
      "wa: 04\n",
      "wa: 05\n",
      "wa: 06\n",
      "wa: 07\n",
      "wa: 08\n",
      "wa: 09\n",
      "wa: 10\n",
      "wa: 11\n",
      "wa: 12\n",
      "nv: 01\n",
      "nv: 02\n",
      "nv: 03\n",
      "nv: 04\n",
      "nv: 05\n",
      "nv: 06\n",
      "nv: 07\n",
      "nv: 08\n",
      "nv: 09\n",
      "nv: 10\n",
      "nv: 11\n",
      "nv: 12\n",
      "mt: 01\n",
      "mt: 02\n",
      "mt: 03\n",
      "mt: 04\n",
      "mt: 05\n",
      "mt: 06\n",
      "mt: 07\n",
      "mt: 08\n",
      "mt: 09\n",
      "mt: 10\n",
      "mt: 11\n",
      "mt: 12\n",
      "id: 01\n",
      "id: 02\n",
      "id: 03\n",
      "id: 04\n",
      "id: 05\n",
      "id: 06\n",
      "id: 07\n",
      "id: 08\n",
      "id: 09\n",
      "id: 10\n",
      "id: 11\n",
      "id: 12\n",
      "wy: 01\n",
      "wy: 02\n",
      "wy: 03\n",
      "wy: 04\n",
      "wy: 05\n",
      "wy: 06\n",
      "wy: 07\n",
      "wy: 08\n",
      "wy: 09\n",
      "wy: 10\n",
      "wy: 11\n",
      "wy: 12\n",
      "ut: 01\n",
      "ut: 02\n",
      "ut: 03\n",
      "ut: 04\n",
      "ut: 05\n",
      "ut: 06\n",
      "ut: 07\n",
      "ut: 08\n",
      "ut: 09\n",
      "ut: 10\n",
      "ut: 11\n",
      "ut: 12\n",
      "co: 01\n",
      "co: 02\n",
      "co: 03\n",
      "co: 04\n",
      "co: 05\n",
      "co: 06\n",
      "co: 07\n",
      "co: 08\n",
      "co: 09\n",
      "co: 10\n",
      "co: 11\n",
      "co: 12\n",
      "az: 01\n",
      "az: 02\n",
      "az: 03\n",
      "az: 04\n",
      "az: 05\n",
      "az: 06\n",
      "az: 07\n",
      "az: 08\n",
      "az: 09\n",
      "az: 10\n",
      "az: 11\n",
      "az: 12\n",
      "nm: 01\n",
      "nm: 02\n",
      "nm: 03\n",
      "nm: 04\n",
      "nm: 05\n",
      "nm: 06\n",
      "nm: 07\n",
      "nm: 08\n",
      "nm: 09\n",
      "nm: 10\n",
      "nm: 11\n",
      "nm: 12\n",
      "tx: 01\n",
      "tx: 02\n",
      "tx: 03\n",
      "tx: 04\n",
      "tx: 05\n",
      "tx: 06\n",
      "tx: 07\n",
      "tx: 08\n",
      "tx: 09\n",
      "tx: 10\n",
      "tx: 11\n",
      "tx: 12\n"
     ]
    },
    {
     "name": "stderr",
     "output_type": "stream",
     "text": [
      "/Users/siobhanpowell/Documents/SimpleDispatch/FirstVersion/simple_dispatch-master/GridModel_GridImpact/simple_dispatch.py:407: FutureWarning: Sorting because non-concatenation axis is not aligned. A future version\n",
      "of pandas will change to not sort by default.\n",
      "\n",
      "To accept the future behavior, pass 'sort=False'.\n",
      "\n",
      "To retain the current behavior and silence the warning, pass 'sort=True'.\n",
      "\n",
      "  df_orispl_unit = pandas.concat([df_orispl_unit, df_leftovers])\n"
     ]
    },
    {
     "name": "stdout",
     "output_type": "stream",
     "text": [
      "Adding environmental damages...\n",
      "Calculating demand data from CEMS...\n",
      "Adding historical electricity prices...\n",
      "Creating \"demand_data\" time series...\n"
     ]
    }
   ],
   "source": [
    "tic = time.time()\n",
    "gd = generatorData(nerc_region, egrid_fname=egrid_data_xlsx, eia923_fname=eia923_schedule5_xlsx, ferc714IDs_fname=ferc714IDs_csv, ferc714_fname=ferc714_part2_schedule6_csv, cems_folder=cems_folder_path, easiur_fname=easiur_csv_path, include_easiur_damages=True, year=run_year, fuel_commodity_prices_excel_dir=fuel_commodity_prices_xlsx, hist_downtime=False, coal_min_downtime = 12, cems_validation_run=False, \n",
    "                   tz_aware=True)   \n",
    "toc = time.time()\n"
   ]
  },
  {
   "cell_type": "code",
   "execution_count": 5,
   "metadata": {},
   "outputs": [
    {
     "name": "stdout",
     "output_type": "stream",
     "text": [
      "Finished in 4.62 minutes. Saving.\n"
     ]
    }
   ],
   "source": [
    "print('Finished in '+str(np.round((toc-tic)/60, 2))+' minutes. Saving.')"
   ]
  },
  {
   "cell_type": "code",
   "execution_count": 6,
   "metadata": {},
   "outputs": [],
   "source": [
    "gd_short = generatorDataShort(gd)"
   ]
  },
  {
   "cell_type": "code",
   "execution_count": 7,
   "metadata": {},
   "outputs": [
    {
     "name": "stdout",
     "output_type": "stream",
     "text": [
      "Saved.\n"
     ]
    }
   ],
   "source": [
    "pickle.dump(gd_short, open('IntermediateOutputs/generator_data_short_WECC_2019.obj', 'wb'))\n",
    "print('Saved.')"
   ]
  }
 ],
 "metadata": {
  "kernelspec": {
   "display_name": "Python 3",
   "language": "python",
   "name": "python3"
  },
  "language_info": {
   "codemirror_mode": {
    "name": "ipython",
    "version": 3
   },
   "file_extension": ".py",
   "mimetype": "text/x-python",
   "name": "python",
   "nbconvert_exporter": "python",
   "pygments_lexer": "ipython3",
   "version": "3.7.4"
  }
 },
 "nbformat": 4,
 "nbformat_minor": 2
}
